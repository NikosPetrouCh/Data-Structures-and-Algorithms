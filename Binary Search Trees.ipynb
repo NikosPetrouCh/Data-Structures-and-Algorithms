{
 "cells": [
  {
   "cell_type": "code",
   "execution_count": 1,
   "id": "64c6ac04",
   "metadata": {},
   "outputs": [],
   "source": [
    "class User:\n",
    "    pass"
   ]
  },
  {
   "cell_type": "code",
   "execution_count": 2,
   "id": "955c0826",
   "metadata": {},
   "outputs": [],
   "source": [
    "user1 = User()"
   ]
  },
  {
   "cell_type": "code",
   "execution_count": 3,
   "id": "24a1a57a",
   "metadata": {},
   "outputs": [
    {
     "data": {
      "text/plain": [
       "<__main__.User at 0x1b85428ac50>"
      ]
     },
     "execution_count": 3,
     "metadata": {},
     "output_type": "execute_result"
    }
   ],
   "source": [
    "user1"
   ]
  },
  {
   "cell_type": "code",
   "execution_count": 4,
   "id": "4efda541",
   "metadata": {},
   "outputs": [
    {
     "data": {
      "text/plain": [
       "__main__.User"
      ]
     },
     "execution_count": 4,
     "metadata": {},
     "output_type": "execute_result"
    }
   ],
   "source": [
    "type(user1)"
   ]
  },
  {
   "cell_type": "code",
   "execution_count": 5,
   "id": "6b346663",
   "metadata": {},
   "outputs": [],
   "source": [
    "class User:\n",
    "    def __init__(self, username, name, email):\n",
    "        self.username = username\n",
    "        self.name = name \n",
    "        self. email = email\n",
    "        print('User created')"
   ]
  },
  {
   "cell_type": "code",
   "execution_count": 6,
   "id": "6cc3397c",
   "metadata": {},
   "outputs": [
    {
     "name": "stdout",
     "output_type": "stream",
     "text": [
      "User created\n"
     ]
    }
   ],
   "source": [
    "user2 = User('john', 'John Doe', 'John@doe.com')"
   ]
  },
  {
   "cell_type": "code",
   "execution_count": 7,
   "id": "c16ae58f",
   "metadata": {},
   "outputs": [
    {
     "data": {
      "text/plain": [
       "<__main__.User at 0x1b854277d90>"
      ]
     },
     "execution_count": 7,
     "metadata": {},
     "output_type": "execute_result"
    }
   ],
   "source": [
    "user2"
   ]
  },
  {
   "cell_type": "code",
   "execution_count": 8,
   "id": "0bc7780a",
   "metadata": {},
   "outputs": [
    {
     "data": {
      "text/plain": [
       "'John Doe'"
      ]
     },
     "execution_count": 8,
     "metadata": {},
     "output_type": "execute_result"
    }
   ],
   "source": [
    "user2.name"
   ]
  },
  {
   "cell_type": "code",
   "execution_count": 9,
   "id": "74d2e2a4",
   "metadata": {},
   "outputs": [
    {
     "data": {
      "text/plain": [
       "('John@doe.com', 'john')"
      ]
     },
     "execution_count": 9,
     "metadata": {},
     "output_type": "execute_result"
    }
   ],
   "source": [
    "user2.email, user2.username "
   ]
  },
  {
   "cell_type": "code",
   "execution_count": 10,
   "id": "2b4b506a",
   "metadata": {},
   "outputs": [],
   "source": [
    "class User:\n",
    "    def __init__(self, username, name, email):\n",
    "        self.username = username\n",
    "        self.name = name \n",
    "        self. email = email\n",
    "        print('User created')\n",
    "    def introduce_yourself (self, guest_name):\n",
    "        print(\"Hi {}, I'am{}! Contact me at {}.\".format(guest_name, self.name, self.email))"
   ]
  },
  {
   "cell_type": "code",
   "execution_count": 11,
   "id": "66019e1a",
   "metadata": {},
   "outputs": [
    {
     "name": "stdout",
     "output_type": "stream",
     "text": [
      "User created\n"
     ]
    }
   ],
   "source": [
    "user3 = User('Jane', 'Jane Doe', 'Jane@doe.com')"
   ]
  },
  {
   "cell_type": "code",
   "execution_count": 12,
   "id": "4a9eabdb",
   "metadata": {},
   "outputs": [
    {
     "name": "stdout",
     "output_type": "stream",
     "text": [
      "Hi David, I'amJane Doe! Contact me at Jane@doe.com.\n"
     ]
    }
   ],
   "source": [
    "user3.introduce_yourself('David')"
   ]
  },
  {
   "cell_type": "code",
   "execution_count": 13,
   "id": "1acb037b",
   "metadata": {},
   "outputs": [],
   "source": [
    "class User:\n",
    "    def __init__(self, username, name, email):\n",
    "        self.username = username\n",
    "        self.name = name \n",
    "        self. email = email\n",
    "        print('User created')\n",
    "    def introduce_yourself (self, guest_name):\n",
    "        print(\"Hi {}, I'am{}! Contact me at {}.\".format(guest_name, self.name, self.email))\n",
    "    def __repr__(self):\n",
    "        return \"User(username='{}', name = '{}', email = '{}')\".format(self.username, self.name, self.email)\n",
    "    def __str__(self):\n",
    "        return self.__repr__()"
   ]
  },
  {
   "cell_type": "code",
   "execution_count": 14,
   "id": "25d6c974",
   "metadata": {},
   "outputs": [
    {
     "name": "stdout",
     "output_type": "stream",
     "text": [
      "User created\n"
     ]
    }
   ],
   "source": [
    "user4 = User('jane', 'Jane Doe', 'jane@doe.com')"
   ]
  },
  {
   "cell_type": "code",
   "execution_count": 15,
   "id": "64ee7504",
   "metadata": {},
   "outputs": [
    {
     "data": {
      "text/plain": [
       "User(username='jane', name = 'Jane Doe', email = 'jane@doe.com')"
      ]
     },
     "execution_count": 15,
     "metadata": {},
     "output_type": "execute_result"
    }
   ],
   "source": [
    "user4"
   ]
  },
  {
   "cell_type": "code",
   "execution_count": 16,
   "id": "7ae896b1",
   "metadata": {},
   "outputs": [],
   "source": [
    "class UserDatabase:\n",
    "    def insert (self, user):\n",
    "        pass\n",
    "    def find (self, username):\n",
    "        pass\n",
    "    def update (self,user):\n",
    "        pass\n",
    "    def list__all(self):\n",
    "        pass"
   ]
  },
  {
   "cell_type": "code",
   "execution_count": 17,
   "id": "6214373d",
   "metadata": {},
   "outputs": [
    {
     "name": "stdout",
     "output_type": "stream",
     "text": [
      "User created\n",
      "User created\n",
      "User created\n",
      "User created\n",
      "User created\n",
      "User created\n",
      "User created\n"
     ]
    }
   ],
   "source": [
    "aakash = User('aakash', 'Aakash Rai', 'aakash@example.com')\n",
    "biraj = User('biraj', 'Biraj Das', 'biraj@example.com')\n",
    "hemanth = User('hemanth', 'Hemanth Jain', 'hemanth@example.com')\n",
    "jadhesh = User('jadhesh', 'Jadhesh Verma', 'jadhesh@example.com')\n",
    "siddhant = User('siddhant', 'Siddhant Sinha', 'siddhant@example.com')\n",
    "sonaksh = User('sonaksh', 'Sonaksh Kumar', 'sonaksh@example.com')\n",
    "vishal = User('vishal', 'Vishal Goel', 'vishal@example.com')"
   ]
  },
  {
   "cell_type": "code",
   "execution_count": 18,
   "id": "9d3e1b0d",
   "metadata": {},
   "outputs": [],
   "source": [
    "users = [aakash, biraj, hemanth, jadhesh, siddhant, sonaksh, vishal]"
   ]
  },
  {
   "cell_type": "code",
   "execution_count": 19,
   "id": "b9fa24fb",
   "metadata": {},
   "outputs": [
    {
     "data": {
      "text/plain": [
       "('biraj', 'biraj@example.com', 'Biraj Das')"
      ]
     },
     "execution_count": 19,
     "metadata": {},
     "output_type": "execute_result"
    }
   ],
   "source": [
    "biraj.username, biraj.email, biraj.name"
   ]
  },
  {
   "cell_type": "code",
   "execution_count": 20,
   "id": "31f30fe2",
   "metadata": {},
   "outputs": [
    {
     "name": "stdout",
     "output_type": "stream",
     "text": [
      "User(username='aakash', name = 'Aakash Rai', email = 'aakash@example.com')\n"
     ]
    }
   ],
   "source": [
    "print(aakash)"
   ]
  },
  {
   "cell_type": "code",
   "execution_count": 21,
   "id": "b3ef52f3",
   "metadata": {},
   "outputs": [
    {
     "data": {
      "text/plain": [
       "[User(username='aakash', name = 'Aakash Rai', email = 'aakash@example.com'),\n",
       " User(username='biraj', name = 'Biraj Das', email = 'biraj@example.com'),\n",
       " User(username='hemanth', name = 'Hemanth Jain', email = 'hemanth@example.com'),\n",
       " User(username='jadhesh', name = 'Jadhesh Verma', email = 'jadhesh@example.com'),\n",
       " User(username='siddhant', name = 'Siddhant Sinha', email = 'siddhant@example.com'),\n",
       " User(username='sonaksh', name = 'Sonaksh Kumar', email = 'sonaksh@example.com'),\n",
       " User(username='vishal', name = 'Vishal Goel', email = 'vishal@example.com')]"
      ]
     },
     "execution_count": 21,
     "metadata": {},
     "output_type": "execute_result"
    }
   ],
   "source": [
    "users"
   ]
  },
  {
   "cell_type": "code",
   "execution_count": 22,
   "id": "c2df85dd",
   "metadata": {},
   "outputs": [
    {
     "data": {
      "text/plain": [
       "True"
      ]
     },
     "execution_count": 22,
     "metadata": {},
     "output_type": "execute_result"
    }
   ],
   "source": [
    "'biraj' < 'heamanth'"
   ]
  },
  {
   "cell_type": "code",
   "execution_count": 23,
   "id": "52db90e6",
   "metadata": {},
   "outputs": [],
   "source": [
    "class UserDatabase:\n",
    "    def __init__(self):\n",
    "        self.users = []\n",
    "        \n",
    "    def insert (self, user):\n",
    "        i = 0\n",
    "        while i < len(self.users):\n",
    "            if self.users[i].username > user.username:\n",
    "                break\n",
    "            i += 1\n",
    "        self.users.insert(i, user)\n",
    "    \n",
    "    def find(self, username):\n",
    "        for user in self.users:\n",
    "            if user.username == username:\n",
    "                return user\n",
    "            \n",
    "    def update(self, user):\n",
    "        target = self.find(user.username)\n",
    "        target.name, target.email = user.name, user.email\n",
    "        \n",
    "    def list_all(self):\n",
    "        return self.users"
   ]
  },
  {
   "cell_type": "code",
   "execution_count": 24,
   "id": "d4bc8fa0",
   "metadata": {},
   "outputs": [],
   "source": [
    "database = UserDatabase()"
   ]
  },
  {
   "cell_type": "code",
   "execution_count": 25,
   "id": "8da94785",
   "metadata": {},
   "outputs": [],
   "source": [
    "database.insert(hemanth)\n",
    "database.insert(aakash)\n",
    "database.insert(siddhant)"
   ]
  },
  {
   "cell_type": "code",
   "execution_count": 26,
   "id": "656972e3",
   "metadata": {
    "scrolled": true
   },
   "outputs": [
    {
     "data": {
      "text/plain": [
       "User(username='siddhant', name = 'Siddhant Sinha', email = 'siddhant@example.com')"
      ]
     },
     "execution_count": 26,
     "metadata": {},
     "output_type": "execute_result"
    }
   ],
   "source": [
    "user = database.find('siddhant')\n",
    "user"
   ]
  },
  {
   "cell_type": "code",
   "execution_count": 27,
   "id": "fa602ebd",
   "metadata": {},
   "outputs": [
    {
     "name": "stdout",
     "output_type": "stream",
     "text": [
      "User created\n"
     ]
    }
   ],
   "source": [
    "database.update(User(username= 'siddhant', name= 'Siddhant U', email= 'siddhantu@example.com'))"
   ]
  },
  {
   "cell_type": "code",
   "execution_count": 28,
   "id": "213905c6",
   "metadata": {},
   "outputs": [
    {
     "data": {
      "text/plain": [
       "User(username='siddhant', name = 'Siddhant U', email = 'siddhantu@example.com')"
      ]
     },
     "execution_count": 28,
     "metadata": {},
     "output_type": "execute_result"
    }
   ],
   "source": [
    "user = database.find('siddhant')\n",
    "user"
   ]
  },
  {
   "cell_type": "code",
   "execution_count": 29,
   "id": "89fbb42e",
   "metadata": {},
   "outputs": [
    {
     "data": {
      "text/plain": [
       "[User(username='aakash', name = 'Aakash Rai', email = 'aakash@example.com'),\n",
       " User(username='hemanth', name = 'Hemanth Jain', email = 'hemanth@example.com'),\n",
       " User(username='siddhant', name = 'Siddhant U', email = 'siddhantu@example.com')]"
      ]
     },
     "execution_count": 29,
     "metadata": {},
     "output_type": "execute_result"
    }
   ],
   "source": [
    "database.list_all()"
   ]
  },
  {
   "cell_type": "code",
   "execution_count": 30,
   "id": "b5b2bb2d",
   "metadata": {},
   "outputs": [],
   "source": [
    "database.insert(biraj)"
   ]
  },
  {
   "cell_type": "code",
   "execution_count": 31,
   "id": "51eb24c9",
   "metadata": {
    "scrolled": true
   },
   "outputs": [
    {
     "data": {
      "text/plain": [
       "[User(username='aakash', name = 'Aakash Rai', email = 'aakash@example.com'),\n",
       " User(username='biraj', name = 'Biraj Das', email = 'biraj@example.com'),\n",
       " User(username='hemanth', name = 'Hemanth Jain', email = 'hemanth@example.com'),\n",
       " User(username='siddhant', name = 'Siddhant U', email = 'siddhantu@example.com')]"
      ]
     },
     "execution_count": 31,
     "metadata": {},
     "output_type": "execute_result"
    }
   ],
   "source": [
    "database.list_all()"
   ]
  },
  {
   "cell_type": "markdown",
   "id": "dd8b37d4",
   "metadata": {},
   "source": [
    "# Complexity of binary"
   ]
  },
  {
   "cell_type": "code",
   "execution_count": 32,
   "id": "d5607cdc",
   "metadata": {},
   "outputs": [
    {
     "name": "stdout",
     "output_type": "stream",
     "text": [
      "CPU times: total: 5.88 s\n",
      "Wall time: 8.79 s\n"
     ]
    }
   ],
   "source": [
    "%%time\n",
    "for i in range(100000000):\n",
    "    j = i*i"
   ]
  },
  {
   "cell_type": "code",
   "execution_count": 33,
   "id": "e33e6b3f",
   "metadata": {},
   "outputs": [
    {
     "name": "stdout",
     "output_type": "stream",
     "text": [
      "Requirement already satisfied: jovian in c:\\users\\user\\anaconda3\\lib\\site-packages (0.2.47)\n",
      "Collecting quite\n",
      "  Using cached quite-0.4.8.tar.gz (20 kB)\n",
      "  Preparing metadata (setup.py): started\n",
      "  Preparing metadata (setup.py): finished with status 'done'\n",
      "Requirement already satisfied: requests in c:\\users\\user\\anaconda3\\lib\\site-packages (from jovian) (2.31.0)\n",
      "Requirement already satisfied: uuid in c:\\users\\user\\anaconda3\\lib\\site-packages (from jovian) (1.30)\n",
      "Requirement already satisfied: pyyaml in c:\\users\\user\\anaconda3\\lib\\site-packages (from jovian) (6.0)\n",
      "Requirement already satisfied: click in c:\\users\\user\\anaconda3\\lib\\site-packages (from jovian) (8.0.4)\n",
      "Collecting st (from quite)\n",
      "  Using cached st-0.0.8.zip (7.3 kB)\n",
      "  Preparing metadata (setup.py): started\n",
      "  Preparing metadata (setup.py): finished with status 'done'\n",
      "Collecting prett (from quite)\n",
      "  Using cached prett-0.1.1.tar.gz (5.5 kB)\n",
      "  Preparing metadata (setup.py): started\n",
      "  Preparing metadata (setup.py): finished with status 'done'\n",
      "Collecting PySide (from quite)\n",
      "  Using cached PySide-1.2.4.tar.gz (9.3 MB)\n",
      "  Preparing metadata (setup.py): started\n",
      "  Preparing metadata (setup.py): finished with status 'error'\n"
     ]
    },
    {
     "name": "stderr",
     "output_type": "stream",
     "text": [
      "  error: subprocess-exited-with-error\n",
      "  \n",
      "  python setup.py egg_info did not run successfully.\n",
      "  exit code: 1\n",
      "  \n",
      "  [1 lines of output]\n",
      "  only these python versions are supported: [(2, 6), (2, 7), (3, 2), (3, 3), (3, 4)]\n",
      "  [end of output]\n",
      "  \n",
      "  note: This error originates from a subprocess, and is likely not a problem with pip.\n",
      "error: metadata-generation-failed\n",
      "\n",
      "Encountered error while generating package metadata.\n",
      "\n",
      "See above for output.\n",
      "\n",
      "note: This is an issue with the package mentioned above, not pip.\n",
      "hint: See above for details.\n"
     ]
    }
   ],
   "source": [
    "!pip install jovian --upgrade -- quite"
   ]
  },
  {
   "cell_type": "code",
   "execution_count": 34,
   "id": "5eb99eeb",
   "metadata": {},
   "outputs": [],
   "source": [
    "import jovian"
   ]
  },
  {
   "cell_type": "code",
   "execution_count": 35,
   "id": "7cb6b20a",
   "metadata": {},
   "outputs": [
    {
     "data": {
      "application/javascript": [
       "window.require && require([\"base/js/namespace\"],function(Jupyter){Jupyter.notebook.save_checkpoint()})"
      ],
      "text/plain": [
       "<IPython.core.display.Javascript object>"
      ]
     },
     "metadata": {},
     "output_type": "display_data"
    },
    {
     "name": "stdout",
     "output_type": "stream",
     "text": [
      "[jovian] Updating notebook \"blackparrotone/python-binary-search-trees\" on https://jovian.com/\u001b[0m\n",
      "[jovian] Committed successfully! https://jovian.com/blackparrotone/python-binary-search-trees\u001b[0m\n"
     ]
    },
    {
     "data": {
      "text/plain": [
       "'https://jovian.com/blackparrotone/python-binary-search-trees'"
      ]
     },
     "execution_count": 35,
     "metadata": {},
     "output_type": "execute_result"
    }
   ],
   "source": [
    "jovian.commit(project='python-binary-search-trees')"
   ]
  },
  {
   "cell_type": "code",
   "execution_count": 36,
   "id": "b02ad414",
   "metadata": {},
   "outputs": [],
   "source": [
    "# time coplexity of binary search tree is O (log N)"
   ]
  },
  {
   "cell_type": "markdown",
   "id": "64d6df1b",
   "metadata": {},
   "source": [
    "# Binary Tree"
   ]
  },
  {
   "cell_type": "code",
   "execution_count": 37,
   "id": "069d9682",
   "metadata": {},
   "outputs": [],
   "source": [
    "class TreeNode:\n",
    "    def __init__(self, key):\n",
    "        self.key = key\n",
    "        self.left = None\n",
    "        self.right = None"
   ]
  },
  {
   "cell_type": "code",
   "execution_count": 38,
   "id": "b165565b",
   "metadata": {},
   "outputs": [],
   "source": [
    "node0 = TreeNode(3)\n",
    "node1 = TreeNode(4)\n",
    "node2 = TreeNode(5)"
   ]
  },
  {
   "cell_type": "code",
   "execution_count": 39,
   "id": "36cbcc0c",
   "metadata": {},
   "outputs": [
    {
     "data": {
      "text/plain": [
       "<__main__.TreeNode at 0x1b855459050>"
      ]
     },
     "execution_count": 39,
     "metadata": {},
     "output_type": "execute_result"
    }
   ],
   "source": [
    "node0"
   ]
  },
  {
   "cell_type": "code",
   "execution_count": 40,
   "id": "0aef80a5",
   "metadata": {},
   "outputs": [
    {
     "data": {
      "text/plain": [
       "3"
      ]
     },
     "execution_count": 40,
     "metadata": {},
     "output_type": "execute_result"
    }
   ],
   "source": [
    "node0.key"
   ]
  },
  {
   "cell_type": "code",
   "execution_count": 41,
   "id": "09513388",
   "metadata": {},
   "outputs": [],
   "source": [
    "node0.left = node1\n",
    "node0.right = node2"
   ]
  },
  {
   "cell_type": "code",
   "execution_count": 42,
   "id": "3ca7cd67",
   "metadata": {},
   "outputs": [],
   "source": [
    "tree = node0"
   ]
  },
  {
   "cell_type": "code",
   "execution_count": 43,
   "id": "9783e8e4",
   "metadata": {},
   "outputs": [
    {
     "data": {
      "text/plain": [
       "3"
      ]
     },
     "execution_count": 43,
     "metadata": {},
     "output_type": "execute_result"
    }
   ],
   "source": [
    "tree.key"
   ]
  },
  {
   "cell_type": "code",
   "execution_count": 44,
   "id": "8c9d28a0",
   "metadata": {},
   "outputs": [
    {
     "data": {
      "text/plain": [
       "4"
      ]
     },
     "execution_count": 44,
     "metadata": {},
     "output_type": "execute_result"
    }
   ],
   "source": [
    "tree.left.key"
   ]
  },
  {
   "cell_type": "code",
   "execution_count": 45,
   "id": "b9a8ff44",
   "metadata": {
    "scrolled": true
   },
   "outputs": [
    {
     "data": {
      "text/plain": [
       "5"
      ]
     },
     "execution_count": 45,
     "metadata": {},
     "output_type": "execute_result"
    }
   ],
   "source": [
    "tree.right.key"
   ]
  },
  {
   "cell_type": "markdown",
   "id": "97fad286",
   "metadata": {},
   "source": [
    "# Tuple to tree"
   ]
  },
  {
   "cell_type": "code",
   "execution_count": 46,
   "id": "9d9969e2",
   "metadata": {},
   "outputs": [],
   "source": [
    "tree_tuple = ((1,3,None), 2, ((None, 3, 4), 5, (6, 7, 8)))"
   ]
  },
  {
   "cell_type": "code",
   "execution_count": 47,
   "id": "6b394765",
   "metadata": {},
   "outputs": [],
   "source": [
    "def parse_tuple(data): \n",
    "    # print(data)\n",
    "    if isinstance(data, tuple) and len(data) == 3:\n",
    "        node = TreeNode(data[1])\n",
    "        node.left = parse_tuple(data[0])\n",
    "        node.right = parse_tuple(data[2])\n",
    "    elif data is None:\n",
    "        node = None\n",
    "    else:\n",
    "        node = TreeNode(data)\n",
    "    return node"
   ]
  },
  {
   "cell_type": "code",
   "execution_count": 48,
   "id": "3a5a4330",
   "metadata": {},
   "outputs": [],
   "source": [
    "tree2 = parse_tuple(((1, 3, None), 2, ((None, 3, 4), 5, (6, 7, 8))))"
   ]
  },
  {
   "cell_type": "code",
   "execution_count": 49,
   "id": "20243eb1",
   "metadata": {},
   "outputs": [
    {
     "data": {
      "text/plain": [
       "<__main__.TreeNode at 0x1b855464510>"
      ]
     },
     "execution_count": 49,
     "metadata": {},
     "output_type": "execute_result"
    }
   ],
   "source": [
    "tree2"
   ]
  },
  {
   "cell_type": "code",
   "execution_count": 50,
   "id": "d34cf778",
   "metadata": {},
   "outputs": [
    {
     "data": {
      "text/plain": [
       "2"
      ]
     },
     "execution_count": 50,
     "metadata": {},
     "output_type": "execute_result"
    }
   ],
   "source": [
    "tree2.key"
   ]
  },
  {
   "cell_type": "code",
   "execution_count": 51,
   "id": "fd691d8c",
   "metadata": {},
   "outputs": [
    {
     "data": {
      "text/plain": [
       "(3, 5)"
      ]
     },
     "execution_count": 51,
     "metadata": {},
     "output_type": "execute_result"
    }
   ],
   "source": [
    "tree2.left.key, tree2.right.key"
   ]
  },
  {
   "cell_type": "code",
   "execution_count": 52,
   "id": "0c0fd520",
   "metadata": {},
   "outputs": [
    {
     "data": {
      "text/plain": [
       "(1, None, 3, 7)"
      ]
     },
     "execution_count": 52,
     "metadata": {},
     "output_type": "execute_result"
    }
   ],
   "source": [
    "tree2.left.left.key, tree2.left.right, tree2.right.left.key, tree2.right.right.key"
   ]
  },
  {
   "cell_type": "code",
   "execution_count": 53,
   "id": "2058f45a",
   "metadata": {},
   "outputs": [
    {
     "data": {
      "text/plain": [
       "(4, 4, 6, 8)"
      ]
     },
     "execution_count": 53,
     "metadata": {},
     "output_type": "execute_result"
    }
   ],
   "source": [
    "tree2.right.left.right.key, tree2.right.left.right.key, tree2.right.right.left.key, tree2.right.right.right.key"
   ]
  },
  {
   "cell_type": "markdown",
   "id": "04b21637",
   "metadata": {},
   "source": [
    "# Tree to tuple"
   ]
  },
  {
   "cell_type": "code",
   "execution_count": 54,
   "id": "30649bf6",
   "metadata": {
    "scrolled": true
   },
   "outputs": [
    {
     "name": "stdout",
     "output_type": "stream",
     "text": [
      "(((None, 1, (None, 3, None)), 3, None), 2, ((None, 3, (None, 4, None)), 5, ((None, 6, None), 7, (None, 8, None))))\n"
     ]
    }
   ],
   "source": [
    "def tree_to_tuple(node):\n",
    "    if node is None:\n",
    "        return None\n",
    "    left_subtree = tree_to_tuple(node.left)\n",
    "    right_subtree = tree_to_tuple(node.right)\n",
    "    return (left_subtree, node.key, right_subtree)\n",
    "\n",
    "if __name__ == \"__main__\":\n",
    "    root = TreeNode(2)\n",
    "    root.left = TreeNode(3)\n",
    "    root.right = TreeNode(5)\n",
    "    root.left.left = TreeNode(1)\n",
    "    root.right.left = TreeNode(3)\n",
    "    root.right.right = TreeNode(7)\n",
    "    root.left.left.right = TreeNode(3)\n",
    "    root.right.left.right = TreeNode(4)\n",
    "    root.right.right.left = TreeNode(6)\n",
    "    root.right.right.right = TreeNode(8)\n",
    "    \n",
    "    tree_tuple = tree_to_tuple(root)\n",
    "    print(tree_tuple)\n",
    "    "
   ]
  },
  {
   "cell_type": "markdown",
   "id": "f6a174c4",
   "metadata": {},
   "source": [
    "# Display"
   ]
  },
  {
   "cell_type": "code",
   "execution_count": 55,
   "id": "d4adc0da",
   "metadata": {},
   "outputs": [],
   "source": [
    "def display_keys(node, space='\\t', level=0):\n",
    "    if node is None:\n",
    "        print(space*level + '∅')\n",
    "        return\n",
    "    if node.left is None and node.right is None:\n",
    "        print(space*level + str(node.key))\n",
    "        return\n",
    "    display_keys(node.right, space, level+1)\n",
    "    print(space*level + str(node.key))\n",
    "    display_keys(node.left, space, level+1)\n",
    "        "
   ]
  },
  {
   "cell_type": "code",
   "execution_count": 56,
   "id": "f25ed992",
   "metadata": {},
   "outputs": [
    {
     "name": "stdout",
     "output_type": "stream",
     "text": [
      "            8\n",
      "        7\n",
      "            6\n",
      "    5\n",
      "            4\n",
      "        3\n",
      "            ∅\n",
      "2\n",
      "        ∅\n",
      "    3\n",
      "        1\n"
     ]
    }
   ],
   "source": [
    "display_keys(tree2, '    ')"
   ]
  },
  {
   "cell_type": "markdown",
   "id": "a387d8f1",
   "metadata": {},
   "source": [
    "# Traversing"
   ]
  },
  {
   "cell_type": "code",
   "execution_count": 57,
   "id": "01afa328",
   "metadata": {},
   "outputs": [],
   "source": [
    "def traverse_in_order(node):\n",
    "    if node is None:\n",
    "        return []\n",
    "    return traverse_in_order(node.left) + [node.key] + traverse_in_order(node.right)"
   ]
  },
  {
   "cell_type": "code",
   "execution_count": 58,
   "id": "927356bd",
   "metadata": {},
   "outputs": [],
   "source": [
    "def traverse_pre_order(node):\n",
    "    if node is None:\n",
    "        return []\n",
    "    return([node.key] + traverse_pre_order(node.left) + traverse_pre_order(node.right))"
   ]
  },
  {
   "cell_type": "code",
   "execution_count": 59,
   "id": "fa5b67a6",
   "metadata": {},
   "outputs": [],
   "source": [
    "def traverse_post_order(node):\n",
    "    if node is None:\n",
    "        return []\n",
    "    return traverse_post_order(node.left) + traverse_post_order(node.right) + [node.key] "
   ]
  },
  {
   "cell_type": "code",
   "execution_count": 60,
   "id": "f0249c0d",
   "metadata": {},
   "outputs": [],
   "source": [
    "tree = parse_tuple(((1,3,None), 2, ((None, 3, 4), 5, (6, 7, 8))))"
   ]
  },
  {
   "cell_type": "code",
   "execution_count": 61,
   "id": "2f67f351",
   "metadata": {},
   "outputs": [
    {
     "data": {
      "text/plain": [
       "<__main__.TreeNode at 0x1b855465450>"
      ]
     },
     "execution_count": 61,
     "metadata": {},
     "output_type": "execute_result"
    }
   ],
   "source": [
    "tree"
   ]
  },
  {
   "cell_type": "code",
   "execution_count": 62,
   "id": "3861a525",
   "metadata": {
    "scrolled": true
   },
   "outputs": [
    {
     "name": "stdout",
     "output_type": "stream",
     "text": [
      "      8\n",
      "    7\n",
      "      6\n",
      "  5\n",
      "      4\n",
      "    3\n",
      "      ∅\n",
      "2\n",
      "    ∅\n",
      "  3\n",
      "    1\n"
     ]
    }
   ],
   "source": [
    "display_keys(tree, '  ')"
   ]
  },
  {
   "cell_type": "code",
   "execution_count": 63,
   "id": "7c394594",
   "metadata": {},
   "outputs": [
    {
     "data": {
      "text/plain": [
       "[1, 3, 2, 3, 4, 5, 6, 7, 8]"
      ]
     },
     "execution_count": 63,
     "metadata": {},
     "output_type": "execute_result"
    }
   ],
   "source": [
    "traverse_in_order(tree)"
   ]
  },
  {
   "cell_type": "code",
   "execution_count": 64,
   "id": "d094e8c0",
   "metadata": {
    "scrolled": true
   },
   "outputs": [
    {
     "data": {
      "text/plain": [
       "[2, 3, 1, 5, 3, 4, 7, 6, 8]"
      ]
     },
     "execution_count": 64,
     "metadata": {},
     "output_type": "execute_result"
    }
   ],
   "source": [
    "traverse_pre_order(tree)"
   ]
  },
  {
   "cell_type": "code",
   "execution_count": 65,
   "id": "2729d9f0",
   "metadata": {},
   "outputs": [
    {
     "data": {
      "text/plain": [
       "[1, 3, 4, 3, 6, 8, 7, 5, 2]"
      ]
     },
     "execution_count": 65,
     "metadata": {},
     "output_type": "execute_result"
    }
   ],
   "source": [
    "traverse_post_order(tree)"
   ]
  },
  {
   "cell_type": "markdown",
   "id": "8eb744af",
   "metadata": {},
   "source": [
    "# Height and Size of a Binary Tree"
   ]
  },
  {
   "cell_type": "code",
   "execution_count": 66,
   "id": "75a62053",
   "metadata": {},
   "outputs": [],
   "source": [
    "def tree_height(node):\n",
    "    if node is None:\n",
    "        return 0\n",
    "    return 1 + max(tree_height(node.left), tree_height(node.right))"
   ]
  },
  {
   "cell_type": "code",
   "execution_count": 67,
   "id": "4248968a",
   "metadata": {},
   "outputs": [
    {
     "data": {
      "text/plain": [
       "4"
      ]
     },
     "execution_count": 67,
     "metadata": {},
     "output_type": "execute_result"
    }
   ],
   "source": [
    "tree_height(tree)"
   ]
  },
  {
   "cell_type": "code",
   "execution_count": 68,
   "id": "e029d878",
   "metadata": {},
   "outputs": [],
   "source": [
    "def tree_size(node):\n",
    "    if node is None:\n",
    "        return 0\n",
    "    return 1 + tree_size(node.left) + tree_size(node.right)"
   ]
  },
  {
   "cell_type": "code",
   "execution_count": 69,
   "id": "1d2d6e12",
   "metadata": {},
   "outputs": [
    {
     "data": {
      "text/plain": [
       "9"
      ]
     },
     "execution_count": 69,
     "metadata": {},
     "output_type": "execute_result"
    }
   ],
   "source": [
    "tree_size(tree)"
   ]
  },
  {
   "cell_type": "markdown",
   "id": "2108f779",
   "metadata": {},
   "source": [
    "# Ex.1 Maximum Depth"
   ]
  },
  {
   "cell_type": "code",
   "execution_count": 70,
   "id": "ef7b8690",
   "metadata": {},
   "outputs": [],
   "source": [
    "def maxDepth(root):\n",
    "    if not root:\n",
    "        return 0\n",
    "    left_depth = maxDepth(root.left)\n",
    "    right_depth = maxDepth(root.right)\n",
    "    return max(left_depth, right_depth) + 1"
   ]
  },
  {
   "cell_type": "code",
   "execution_count": 71,
   "id": "3485a6e9",
   "metadata": {},
   "outputs": [],
   "source": [
    "mx = maxDepth(tree)"
   ]
  },
  {
   "cell_type": "code",
   "execution_count": 72,
   "id": "bbd05d8c",
   "metadata": {},
   "outputs": [
    {
     "data": {
      "text/plain": [
       "4"
      ]
     },
     "execution_count": 72,
     "metadata": {},
     "output_type": "execute_result"
    }
   ],
   "source": [
    "mx"
   ]
  },
  {
   "cell_type": "markdown",
   "id": "0fa38682",
   "metadata": {},
   "source": [
    "# Ex.2 Minimum Depth"
   ]
  },
  {
   "cell_type": "code",
   "execution_count": 73,
   "id": "ba945f4b",
   "metadata": {},
   "outputs": [],
   "source": [
    "def minDepth(root):\n",
    "    if not root:\n",
    "        return 0\n",
    "    if not root.left and not root.right:\n",
    "        return 1\n",
    "    if not root.left:\n",
    "        return minDepth(root.right) + 1\n",
    "    if not root.right:\n",
    "        return minDepth(root.left) + 1\n",
    "    return min(minDepth(root.left), minDepth(root.right)) + 1 "
   ]
  },
  {
   "cell_type": "code",
   "execution_count": 74,
   "id": "936ac556",
   "metadata": {},
   "outputs": [],
   "source": [
    "mn = minDepth(tree)"
   ]
  },
  {
   "cell_type": "code",
   "execution_count": 75,
   "id": "c0641dea",
   "metadata": {},
   "outputs": [
    {
     "data": {
      "text/plain": [
       "3"
      ]
     },
     "execution_count": 75,
     "metadata": {},
     "output_type": "execute_result"
    }
   ],
   "source": [
    "mn"
   ]
  },
  {
   "cell_type": "markdown",
   "id": "8ee4aa13",
   "metadata": {},
   "source": [
    "# Ex.3 Diameter"
   ]
  },
  {
   "cell_type": "code",
   "execution_count": 76,
   "id": "e70d8e5d",
   "metadata": {},
   "outputs": [],
   "source": [
    "def diameterOfBinaryTree(root):\n",
    "    def depth(node):\n",
    "        if not node:\n",
    "            return 0\n",
    "        left_depth = depth(node.left)\n",
    "        right_depth = depth(node.right)\n",
    "        diameter[0] = max(diameter[0], left_depth + right_depth)\n",
    "        return max(left_depth, right_depth) + 1\n",
    "\n",
    "    diameter = [0]\n",
    "    depth(root)\n",
    "    return diameter[0]\n"
   ]
  },
  {
   "cell_type": "code",
   "execution_count": 77,
   "id": "cf4b5950",
   "metadata": {
    "scrolled": false
   },
   "outputs": [],
   "source": [
    "diameter = diameterOfBinaryTree(tree)"
   ]
  },
  {
   "cell_type": "code",
   "execution_count": 78,
   "id": "6534d430",
   "metadata": {
    "scrolled": true
   },
   "outputs": [
    {
     "data": {
      "text/plain": [
       "5"
      ]
     },
     "execution_count": 78,
     "metadata": {},
     "output_type": "execute_result"
    }
   ],
   "source": [
    "diameter"
   ]
  },
  {
   "cell_type": "markdown",
   "id": "4ce3357b",
   "metadata": {},
   "source": [
    "# Hall Class"
   ]
  },
  {
   "cell_type": "code",
   "execution_count": 79,
   "id": "a85b4794",
   "metadata": {},
   "outputs": [],
   "source": [
    "class TreeNode():\n",
    "    def __init__(self, key):\n",
    "        self.key, self.left, self.right = key, None, None\n",
    "    \n",
    "    def height(self):\n",
    "        if self is None:\n",
    "            return 0\n",
    "        return 1 + max(TreeNode.height(self.left), TreeNode.height(self.right))\n",
    "    \n",
    "    def size(self):\n",
    "        if self is None:\n",
    "            return 0\n",
    "        return 1 + TreeNode.size(self.left) + TreeNode.size(self.right)\n",
    "\n",
    "    def traverse_in_order(self):\n",
    "        if self is None: \n",
    "            return []\n",
    "        return (TreeNode.traverse_in_order(self.left) + \n",
    "                [self.key] + \n",
    "                TreeNode.traverse_in_order(self.right))\n",
    "    \n",
    "    def display_keys(self, space='\\t', level=0):\n",
    "        # If the node is empty\n",
    "        if self is None:\n",
    "            print(space*level + '∅')\n",
    "            return   \n",
    "\n",
    "        # If the node is a leaf \n",
    "        if self.left is None and self.right is None:\n",
    "            print(space*level + str(self.key))\n",
    "            return\n",
    "        \n",
    "        # If the node has children\n",
    "        if self.right is not None:\n",
    "            self.right.display_keys(space, level + 1)\n",
    "        print(space * level + str(self.key))\n",
    "    \n",
    "        if self.left is not None:\n",
    "            self.left.display_keys(space, level + 1)\n",
    "             \n",
    "    \n",
    "    def to_tuple(self):\n",
    "        if self is None:\n",
    "            return None\n",
    "        if self.left is None and self.right is None:\n",
    "            return self.key\n",
    "        return TreeNode.to_tuple(self.left),  self.key, TreeNode.to_tuple(self.right)\n",
    "    \n",
    "    def __str__(self):\n",
    "        return \"BinaryTree <{}>\".format(self.to_tuple())\n",
    "    \n",
    "    def __repr__(self):\n",
    "        return \"BinaryTree <{}>\".format(self.to_tuple())\n",
    "    \n",
    "    @staticmethod    \n",
    "    def parse_tuple(data):\n",
    "        if data is None:\n",
    "            node = None\n",
    "        elif isinstance(data, tuple) and len(data) == 3:\n",
    "            node = TreeNode(data[1])\n",
    "            node.left = TreeNode.parse_tuple(data[0])\n",
    "            node.right = TreeNode.parse_tuple(data[2])\n",
    "        else:\n",
    "            node = TreeNode(data)\n",
    "        return node"
   ]
  },
  {
   "cell_type": "code",
   "execution_count": 80,
   "id": "43f9f9b0",
   "metadata": {},
   "outputs": [],
   "source": [
    "tree_tuple = ((1,3,None), 2, ((None, 3, 4), 5, (6, 7, 8)))"
   ]
  },
  {
   "cell_type": "code",
   "execution_count": 81,
   "id": "a097f4b3",
   "metadata": {},
   "outputs": [
    {
     "data": {
      "text/plain": [
       "((1, 3, None), 2, ((None, 3, 4), 5, (6, 7, 8)))"
      ]
     },
     "execution_count": 81,
     "metadata": {},
     "output_type": "execute_result"
    }
   ],
   "source": [
    "tree_tuple"
   ]
  },
  {
   "cell_type": "code",
   "execution_count": 82,
   "id": "eeeae8d0",
   "metadata": {},
   "outputs": [],
   "source": [
    "tree = TreeNode.parse_tuple(tree_tuple)"
   ]
  },
  {
   "cell_type": "code",
   "execution_count": 83,
   "id": "bfc15685",
   "metadata": {},
   "outputs": [
    {
     "data": {
      "text/plain": [
       "BinaryTree <((1, 3, None), 2, ((None, 3, 4), 5, (6, 7, 8)))>"
      ]
     },
     "execution_count": 83,
     "metadata": {},
     "output_type": "execute_result"
    }
   ],
   "source": [
    "tree"
   ]
  },
  {
   "cell_type": "code",
   "execution_count": 84,
   "id": "d241697a",
   "metadata": {
    "scrolled": false
   },
   "outputs": [
    {
     "name": "stdout",
     "output_type": "stream",
     "text": [
      "      8\n",
      "    7\n",
      "      6\n",
      "  5\n",
      "      4\n",
      "    3\n",
      "2\n",
      "  3\n",
      "    1\n"
     ]
    }
   ],
   "source": [
    "tree.display_keys('  ')"
   ]
  },
  {
   "cell_type": "code",
   "execution_count": 85,
   "id": "901248c2",
   "metadata": {},
   "outputs": [
    {
     "data": {
      "text/plain": [
       "4"
      ]
     },
     "execution_count": 85,
     "metadata": {},
     "output_type": "execute_result"
    }
   ],
   "source": [
    "tree.height()"
   ]
  },
  {
   "cell_type": "code",
   "execution_count": 86,
   "id": "85063efc",
   "metadata": {},
   "outputs": [
    {
     "data": {
      "text/plain": [
       "9"
      ]
     },
     "execution_count": 86,
     "metadata": {},
     "output_type": "execute_result"
    }
   ],
   "source": [
    "tree.size()"
   ]
  },
  {
   "cell_type": "code",
   "execution_count": 87,
   "id": "7cabdb34",
   "metadata": {},
   "outputs": [
    {
     "data": {
      "text/plain": [
       "[1, 3, 2, 3, 4, 5, 6, 7, 8]"
      ]
     },
     "execution_count": 87,
     "metadata": {},
     "output_type": "execute_result"
    }
   ],
   "source": [
    "tree.traverse_in_order()"
   ]
  },
  {
   "cell_type": "code",
   "execution_count": 88,
   "id": "18f43fa9",
   "metadata": {},
   "outputs": [
    {
     "data": {
      "text/plain": [
       "((1, 3, None), 2, ((None, 3, 4), 5, (6, 7, 8)))"
      ]
     },
     "execution_count": 88,
     "metadata": {},
     "output_type": "execute_result"
    }
   ],
   "source": [
    "tree.to_tuple()"
   ]
  },
  {
   "cell_type": "markdown",
   "id": "ed152c7d",
   "metadata": {},
   "source": [
    "# Binary Serch Tree"
   ]
  },
  {
   "cell_type": "code",
   "execution_count": 89,
   "id": "24a94423",
   "metadata": {},
   "outputs": [],
   "source": [
    "def remove_none(nums):\n",
    "    return [x for x in nums if x is not None]\n",
    "\n",
    "def is_bst(node):\n",
    "    if node is None:\n",
    "        return True, None, None\n",
    "    \n",
    "    is_bst_l, min_l, max_l = is_bst(node.left)\n",
    "    is_bst_r, min_r, max_r = is_bst(node.right)\n",
    "    \n",
    "    is_bst_node = (is_bst_l and is_bst_r and \n",
    "              (max_l is None or node.key > max_l) and\n",
    "              (min_r is None or node.key < min_r))\n",
    "    \n",
    "    min_key = min(remove_none([min_l, node.key, min_r]))\n",
    "    max_key = max(remove_none([max_l, node.key, max_r]))\n",
    "    \n",
    "    # print(node.key, min.key,,max.key, is_bst_node)\n",
    "    return is_bst_node, min_key, max_key"
   ]
  },
  {
   "cell_type": "code",
   "execution_count": 90,
   "id": "748c21bd",
   "metadata": {},
   "outputs": [],
   "source": [
    "tree1 = TreeNode.parse_tuple(((1, 3, None), 2, ((None, 3, 4), 5, (6, 7, 8))))"
   ]
  },
  {
   "cell_type": "code",
   "execution_count": 91,
   "id": "2b63816b",
   "metadata": {
    "scrolled": true
   },
   "outputs": [
    {
     "data": {
      "text/plain": [
       "BinaryTree <((1, 3, None), 2, ((None, 3, 4), 5, (6, 7, 8)))>"
      ]
     },
     "execution_count": 91,
     "metadata": {},
     "output_type": "execute_result"
    }
   ],
   "source": [
    "tree1"
   ]
  },
  {
   "cell_type": "code",
   "execution_count": 92,
   "id": "f0af8583",
   "metadata": {
    "scrolled": true
   },
   "outputs": [
    {
     "data": {
      "text/plain": [
       "(False, 1, 8)"
      ]
     },
     "execution_count": 92,
     "metadata": {},
     "output_type": "execute_result"
    }
   ],
   "source": [
    "is_bst(tree1)"
   ]
  },
  {
   "cell_type": "code",
   "execution_count": 93,
   "id": "6d2f9d36",
   "metadata": {},
   "outputs": [],
   "source": [
    "tree2 = TreeNode.parse_tuple((('aakash', 'biraj', 'hemanth')  , 'jadhesh', ('siddhant', 'sonaksh', 'vishal')))"
   ]
  },
  {
   "cell_type": "code",
   "execution_count": 94,
   "id": "d77c2333",
   "metadata": {},
   "outputs": [
    {
     "data": {
      "text/plain": [
       "(True, 'aakash', 'vishal')"
      ]
     },
     "execution_count": 94,
     "metadata": {},
     "output_type": "execute_result"
    }
   ],
   "source": [
    "is_bst(tree2)"
   ]
  },
  {
   "cell_type": "code",
   "execution_count": 95,
   "id": "ffd3edb3",
   "metadata": {},
   "outputs": [
    {
     "name": "stdout",
     "output_type": "stream",
     "text": [
      "\t\tvishal\n",
      "\tsonaksh\n",
      "\t\tsiddhant\n",
      "jadhesh\n",
      "\t\themanth\n",
      "\tbiraj\n",
      "\t\taakash\n"
     ]
    }
   ],
   "source": [
    "tree2.display_keys()"
   ]
  },
  {
   "cell_type": "markdown",
   "id": "4e9e8ab7",
   "metadata": {},
   "source": [
    "# Sorting Key-Value Pairs using BSTs"
   ]
  },
  {
   "cell_type": "code",
   "execution_count": 96,
   "id": "8d5533d9",
   "metadata": {},
   "outputs": [],
   "source": [
    "class User:\n",
    "    def __init__(self, username, name, email):\n",
    "        self.username = username\n",
    "        self.name = name \n",
    "        self. email = email\n",
    "        print('User created')\n",
    "    def introduce_yourself (self, guest_name):\n",
    "        print(\"Hi {}, I'am{}! Contact me at {}.\".format(guest_name, self.name, self.email))\n",
    "    def __repr__(self):\n",
    "        return \"User(username='{}', name = '{}', email = '{}')\".format(self.username, self.name, self.email)\n",
    "    def __str__(self):\n",
    "        return self.__repr__()"
   ]
  },
  {
   "cell_type": "code",
   "execution_count": 97,
   "id": "748cfcca",
   "metadata": {},
   "outputs": [],
   "source": [
    "class BSTNode():\n",
    "    def __init__(self, key, value=None):\n",
    "        self.key = key\n",
    "        self.value = value\n",
    "        self.left = None\n",
    "        self.right = None\n",
    "        self.parent = None"
   ]
  },
  {
   "cell_type": "code",
   "execution_count": 98,
   "id": "36a1e5b9",
   "metadata": {},
   "outputs": [],
   "source": [
    "# Level 0\n",
    "\n",
    "tree = BSTNode(jadhesh.username, jadhesh)"
   ]
  },
  {
   "cell_type": "code",
   "execution_count": 99,
   "id": "fcddf2b7",
   "metadata": {},
   "outputs": [
    {
     "data": {
      "text/plain": [
       "('jadhesh',\n",
       " User(username='jadhesh', name = 'Jadhesh Verma', email = 'jadhesh@example.com'))"
      ]
     },
     "execution_count": 99,
     "metadata": {},
     "output_type": "execute_result"
    }
   ],
   "source": [
    "# View Level 0\n",
    "tree.key, tree.value"
   ]
  },
  {
   "cell_type": "code",
   "execution_count": 100,
   "id": "75f64f19",
   "metadata": {},
   "outputs": [],
   "source": [
    "# Level 1\n",
    "tree.left = BSTNode(biraj.username, biraj)\n",
    "tree.right = BSTNode(sonaksh.username, sonaksh)"
   ]
  },
  {
   "cell_type": "code",
   "execution_count": 101,
   "id": "28bc3370",
   "metadata": {
    "scrolled": true
   },
   "outputs": [
    {
     "data": {
      "text/plain": [
       "('biraj',\n",
       " User(username='biraj', name = 'Biraj Das', email = 'biraj@example.com'),\n",
       " 'sonaksh',\n",
       " User(username='sonaksh', name = 'Sonaksh Kumar', email = 'sonaksh@example.com'))"
      ]
     },
     "execution_count": 101,
     "metadata": {},
     "output_type": "execute_result"
    }
   ],
   "source": [
    "#View Level 1\n",
    "tree.left.key, tree.left.value, tree.right.key, tree.right.value"
   ]
  },
  {
   "cell_type": "markdown",
   "id": "316e55de",
   "metadata": {},
   "source": [
    "# Insertion"
   ]
  },
  {
   "cell_type": "code",
   "execution_count": 106,
   "id": "8773b687",
   "metadata": {},
   "outputs": [],
   "source": [
    "def insert(node, key, value):\n",
    "    if node is None:\n",
    "        node = BSTNode(key, value)\n",
    "    elif key < node.key:\n",
    "        node.left = insert(node.left, key, value)\n",
    "        node.left.parent = node\n",
    "    elif key > node.key:\n",
    "        node.right = insert(node.right, key, value)\n",
    "        node.right.parent = node\n",
    "    return node\n",
    "\n",
    "def insert(node, key, value):\n",
    "    if node is None:\n",
    "        node = BSTNode(key, value)\n",
    "    elif key < node.key:\n",
    "        node.left = insert(node.left, key, value)\n",
    "        node.left.parent = node\n",
    "    elif key > node.key:\n",
    "        node.right = insert(node.right, key, value)\n",
    "        node.right.parent = node\n",
    "    return node"
   ]
  },
  {
   "cell_type": "code",
   "execution_count": 107,
   "id": "4408c241",
   "metadata": {},
   "outputs": [],
   "source": [
    "tree = insert(None, jadhesh.username, jadhesh)"
   ]
  },
  {
   "cell_type": "code",
   "execution_count": 108,
   "id": "c790d56e",
   "metadata": {},
   "outputs": [
    {
     "data": {
      "text/plain": [
       "('jadhesh',\n",
       " User(username='jadhesh', name = 'Jadhesh Verma', email = 'jadhesh@example.com'))"
      ]
     },
     "execution_count": 108,
     "metadata": {},
     "output_type": "execute_result"
    }
   ],
   "source": [
    "tree.key, tree.value"
   ]
  },
  {
   "cell_type": "code",
   "execution_count": 109,
   "id": "618ef544",
   "metadata": {},
   "outputs": [
    {
     "data": {
      "text/plain": [
       "<__main__.BSTNode at 0x1b85545b690>"
      ]
     },
     "execution_count": 109,
     "metadata": {},
     "output_type": "execute_result"
    }
   ],
   "source": [
    "insert(tree, biraj.username, biraj)\n",
    "insert(tree, sonaksh.username, sonaksh)\n",
    "insert(tree, aakash.username, aakash)\n",
    "insert(tree, hemanth.username, hemanth)\n",
    "insert(tree, siddhant.username, siddhant)\n",
    "insert(tree, vishal.username, siddhant)"
   ]
  },
  {
   "cell_type": "code",
   "execution_count": 110,
   "id": "73beb180",
   "metadata": {},
   "outputs": [
    {
     "name": "stdout",
     "output_type": "stream",
     "text": [
      "\t\tvishal\n",
      "\tsonaksh\n",
      "\t\tsiddhant\n",
      "jadhesh\n",
      "\t\themanth\n",
      "\tbiraj\n",
      "\t\taakash\n"
     ]
    }
   ],
   "source": [
    "display_keys(tree)"
   ]
  },
  {
   "cell_type": "code",
   "execution_count": 111,
   "id": "1c53b5fe",
   "metadata": {},
   "outputs": [
    {
     "data": {
      "text/plain": [
       "<__main__.BSTNode at 0x1b8571010d0>"
      ]
     },
     "execution_count": 111,
     "metadata": {},
     "output_type": "execute_result"
    }
   ],
   "source": [
    "tree2 = insert(None, aakash.username, aakash)\n",
    "insert(tree2, biraj.username, biraj)\n",
    "insert(tree2, hemanth.username, hemanth)\n",
    "insert(tree2, jadhesh.username, jadhesh)\n",
    "insert(tree2, siddhant.username, siddhant)\n",
    "insert(tree2, sonaksh.username, sonaksh)\n",
    "insert(tree2, vishal.username, vishal)"
   ]
  },
  {
   "cell_type": "code",
   "execution_count": 112,
   "id": "17cf1bcf",
   "metadata": {},
   "outputs": [
    {
     "name": "stdout",
     "output_type": "stream",
     "text": [
      "\t\t\t\t\t\tvishal\n",
      "\t\t\t\t\tsonaksh\n",
      "\t\t\t\t\t\t∅\n",
      "\t\t\t\tsiddhant\n",
      "\t\t\t\t\t∅\n",
      "\t\t\tjadhesh\n",
      "\t\t\t\t∅\n",
      "\t\themanth\n",
      "\t\t\t∅\n",
      "\tbiraj\n",
      "\t\t∅\n",
      "aakash\n",
      "\t∅\n"
     ]
    }
   ],
   "source": [
    "display_keys(tree2)"
   ]
  },
  {
   "cell_type": "code",
   "execution_count": 113,
   "id": "5dbca02f",
   "metadata": {},
   "outputs": [
    {
     "data": {
      "text/plain": [
       "7"
      ]
     },
     "execution_count": 113,
     "metadata": {},
     "output_type": "execute_result"
    }
   ],
   "source": [
    "tree_height(tree2)"
   ]
  },
  {
   "cell_type": "code",
   "execution_count": 114,
   "id": "249d1d33",
   "metadata": {},
   "outputs": [],
   "source": [
    "def find(node, key):\n",
    "    if node is None:\n",
    "        return None\n",
    "    if key == node.key:\n",
    "        return node\n",
    "    if key < node.key:\n",
    "        return find(node.left, key)\n",
    "    if key > node.key:\n",
    "        return find(node.right, key)"
   ]
  },
  {
   "cell_type": "code",
   "execution_count": 115,
   "id": "4fb2d833",
   "metadata": {},
   "outputs": [],
   "source": [
    "node = find(tree, 'hemanth')"
   ]
  },
  {
   "cell_type": "code",
   "execution_count": 116,
   "id": "454d4093",
   "metadata": {},
   "outputs": [
    {
     "data": {
      "text/plain": [
       "('hemanth',\n",
       " User(username='hemanth', name = 'Hemanth Jain', email = 'hemanth@example.com'))"
      ]
     },
     "execution_count": 116,
     "metadata": {},
     "output_type": "execute_result"
    }
   ],
   "source": [
    "node.key, node.value"
   ]
  },
  {
   "cell_type": "code",
   "execution_count": 117,
   "id": "34625205",
   "metadata": {},
   "outputs": [
    {
     "name": "stdout",
     "output_type": "stream",
     "text": [
      "None\n"
     ]
    }
   ],
   "source": [
    "node = find(tree, 'tanya')\n",
    "print(node)"
   ]
  },
  {
   "cell_type": "markdown",
   "id": "b43cd1a3",
   "metadata": {},
   "source": [
    "# Updating a value in a BST"
   ]
  },
  {
   "cell_type": "code",
   "execution_count": 118,
   "id": "53d15be0",
   "metadata": {},
   "outputs": [],
   "source": [
    "def update(node, key, value):\n",
    "    target = find(node, key)\n",
    "    if target is not None:\n",
    "        target.value = value"
   ]
  },
  {
   "cell_type": "code",
   "execution_count": 119,
   "id": "1e863456",
   "metadata": {},
   "outputs": [
    {
     "name": "stdout",
     "output_type": "stream",
     "text": [
      "User created\n"
     ]
    }
   ],
   "source": [
    "update(tree, 'hemanth', User('hemanth', 'Hemanth J', 'hemanthj@example.com'))"
   ]
  },
  {
   "cell_type": "code",
   "execution_count": 120,
   "id": "b5b4f642",
   "metadata": {},
   "outputs": [
    {
     "data": {
      "text/plain": [
       "User(username='hemanth', name = 'Hemanth J', email = 'hemanthj@example.com')"
      ]
     },
     "execution_count": 120,
     "metadata": {},
     "output_type": "execute_result"
    }
   ],
   "source": [
    "node = find(tree, 'hemanth')\n",
    "node.value"
   ]
  },
  {
   "cell_type": "code",
   "execution_count": 121,
   "id": "002ede6c",
   "metadata": {},
   "outputs": [],
   "source": [
    "def list_all(node):\n",
    "    if node is None:\n",
    "        return []\n",
    "    return list_all(node.left) +[(node.key, node.value)] +list_all(node.right)"
   ]
  },
  {
   "cell_type": "code",
   "execution_count": 122,
   "id": "9e75874f",
   "metadata": {},
   "outputs": [
    {
     "data": {
      "text/plain": [
       "[('aakash',\n",
       "  User(username='aakash', name = 'Aakash Rai', email = 'aakash@example.com')),\n",
       " ('biraj',\n",
       "  User(username='biraj', name = 'Biraj Das', email = 'biraj@example.com')),\n",
       " ('hemanth',\n",
       "  User(username='hemanth', name = 'Hemanth J', email = 'hemanthj@example.com')),\n",
       " ('jadhesh',\n",
       "  User(username='jadhesh', name = 'Jadhesh Verma', email = 'jadhesh@example.com')),\n",
       " ('siddhant',\n",
       "  User(username='siddhant', name = 'Siddhant U', email = 'siddhantu@example.com')),\n",
       " ('sonaksh',\n",
       "  User(username='sonaksh', name = 'Sonaksh Kumar', email = 'sonaksh@example.com')),\n",
       " ('vishal',\n",
       "  User(username='siddhant', name = 'Siddhant U', email = 'siddhantu@example.com'))]"
      ]
     },
     "execution_count": 122,
     "metadata": {},
     "output_type": "execute_result"
    }
   ],
   "source": [
    "list_all(tree)"
   ]
  },
  {
   "cell_type": "markdown",
   "id": "d361c8cb",
   "metadata": {},
   "source": [
    "# Balanced Binary Trees"
   ]
  },
  {
   "cell_type": "code",
   "execution_count": 123,
   "id": "cba447ba",
   "metadata": {},
   "outputs": [],
   "source": [
    "def is_balanced(node):\n",
    "    if node is None:\n",
    "        return True, 0\n",
    "    balanced_l, height_l = is_balanced(node.left)\n",
    "    balanced_r, height_r = is_balanced(node.right)\n",
    "    balanced = balanced_l and balanced_r and abs(height_l - height_r) <= 1\n",
    "    height = 1 + max(height_l, height_r)\n",
    "    return balanced, height\n"
   ]
  },
  {
   "cell_type": "code",
   "execution_count": 124,
   "id": "dc1ac2a8",
   "metadata": {},
   "outputs": [
    {
     "data": {
      "text/plain": [
       "(True, 3)"
      ]
     },
     "execution_count": 124,
     "metadata": {},
     "output_type": "execute_result"
    }
   ],
   "source": [
    "is_balanced(tree)"
   ]
  },
  {
   "cell_type": "code",
   "execution_count": 125,
   "id": "2ffcfdc7",
   "metadata": {},
   "outputs": [
    {
     "data": {
      "text/plain": [
       "(False, 7)"
      ]
     },
     "execution_count": 125,
     "metadata": {},
     "output_type": "execute_result"
    }
   ],
   "source": [
    "is_balanced(tree2)"
   ]
  },
  {
   "cell_type": "code",
   "execution_count": 126,
   "id": "4c30036a",
   "metadata": {},
   "outputs": [],
   "source": [
    "def make_balanced_bst(data, lo=0, hi=None, parent=None):\n",
    "    if hi is None:\n",
    "        hi = len(data) - 1\n",
    "    if lo > hi:\n",
    "        return None\n",
    "    \n",
    "    \n",
    "    mid = (lo + hi) // 2\n",
    "    key, value = data[mid]\n",
    "    \n",
    "    root = BSTNode(key, value)\n",
    "    root.parent = parent\n",
    "    root.left = make_balanced_bst(data, lo, mid-1, root)\n",
    "    root.right = make_balanced_bst(data, mid+1, hi, root)\n",
    "    \n",
    "    return root"
   ]
  },
  {
   "cell_type": "code",
   "execution_count": 127,
   "id": "93929f8e",
   "metadata": {},
   "outputs": [
    {
     "data": {
      "text/plain": [
       "[('aakash',\n",
       "  User(username='aakash', name = 'Aakash Rai', email = 'aakash@example.com')),\n",
       " ('biraj',\n",
       "  User(username='biraj', name = 'Biraj Das', email = 'biraj@example.com')),\n",
       " ('hemanth',\n",
       "  User(username='hemanth', name = 'Hemanth Jain', email = 'hemanth@example.com')),\n",
       " ('jadhesh',\n",
       "  User(username='jadhesh', name = 'Jadhesh Verma', email = 'jadhesh@example.com')),\n",
       " ('siddhant',\n",
       "  User(username='siddhant', name = 'Siddhant U', email = 'siddhantu@example.com')),\n",
       " ('sonaksh',\n",
       "  User(username='sonaksh', name = 'Sonaksh Kumar', email = 'sonaksh@example.com')),\n",
       " ('vishal',\n",
       "  User(username='vishal', name = 'Vishal Goel', email = 'vishal@example.com'))]"
      ]
     },
     "execution_count": 127,
     "metadata": {},
     "output_type": "execute_result"
    }
   ],
   "source": [
    "data = [(user.username, user) for user in users]\n",
    "data\n",
    "\n",
    "data = [(user.username, user) for user in users]\n",
    "data"
   ]
  },
  {
   "cell_type": "code",
   "execution_count": 128,
   "id": "259f358e",
   "metadata": {},
   "outputs": [],
   "source": [
    "tree = make_balanced_bst(data)"
   ]
  },
  {
   "cell_type": "code",
   "execution_count": 129,
   "id": "dc19bff4",
   "metadata": {},
   "outputs": [
    {
     "name": "stdout",
     "output_type": "stream",
     "text": [
      "\t\tvishal\n",
      "\tsonaksh\n",
      "\t\tsiddhant\n",
      "jadhesh\n",
      "\t\themanth\n",
      "\tbiraj\n",
      "\t\taakash\n"
     ]
    }
   ],
   "source": [
    "display_keys(tree)"
   ]
  },
  {
   "cell_type": "code",
   "execution_count": 130,
   "id": "c0e885f8",
   "metadata": {},
   "outputs": [],
   "source": [
    "tree3 = None\n",
    "for username, user in data:\n",
    "    tree3 = insert(tree3, username, user)"
   ]
  },
  {
   "cell_type": "code",
   "execution_count": 131,
   "id": "ab0a69b0",
   "metadata": {},
   "outputs": [
    {
     "name": "stdout",
     "output_type": "stream",
     "text": [
      "\t\t\t\t\t\tvishal\n",
      "\t\t\t\t\tsonaksh\n",
      "\t\t\t\t\t\t∅\n",
      "\t\t\t\tsiddhant\n",
      "\t\t\t\t\t∅\n",
      "\t\t\tjadhesh\n",
      "\t\t\t\t∅\n",
      "\t\themanth\n",
      "\t\t\t∅\n",
      "\tbiraj\n",
      "\t\t∅\n",
      "aakash\n",
      "\t∅\n"
     ]
    }
   ],
   "source": [
    "display_keys(tree3)"
   ]
  },
  {
   "cell_type": "markdown",
   "id": "a1c76b77",
   "metadata": {},
   "source": [
    "# Balancing an Unbalance BST"
   ]
  },
  {
   "cell_type": "code",
   "execution_count": 132,
   "id": "0dcfe9ca",
   "metadata": {},
   "outputs": [],
   "source": [
    "def balance_bst(node):\n",
    "    return make_balanced_bst(list_all(node))"
   ]
  },
  {
   "cell_type": "code",
   "execution_count": 133,
   "id": "13f42408",
   "metadata": {},
   "outputs": [],
   "source": [
    "tree1 = None"
   ]
  },
  {
   "cell_type": "code",
   "execution_count": 134,
   "id": "bd040727",
   "metadata": {},
   "outputs": [],
   "source": [
    "for user in users:\n",
    "    tree1 = insert(tree, user.username, user)"
   ]
  },
  {
   "cell_type": "code",
   "execution_count": 135,
   "id": "892adb46",
   "metadata": {},
   "outputs": [
    {
     "name": "stdout",
     "output_type": "stream",
     "text": [
      "\t\tvishal\n",
      "\tsonaksh\n",
      "\t\tsiddhant\n",
      "jadhesh\n",
      "\t\themanth\n",
      "\tbiraj\n",
      "\t\taakash\n"
     ]
    }
   ],
   "source": [
    "display_keys(tree1)"
   ]
  },
  {
   "cell_type": "code",
   "execution_count": 136,
   "id": "a5fc8b3c",
   "metadata": {},
   "outputs": [],
   "source": [
    "tree2 = balance_bst(tree1)"
   ]
  },
  {
   "cell_type": "code",
   "execution_count": 137,
   "id": "1c8e257f",
   "metadata": {},
   "outputs": [
    {
     "name": "stdout",
     "output_type": "stream",
     "text": [
      "\t\tvishal\n",
      "\tsonaksh\n",
      "\t\tsiddhant\n",
      "jadhesh\n",
      "\t\themanth\n",
      "\tbiraj\n",
      "\t\taakash\n"
     ]
    }
   ],
   "source": [
    "display_keys(tree2)"
   ]
  },
  {
   "cell_type": "markdown",
   "id": "ae2c8824",
   "metadata": {},
   "source": [
    "# Time and space complexity"
   ]
  },
  {
   "cell_type": "code",
   "execution_count": 138,
   "id": "7b2b488e",
   "metadata": {},
   "outputs": [
    {
     "data": {
      "text/plain": [
       "26.5754247590989"
      ]
     },
     "execution_count": 138,
     "metadata": {},
     "output_type": "execute_result"
    }
   ],
   "source": [
    "import math\n",
    "\n",
    "math.log(100000000, 2)"
   ]
  },
  {
   "cell_type": "code",
   "execution_count": 139,
   "id": "e932f2e8",
   "metadata": {},
   "outputs": [
    {
     "name": "stdout",
     "output_type": "stream",
     "text": [
      "CPU times: total: 0 ns\n",
      "Wall time: 0 ns\n"
     ]
    }
   ],
   "source": [
    "%%time\n",
    "for i in range(26):\n",
    "    J = i*i"
   ]
  },
  {
   "cell_type": "code",
   "execution_count": 140,
   "id": "285e32b6",
   "metadata": {},
   "outputs": [
    {
     "name": "stdout",
     "output_type": "stream",
     "text": [
      "CPU times: total: 4.67 s\n",
      "Wall time: 8.66 s\n"
     ]
    }
   ],
   "source": [
    "%%time\n",
    "for i in range(100000000):\n",
    "    j= i*i"
   ]
  },
  {
   "cell_type": "markdown",
   "id": "4eece1b2",
   "metadata": {},
   "source": [
    "# A Python-Friendly Treemap"
   ]
  },
  {
   "cell_type": "code",
   "execution_count": 141,
   "id": "9b18b1f0",
   "metadata": {},
   "outputs": [],
   "source": [
    "class TreeMap():\n",
    "    def __init__(self):\n",
    "        self.root = None\n",
    "    def __setitem__(self, key, value):\n",
    "        node = find(self.root, key)\n",
    "        if not node:\n",
    "            self.root = insert(self.root, key, value)\n",
    "            self.root = balance_bst(self.root)\n",
    "        else:\n",
    "            update(self.root, key, value)\n",
    "    def __getitem__(self, key):\n",
    "        node = find(self.root, key)\n",
    "        return node.value if node else None\n",
    "    \n",
    "    def __iter__(self):\n",
    "        return(x for x in list_all(self.root))\n",
    "    \n",
    "    def __len__(self):\n",
    "        return tree_size(self.root)\n",
    "    \n",
    "    def display(self):\n",
    "        return display_keys(self.root)"
   ]
  },
  {
   "cell_type": "code",
   "execution_count": 142,
   "id": "00ec814e",
   "metadata": {},
   "outputs": [
    {
     "data": {
      "text/plain": [
       "[User(username='aakash', name = 'Aakash Rai', email = 'aakash@example.com'),\n",
       " User(username='biraj', name = 'Biraj Das', email = 'biraj@example.com'),\n",
       " User(username='hemanth', name = 'Hemanth Jain', email = 'hemanth@example.com'),\n",
       " User(username='jadhesh', name = 'Jadhesh Verma', email = 'jadhesh@example.com'),\n",
       " User(username='siddhant', name = 'Siddhant U', email = 'siddhantu@example.com'),\n",
       " User(username='sonaksh', name = 'Sonaksh Kumar', email = 'sonaksh@example.com'),\n",
       " User(username='vishal', name = 'Vishal Goel', email = 'vishal@example.com')]"
      ]
     },
     "execution_count": 142,
     "metadata": {},
     "output_type": "execute_result"
    }
   ],
   "source": [
    "users"
   ]
  },
  {
   "cell_type": "code",
   "execution_count": 143,
   "id": "b15ae3a1",
   "metadata": {},
   "outputs": [],
   "source": [
    "treemap = TreeMap()"
   ]
  },
  {
   "cell_type": "code",
   "execution_count": 144,
   "id": "fc7dca11",
   "metadata": {},
   "outputs": [
    {
     "name": "stdout",
     "output_type": "stream",
     "text": [
      "None\n"
     ]
    }
   ],
   "source": [
    "print(treemap.root)"
   ]
  },
  {
   "cell_type": "code",
   "execution_count": 145,
   "id": "50b64a80",
   "metadata": {},
   "outputs": [],
   "source": [
    "treemap.root"
   ]
  },
  {
   "cell_type": "code",
   "execution_count": 146,
   "id": "8c4d2dcf",
   "metadata": {},
   "outputs": [],
   "source": [
    "treemap['aakash'] = aakash\n",
    "treemap['jadhesh'] = jadhesh\n",
    "treemap['sonaksh'] = sonaksh"
   ]
  },
  {
   "cell_type": "code",
   "execution_count": 147,
   "id": "198a518d",
   "metadata": {
    "scrolled": true
   },
   "outputs": [
    {
     "name": "stdout",
     "output_type": "stream",
     "text": [
      "\tsonaksh\n",
      "jadhesh\n",
      "\taakash\n"
     ]
    }
   ],
   "source": [
    "treemap.display()"
   ]
  },
  {
   "cell_type": "code",
   "execution_count": 148,
   "id": "63eae8e8",
   "metadata": {},
   "outputs": [],
   "source": [
    "treemap['biraj'] = biraj\n",
    "treemap['hemanth'] = hemanth\n",
    "treemap['siddhant'] = siddhant\n",
    "treemap['vishal'] = vishal"
   ]
  },
  {
   "cell_type": "code",
   "execution_count": 149,
   "id": "a632d743",
   "metadata": {},
   "outputs": [
    {
     "name": "stdout",
     "output_type": "stream",
     "text": [
      "aakash User(username='aakash', name = 'Aakash Rai', email = 'aakash@example.com')\n",
      "biraj User(username='biraj', name = 'Biraj Das', email = 'biraj@example.com')\n",
      "hemanth User(username='hemanth', name = 'Hemanth Jain', email = 'hemanth@example.com')\n",
      "jadhesh User(username='jadhesh', name = 'Jadhesh Verma', email = 'jadhesh@example.com')\n",
      "siddhant User(username='siddhant', name = 'Siddhant U', email = 'siddhantu@example.com')\n",
      "sonaksh User(username='sonaksh', name = 'Sonaksh Kumar', email = 'sonaksh@example.com')\n",
      "vishal User(username='vishal', name = 'Vishal Goel', email = 'vishal@example.com')\n"
     ]
    }
   ],
   "source": [
    "for key, value in treemap:\n",
    "    print(key, value)"
   ]
  },
  {
   "cell_type": "code",
   "execution_count": 150,
   "id": "373dddb4",
   "metadata": {},
   "outputs": [
    {
     "data": {
      "text/plain": [
       "[('aakash',\n",
       "  User(username='aakash', name = 'Aakash Rai', email = 'aakash@example.com')),\n",
       " ('biraj',\n",
       "  User(username='biraj', name = 'Biraj Das', email = 'biraj@example.com')),\n",
       " ('hemanth',\n",
       "  User(username='hemanth', name = 'Hemanth Jain', email = 'hemanth@example.com')),\n",
       " ('jadhesh',\n",
       "  User(username='jadhesh', name = 'Jadhesh Verma', email = 'jadhesh@example.com')),\n",
       " ('siddhant',\n",
       "  User(username='siddhant', name = 'Siddhant U', email = 'siddhantu@example.com')),\n",
       " ('sonaksh',\n",
       "  User(username='sonaksh', name = 'Sonaksh Kumar', email = 'sonaksh@example.com')),\n",
       " ('vishal',\n",
       "  User(username='vishal', name = 'Vishal Goel', email = 'vishal@example.com'))]"
      ]
     },
     "execution_count": 150,
     "metadata": {},
     "output_type": "execute_result"
    }
   ],
   "source": [
    "list(treemap)"
   ]
  },
  {
   "cell_type": "code",
   "execution_count": 151,
   "id": "1793b042",
   "metadata": {},
   "outputs": [
    {
     "name": "stdout",
     "output_type": "stream",
     "text": [
      "User created\n"
     ]
    }
   ],
   "source": [
    "treemap['aakash'] = User(username='aakash', name='Aakash N S', email='aakashns@example.com')"
   ]
  },
  {
   "cell_type": "code",
   "execution_count": 152,
   "id": "d6e351ab",
   "metadata": {},
   "outputs": [
    {
     "data": {
      "text/plain": [
       "User(username='aakash', name = 'Aakash N S', email = 'aakashns@example.com')"
      ]
     },
     "execution_count": 152,
     "metadata": {},
     "output_type": "execute_result"
    }
   ],
   "source": [
    "treemap['aakash']"
   ]
  },
  {
   "cell_type": "code",
   "execution_count": 153,
   "id": "3e1c5fea",
   "metadata": {},
   "outputs": [
    {
     "data": {
      "text/plain": [
       "7"
      ]
     },
     "execution_count": 153,
     "metadata": {},
     "output_type": "execute_result"
    }
   ],
   "source": [
    "len(treemap)"
   ]
  },
  {
   "cell_type": "code",
   "execution_count": 154,
   "id": "11400c78",
   "metadata": {},
   "outputs": [
    {
     "name": "stdout",
     "output_type": "stream",
     "text": [
      "Requirement already satisfied: jovian in c:\\users\\user\\anaconda3\\lib\\site-packages (0.2.47)\n",
      "Requirement already satisfied: requests in c:\\users\\user\\anaconda3\\lib\\site-packages (from jovian) (2.31.0)\n",
      "Requirement already satisfied: uuid in c:\\users\\user\\anaconda3\\lib\\site-packages (from jovian) (1.30)\n",
      "Requirement already satisfied: pyyaml in c:\\users\\user\\anaconda3\\lib\\site-packages (from jovian) (6.0)\n",
      "Requirement already satisfied: click in c:\\users\\user\\anaconda3\\lib\\site-packages (from jovian) (8.0.4)\n",
      "Requirement already satisfied: colorama in c:\\users\\user\\anaconda3\\lib\\site-packages (from click->jovian) (0.4.6)\n",
      "Requirement already satisfied: charset-normalizer<4,>=2 in c:\\users\\user\\anaconda3\\lib\\site-packages (from requests->jovian) (2.0.4)\n",
      "Requirement already satisfied: idna<4,>=2.5 in c:\\users\\user\\anaconda3\\lib\\site-packages (from requests->jovian) (3.4)\n",
      "Requirement already satisfied: urllib3<3,>=1.21.1 in c:\\users\\user\\anaconda3\\lib\\site-packages (from requests->jovian) (1.26.16)\n",
      "Requirement already satisfied: certifi>=2017.4.17 in c:\\users\\user\\anaconda3\\lib\\site-packages (from requests->jovian) (2023.7.22)\n"
     ]
    }
   ],
   "source": [
    "!pip install jovian --upgrade "
   ]
  },
  {
   "cell_type": "code",
   "execution_count": 155,
   "id": "ffdb7006",
   "metadata": {
    "scrolled": true
   },
   "outputs": [],
   "source": [
    "import jovian"
   ]
  },
  {
   "cell_type": "code",
   "execution_count": 156,
   "id": "29d138fe",
   "metadata": {},
   "outputs": [
    {
     "data": {
      "application/javascript": [
       "window.require && require([\"base/js/namespace\"],function(Jupyter){Jupyter.notebook.save_checkpoint()})"
      ],
      "text/plain": [
       "<IPython.core.display.Javascript object>"
      ]
     },
     "metadata": {},
     "output_type": "display_data"
    },
    {
     "name": "stdout",
     "output_type": "stream",
     "text": [
      "[jovian] Updating notebook \"blackparrotone/python-binary-search-trees\" on https://jovian.com/\u001b[0m\n",
      "[jovian] Committed successfully! https://jovian.com/blackparrotone/python-binary-search-trees\u001b[0m\n"
     ]
    },
    {
     "data": {
      "text/plain": [
       "'https://jovian.com/blackparrotone/python-binary-search-trees'"
      ]
     },
     "execution_count": 156,
     "metadata": {},
     "output_type": "execute_result"
    }
   ],
   "source": [
    "jovian.commit()"
   ]
  },
  {
   "cell_type": "markdown",
   "id": "9e835465",
   "metadata": {},
   "source": [
    "\n",
    "Self-Balancing Binary Trees \n",
    "\n",
    "- B-trees, \n",
    "- Red Black Tree\n",
    "- AVL Trees\n",
    "    Four Steps\n",
    "    - Left Right Case\n",
    "    - Right Left  Case\n",
    "    - Left Left Case\n",
    "    - Right Right Case\n",
    "    \n",
    "\n",
    "![](https://upload.wikimedia.org/wikipedia/commons/f/fd/AVL_Tree_Example.gif)\n",
    "\n",
    "\n",
    "![](https://s3.amazonaws.com/hr-challenge-images/0/1436854305-b167cc766c-AVL_Tree_Rebalancing.svg.png)\n",
    "\n",
    "Source: [HackerRank](https://www.hackerrank.com/challenges/self-balancing-tree/problem)\n",
    "\n",
    "\n",
    "* Explanation of the various cases: https://youtu.be/jDM6_TnYIqE?t=482\n",
    "* Implementation: https://www.geeksforgeeks.org/avl-tree-set-1-insertion/\n",
    "\n",
    "\n",
    "* Maps in C++ and Java, also the data storage systems, file system, \n",
    "indexes or relational Databases use the Binary search tree "
   ]
  },
  {
   "cell_type": "markdown",
   "id": "5aad2e32",
   "metadata": {},
   "source": [
    "Exercises\n",
    "\n",
    "1. Implement rotations and self-balancing insertion\n",
    "2. Implement deletion of a node from a binary search tree\n",
    "3. Implement deletion of a node from a BST (with balancing)\n",
    "4. Find the lowest common ancestor of two nodes in a tree (Hint: Use the parent property)\n",
    "5. Find the next node in lexicographic order for a given node\n",
    "6. Given a number k, find the k-th node in a BST.\n",
    "\n",
    "Using the recursion to all of them - and other functions like size, height etc."
   ]
  }
 ],
 "metadata": {
  "kernelspec": {
   "display_name": "Python 3 (ipykernel)",
   "language": "python",
   "name": "python3"
  },
  "language_info": {
   "codemirror_mode": {
    "name": "ipython",
    "version": 3
   },
   "file_extension": ".py",
   "mimetype": "text/x-python",
   "name": "python",
   "nbconvert_exporter": "python",
   "pygments_lexer": "ipython3",
   "version": "3.11.5"
  }
 },
 "nbformat": 4,
 "nbformat_minor": 5
}
