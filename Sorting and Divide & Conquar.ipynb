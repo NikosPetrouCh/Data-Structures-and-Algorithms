{
 "cells": [
  {
   "cell_type": "markdown",
   "id": "eec3e800",
   "metadata": {},
   "source": [
    "\n",
    "# Sorting and Divide & Conquar\n",
    "\n",
    "\n",
    "1. Bubble sort\n",
    "2. Insertion sort\n",
    "3. Merge sort\n",
    "4. Quick sort\n"
   ]
  },
  {
   "cell_type": "code",
   "execution_count": 11,
   "id": "20992572",
   "metadata": {},
   "outputs": [],
   "source": [
    "def sort(nums):\n",
    "    pass"
   ]
  },
  {
   "cell_type": "code",
   "execution_count": 12,
   "id": "06ddd90d",
   "metadata": {},
   "outputs": [],
   "source": [
    "# List of numbers in random order\n",
    "test0 = {\n",
    "    'input': {\n",
    "        'nums': [4, 2, 6, 3, 4, 6, 2, 1]\n",
    "    },\n",
    "    'output': [1, 2, 2, 3, 4, 4, 6, 6]\n",
    "}"
   ]
  },
  {
   "cell_type": "code",
   "execution_count": 13,
   "id": "7d92c4d5",
   "metadata": {},
   "outputs": [],
   "source": [
    "# List of numbers in random order\n",
    "test1 = {\n",
    "    'input': {\n",
    "        'nums': [5, 2, 6, 1, 23, 7, -12, 12, -243, 0]\n",
    "    },\n",
    "    'output': [-243, -12, 0, 1, 2, 5, 6, 7, 12, 23]\n",
    "}"
   ]
  },
  {
   "cell_type": "code",
   "execution_count": 14,
   "id": "5b4dc9f7",
   "metadata": {},
   "outputs": [],
   "source": [
    "# A list that's already sorted\n",
    "test2 = {\n",
    "    'input': {\n",
    "        'nums': [3, 5, 6, 8, 9, 10, 99]\n",
    "    },\n",
    "    'output': [3, 5, 6, 8, 9, 10, 99]\n",
    "}"
   ]
  },
  {
   "cell_type": "code",
   "execution_count": 15,
   "id": "a9d7e14c",
   "metadata": {},
   "outputs": [],
   "source": [
    "# A list that's sorted in descending order\n",
    "test3 = {\n",
    "    'input': {\n",
    "        'nums': [99, 10, 9, 8, 6, 5, 3]\n",
    "    },\n",
    "    'output': [3, 5, 6, 8, 9, 10, 99]\n",
    "}"
   ]
  },
  {
   "cell_type": "code",
   "execution_count": 16,
   "id": "d63389f3",
   "metadata": {},
   "outputs": [],
   "source": [
    "# A list containing repeating elements\n",
    "test4 = {\n",
    "    'input': {\n",
    "        'nums': [5, -12, 2, 6, 1, 23, 7, 7, -12, 6, 12, 1, -243, 1, 0]\n",
    "    },\n",
    "    'output': [-243, -12, -12, 0, 1, 1, 1, 2, 5, 6, 6, 7, 7, 12, 23]\n",
    "}"
   ]
  },
  {
   "cell_type": "code",
   "execution_count": 17,
   "id": "d040bda5",
   "metadata": {},
   "outputs": [],
   "source": [
    "# An empty list \n",
    "test5 = {\n",
    "    'input': {\n",
    "        'nums': []\n",
    "    },\n",
    "    'output': []\n",
    "}"
   ]
  },
  {
   "cell_type": "code",
   "execution_count": 18,
   "id": "da84c863",
   "metadata": {},
   "outputs": [],
   "source": [
    "# A list containing just one element\n",
    "test6 = {\n",
    "    'input': {\n",
    "        'nums': [23]\n",
    "    },\n",
    "    'output': [23]\n",
    "}"
   ]
  },
  {
   "cell_type": "code",
   "execution_count": 19,
   "id": "30980de8",
   "metadata": {},
   "outputs": [],
   "source": [
    "# A list containing one element repeated many times\n",
    "test7 = {\n",
    "    'input': {\n",
    "        'nums': [42, 42, 42, 42, 42, 42, 42]\n",
    "    },\n",
    "    'output': [42, 42, 42, 42, 42, 42, 42]\n",
    "}"
   ]
  },
  {
   "cell_type": "code",
   "execution_count": 20,
   "id": "f06110a5",
   "metadata": {},
   "outputs": [],
   "source": [
    "import random\n",
    "\n",
    "in_list = list(range(10000))\n",
    "out_list = list(range(10000))\n",
    "random.shuffle(in_list)\n",
    "\n",
    "test8 = {\n",
    "    'input': {\n",
    "        'nums': in_list\n",
    "    },\n",
    "    'output': out_list\n",
    "}"
   ]
  },
  {
   "cell_type": "code",
   "execution_count": 21,
   "id": "e41b8bdd",
   "metadata": {},
   "outputs": [
    {
     "data": {
      "text/plain": [
       "[9864, 7502, 72, 3701, 3645, 2428, 5286, 6623, 3509, 2633]"
      ]
     },
     "execution_count": 21,
     "metadata": {},
     "output_type": "execute_result"
    }
   ],
   "source": [
    "in_list[:10]"
   ]
  },
  {
   "cell_type": "code",
   "execution_count": 22,
   "id": "49aa7653",
   "metadata": {},
   "outputs": [
    {
     "data": {
      "text/plain": [
       "[0, 1, 2, 3, 4, 5, 6, 7, 8, 9]"
      ]
     },
     "execution_count": 22,
     "metadata": {},
     "output_type": "execute_result"
    }
   ],
   "source": [
    "out_list[:10]"
   ]
  },
  {
   "cell_type": "code",
   "execution_count": 23,
   "id": "00e053e1",
   "metadata": {},
   "outputs": [],
   "source": [
    "tests = [test0, test1, test2, test3, test4, test5, test6, test7, test8]"
   ]
  },
  {
   "cell_type": "code",
   "execution_count": 24,
   "id": "ad7fb807",
   "metadata": {},
   "outputs": [
    {
     "data": {
      "text/plain": [
       "[0, 1, 2, 3, 4, 5, 6, 7, 8, 9]"
      ]
     },
     "execution_count": 24,
     "metadata": {},
     "output_type": "execute_result"
    }
   ],
   "source": [
    "list(range(10))"
   ]
  },
  {
   "cell_type": "code",
   "execution_count": 25,
   "id": "133c73b8",
   "metadata": {},
   "outputs": [
    {
     "name": "stdout",
     "output_type": "stream",
     "text": [
      "0\n",
      "1\n",
      "2\n",
      "3\n",
      "4\n",
      "5\n",
      "6\n",
      "7\n",
      "8\n",
      "9\n"
     ]
    }
   ],
   "source": [
    "for i in range(10):\n",
    "    print(i)"
   ]
  },
  {
   "cell_type": "markdown",
   "id": "8c13f9b6",
   "metadata": {},
   "source": [
    "# Bubble Sort"
   ]
  },
  {
   "cell_type": "code",
   "execution_count": 26,
   "id": "072041d2",
   "metadata": {},
   "outputs": [],
   "source": [
    "def bubble_sort(nums):\n",
    "    # Create a copy of the list, to avoid changing it\n",
    "    nums = list(nums)\n",
    "#         print('bubble_sort', nums)\n",
    "    # 4. Repeat the process n-1 times\n",
    "    for j in range(len(nums) - 1):\n",
    "#         print('iteration', j)\n",
    "        # 1. Iterate over the array (except last element)\n",
    "        for i in range(len(nums) - 1):\n",
    "#             print('i', i, nums[i], num[i+1]))\n",
    "            \n",
    "            # 2. Compare the number with  \n",
    "            if nums[i] > nums[i+1]:\n",
    "                \n",
    "                # 3. Swap the two elements\n",
    "                nums[i], nums[i+1] = nums[i+1], nums[i]\n",
    "    \n",
    "    # Return the sorted list\n",
    "    return nums"
   ]
  },
  {
   "cell_type": "code",
   "execution_count": 27,
   "id": "8acc1e34",
   "metadata": {},
   "outputs": [
    {
     "data": {
      "text/plain": [
       "(3, 2)"
      ]
     },
     "execution_count": 27,
     "metadata": {},
     "output_type": "execute_result"
    }
   ],
   "source": [
    "x, y = 2, 3\n",
    "x, y = y, x\n",
    "x, y"
   ]
  },
  {
   "cell_type": "code",
   "execution_count": 28,
   "id": "bb3f6543",
   "metadata": {},
   "outputs": [
    {
     "name": "stdout",
     "output_type": "stream",
     "text": [
      "Input: [4, 2, 6, 3, 4, 6, 2, 1]\n",
      "Expected output: [1, 2, 2, 3, 4, 4, 6, 6]\n",
      "Actual output: [1, 2, 2, 3, 4, 4, 6, 6]\n",
      "Match: True\n"
     ]
    }
   ],
   "source": [
    "nums0, output0 = test0['input']['nums'], test0['output']\n",
    "\n",
    "print('Input:', nums0)\n",
    "print('Expected output:', output0)\n",
    "result0 = bubble_sort(nums0)\n",
    "print('Actual output:', result0)\n",
    "print('Match:', result0 == output0)"
   ]
  },
  {
   "cell_type": "code",
   "execution_count": 29,
   "id": "8785ca11",
   "metadata": {},
   "outputs": [],
   "source": [
    "!pip install jovian --upgrade --quiet"
   ]
  },
  {
   "cell_type": "code",
   "execution_count": 30,
   "id": "98a8ee9b",
   "metadata": {},
   "outputs": [],
   "source": [
    "from jovian.pythondsa import evaluate_test_cases"
   ]
  },
  {
   "cell_type": "code",
   "execution_count": 31,
   "id": "6002b483",
   "metadata": {},
   "outputs": [
    {
     "name": "stdout",
     "output_type": "stream",
     "text": [
      "\n",
      "\u001b[1mTEST CASE #0\u001b[0m\n",
      "\n",
      "Input:\n",
      "{'nums': [4, 2, 6, 3, 4, 6, 2, 1]}\n",
      "\n",
      "Expected Output:\n",
      "[1, 2, 2, 3, 4, 4, 6, 6]\n",
      "\n",
      "\n",
      "Actual Output:\n",
      "[1, 2, 2, 3, 4, 4, 6, 6]\n",
      "\n",
      "Execution Time:\n",
      "0.019 ms\n",
      "\n",
      "Test Result:\n",
      "\u001b[92mPASSED\u001b[0m\n",
      "\n",
      "\n",
      "\u001b[1mTEST CASE #1\u001b[0m\n",
      "\n",
      "Input:\n",
      "{'nums': [5, 2, 6, 1, 23, 7, -12, 12, -243, 0]}\n",
      "\n",
      "Expected Output:\n",
      "[-243, -12, 0, 1, 2, 5, 6, 7, 12, 23]\n",
      "\n",
      "\n",
      "Actual Output:\n",
      "[-243, -12, 0, 1, 2, 5, 6, 7, 12, 23]\n",
      "\n",
      "Execution Time:\n",
      "0.033 ms\n",
      "\n",
      "Test Result:\n",
      "\u001b[92mPASSED\u001b[0m\n",
      "\n",
      "\n",
      "\u001b[1mTEST CASE #2\u001b[0m\n",
      "\n",
      "Input:\n",
      "{'nums': [3, 5, 6, 8, 9, 10, 99]}\n",
      "\n",
      "Expected Output:\n",
      "[3, 5, 6, 8, 9, 10, 99]\n",
      "\n",
      "\n",
      "Actual Output:\n",
      "[3, 5, 6, 8, 9, 10, 99]\n",
      "\n",
      "Execution Time:\n",
      "0.011 ms\n",
      "\n",
      "Test Result:\n",
      "\u001b[92mPASSED\u001b[0m\n",
      "\n",
      "\n",
      "\u001b[1mTEST CASE #3\u001b[0m\n",
      "\n",
      "Input:\n",
      "{'nums': [99, 10, 9, 8, 6, 5, 3]}\n",
      "\n",
      "Expected Output:\n",
      "[3, 5, 6, 8, 9, 10, 99]\n",
      "\n",
      "\n",
      "Actual Output:\n",
      "[3, 5, 6, 8, 9, 10, 99]\n",
      "\n",
      "Execution Time:\n",
      "0.014 ms\n",
      "\n",
      "Test Result:\n",
      "\u001b[92mPASSED\u001b[0m\n",
      "\n",
      "\n",
      "\u001b[1mTEST CASE #4\u001b[0m\n",
      "\n",
      "Input:\n",
      "{'nums': [5, -12, 2, 6, 1, 23, 7, 7, -12, 6, 12, 1, -243, 1, 0]}\n",
      "\n",
      "Expected Output:\n",
      "[-243, -12, -12, 0, 1, 1, 1, 2, 5, 6, 6, 7, 7, 12, 23]\n",
      "\n",
      "\n",
      "Actual Output:\n",
      "[-243, -12, -12, 0, 1, 1, 1, 2, 5, 6, 6, 7, 7, 12, 23]\n",
      "\n",
      "Execution Time:\n",
      "0.033 ms\n",
      "\n",
      "Test Result:\n",
      "\u001b[92mPASSED\u001b[0m\n",
      "\n",
      "\n",
      "\u001b[1mTEST CASE #5\u001b[0m\n",
      "\n",
      "Input:\n",
      "{'nums': []}\n",
      "\n",
      "Expected Output:\n",
      "[]\n",
      "\n",
      "\n",
      "Actual Output:\n",
      "[]\n",
      "\n",
      "Execution Time:\n",
      "0.003 ms\n",
      "\n",
      "Test Result:\n",
      "\u001b[92mPASSED\u001b[0m\n",
      "\n",
      "\n",
      "\u001b[1mTEST CASE #6\u001b[0m\n",
      "\n",
      "Input:\n",
      "{'nums': [23]}\n",
      "\n",
      "Expected Output:\n",
      "[23]\n",
      "\n",
      "\n",
      "Actual Output:\n",
      "[23]\n",
      "\n",
      "Execution Time:\n",
      "0.003 ms\n",
      "\n",
      "Test Result:\n",
      "\u001b[92mPASSED\u001b[0m\n",
      "\n",
      "\n",
      "\u001b[1mTEST CASE #7\u001b[0m\n",
      "\n",
      "Input:\n",
      "{'nums': [42, 42, 42, 42, 42, 42, 42]}\n",
      "\n",
      "Expected Output:\n",
      "[42, 42, 42, 42, 42, 42, 42]\n",
      "\n",
      "\n",
      "Actual Output:\n",
      "[42, 42, 42, 42, 42, 42, 42]\n",
      "\n",
      "Execution Time:\n",
      "0.011 ms\n",
      "\n",
      "Test Result:\n",
      "\u001b[92mPASSED\u001b[0m\n",
      "\n",
      "\n",
      "\u001b[1mTEST CASE #8\u001b[0m\n",
      "\n",
      "Input:\n",
      "{'nums': [9864, 7502, 72, 3701, 3645, 2428, 5286, 6623, 3509, 2633, 2558, 9166, 894, 8290, 9875, 842...\n",
      "\n",
      "Expected Output:\n",
      "[0, 1, 2, 3, 4, 5, 6, 7, 8, 9, 10, 11, 12, 13, 14, 15, 16, 17, 18, 19, 20, 21, 22, 23, 24, 25, 26, 2...\n",
      "\n",
      "\n",
      "Actual Output:\n",
      "[0, 1, 2, 3, 4, 5, 6, 7, 8, 9, 10, 11, 12, 13, 14, 15, 16, 17, 18, 19, 20, 21, 22, 23, 24, 25, 26, 2...\n",
      "\n",
      "Execution Time:\n",
      "7760.818 ms\n",
      "\n",
      "Test Result:\n",
      "\u001b[92mPASSED\u001b[0m\n",
      "\n",
      "\n",
      "\u001b[1mSUMMARY\u001b[0m\n",
      "\n",
      "TOTAL: 9, \u001b[92mPASSED\u001b[0m: 9, \u001b[91mFAILED\u001b[0m: 0\n"
     ]
    }
   ],
   "source": [
    "results = evaluate_test_cases(bubble_sort, tests)"
   ]
  },
  {
   "cell_type": "markdown",
   "id": "f40a8c8d",
   "metadata": {},
   "source": [
    "## Analyze the algorithm's complexity and identify inefficiences"
   ]
  },
  {
   "cell_type": "markdown",
   "id": "a83c82f0",
   "metadata": {},
   "source": [
    "The time complexity of bubble sort in the Big O notation\n",
    "is $O(n^2)$ - order of n square (also known as quadratic complexity).    \n",
    "\n",
    "The space complexity of bubble sort is $O(n)$, \n",
    "even thought it requires only constant/zero \n",
    "additional space, because the space required to \n",
    "store the inputs is also considered while calculating \n",
    "space complexity.\n",
    "\n",
    "* In c++ time complexity is 4 times shorter than this of python"
   ]
  },
  {
   "cell_type": "markdown",
   "id": "a56fb18a",
   "metadata": {},
   "source": [
    "# Insertion Sort\n",
    "\n",
    "Before we look at explore more efficient sorting techniques, here's another\n",
    "simple sorting technique called insertion sort, where we keep the initial\n",
    "portion of the array sorted and insert the remaining elements one by one \n",
    "at the right position."
   ]
  },
  {
   "cell_type": "code",
   "execution_count": 40,
   "id": "0e0fa359",
   "metadata": {},
   "outputs": [],
   "source": [
    "def insertion_sort(nums):\n",
    "    nums = list(nums)\n",
    "    for i in range(len(nums)):\n",
    "        cur = nums.pop(i)\n",
    "        j = i -1\n",
    "        while j >= 0 and nums[j] > cur:\n",
    "            j -= 1\n",
    "        nums.insert(j+1, cur)\n",
    "    return nums"
   ]
  },
  {
   "cell_type": "code",
   "execution_count": 41,
   "id": "26c16fdd",
   "metadata": {},
   "outputs": [
    {
     "name": "stdout",
     "output_type": "stream",
     "text": [
      "Input: [4, 2, 6, 3, 4, 6, 2, 1]\n",
      "Expected output: [1, 2, 2, 3, 4, 4, 6, 6]\n",
      "Actual output: [1, 2, 2, 3, 4, 4, 6, 6]\n",
      "Match: True\n"
     ]
    }
   ],
   "source": [
    "nums0, output0 = test0['input']['nums'], test0['output']\n",
    "\n",
    "print('Input:', nums0)\n",
    "print('Expected output:', output0)\n",
    "result0 = insertion_sort(nums0)\n",
    "print('Actual output:', result0)\n",
    "print('Match:', result0 == output0)"
   ]
  },
  {
   "cell_type": "markdown",
   "id": "bc003ada",
   "metadata": {},
   "source": [
    "**Exercises**:\n",
    "\n",
    "1. Read the source code of the `insertion_sort` function and describe the algorithm \n",
    "in plain English. Reading source code is an essential skill for software \n",
    "development.\n",
    "\n",
    "2. Determine the time and space complexity of insertion sort. Is it any \n",
    "better than bubble sort? Why or why not?"
   ]
  },
  {
   "cell_type": "markdown",
   "id": "c12c93e8",
   "metadata": {},
   "source": [
    "# Merge Sort"
   ]
  },
  {
   "cell_type": "code",
   "execution_count": 44,
   "id": "2ef2bb89",
   "metadata": {},
   "outputs": [],
   "source": [
    "x = [1, 3, 5, 12, 5, 1]\n",
    "mid = 3"
   ]
  },
  {
   "cell_type": "code",
   "execution_count": 45,
   "id": "45443fa7",
   "metadata": {},
   "outputs": [
    {
     "data": {
      "text/plain": [
       "[12, 5, 1]"
      ]
     },
     "execution_count": 45,
     "metadata": {},
     "output_type": "execute_result"
    }
   ],
   "source": [
    "x[mid:len(x)]"
   ]
  },
  {
   "cell_type": "code",
   "execution_count": 85,
   "id": "581349bb",
   "metadata": {},
   "outputs": [],
   "source": [
    "def merge_sort(nums):\n",
    "    #Terminating condition (list of 0 or 1 elements)\n",
    "    if len(nums) <= 1:\n",
    "        return nums\n",
    "    \n",
    "    # Get the midpoint\n",
    "    mid = len(nums) // 2\n",
    "    \n",
    "    # Split the list into two halves\n",
    "    left = nums[:mid]\n",
    "    right = nums[mid:]\n",
    "    \n",
    "    # Solve the problem for each half recursively\n",
    "    left_sorted, right_sorted = merge_sort(left), merge_sort(right)\n",
    "    \n",
    "    # Combine the results of the two halves\n",
    "    sorted_nums = merge(left_sorted, right_sorted)\n",
    "    \n",
    "    return sorted_nums"
   ]
  },
  {
   "cell_type": "code",
   "execution_count": 86,
   "id": "bad430da",
   "metadata": {},
   "outputs": [],
   "source": [
    "def merge(nums1, nums2):\n",
    "    #List to store the results\n",
    "    merged = []\n",
    "    \n",
    "    # Indicies for iteration\n",
    "    i, j = 0, 0\n",
    "    \n",
    "    # Loop over the two lists\n",
    "    while i < len(nums1) and j < len(nums2):\n",
    "        \n",
    "        #Include the smaller element in the result and move to next element\n",
    "        if nums1[i] <= nums2[j]:\n",
    "            merged.append(nums1[i])\n",
    "            i += 1\n",
    "        else:\n",
    "            merged.append(nums2[j])\n",
    "            j += 1\n",
    "            \n",
    "    # Get remaining parts\n",
    "    nums1_tail = nums1[i:]\n",
    "    nums2_tail = nums2[j:]\n",
    "    \n",
    "    # Return the final merged array\n",
    "    return merged + nums1_tail + nums2_tail"
   ]
  },
  {
   "cell_type": "code",
   "execution_count": 87,
   "id": "2180d06f",
   "metadata": {},
   "outputs": [
    {
     "data": {
      "text/plain": [
       "[-1, 0, 1, 2, 3, 4, 7, 8, 9, 11, 12]"
      ]
     },
     "execution_count": 87,
     "metadata": {},
     "output_type": "execute_result"
    }
   ],
   "source": [
    "merge([1, 4, 7, 9, 11], [-1, 0, 2, 3, 8, 12])"
   ]
  },
  {
   "cell_type": "code",
   "execution_count": 88,
   "id": "a470b1d1",
   "metadata": {
    "scrolled": false
   },
   "outputs": [
    {
     "name": "stdout",
     "output_type": "stream",
     "text": [
      "Input: [4, 2, 6, 3, 4, 6, 2, 1]\n",
      "Expected output: [1, 2, 2, 3, 4, 4, 6, 6]\n",
      "Actual output: [1, 2, 2, 3, 4, 4, 6, 6]\n",
      "Match: True\n"
     ]
    }
   ],
   "source": [
    "nums0, output0 = test0['input']['nums'], test0['output']\n",
    "\n",
    "print('Input:', nums0)\n",
    "print('Expected output:', output0)\n",
    "result0 = merge_sort(nums0)\n",
    "print('Actual output:', result0)\n",
    "print('Match:', result0 == output0)"
   ]
  },
  {
   "cell_type": "code",
   "execution_count": 89,
   "id": "be4178c2",
   "metadata": {},
   "outputs": [
    {
     "name": "stdout",
     "output_type": "stream",
     "text": [
      "\n",
      "\u001b[1mTEST CASE #0\u001b[0m\n",
      "\n",
      "Input:\n",
      "{'nums': [4, 2, 6, 3, 4, 6, 2, 1]}\n",
      "\n",
      "Expected Output:\n",
      "[1, 2, 2, 3, 4, 4, 6, 6]\n",
      "\n",
      "\n",
      "Actual Output:\n",
      "[1, 2, 2, 3, 4, 4, 6, 6]\n",
      "\n",
      "Execution Time:\n",
      "0.021 ms\n",
      "\n",
      "Test Result:\n",
      "\u001b[92mPASSED\u001b[0m\n",
      "\n",
      "\n",
      "\u001b[1mTEST CASE #1\u001b[0m\n",
      "\n",
      "Input:\n",
      "{'nums': [5, 2, 6, 1, 23, 7, -12, 12, -243, 0]}\n",
      "\n",
      "Expected Output:\n",
      "[-243, -12, 0, 1, 2, 5, 6, 7, 12, 23]\n",
      "\n",
      "\n",
      "Actual Output:\n",
      "[-243, -12, 0, 1, 2, 5, 6, 7, 12, 23]\n",
      "\n",
      "Execution Time:\n",
      "0.063 ms\n",
      "\n",
      "Test Result:\n",
      "\u001b[92mPASSED\u001b[0m\n",
      "\n",
      "\n",
      "\u001b[1mTEST CASE #2\u001b[0m\n",
      "\n",
      "Input:\n",
      "{'nums': [3, 5, 6, 8, 9, 10, 99]}\n",
      "\n",
      "Expected Output:\n",
      "[3, 5, 6, 8, 9, 10, 99]\n",
      "\n",
      "\n",
      "Actual Output:\n",
      "[3, 5, 6, 8, 9, 10, 99]\n",
      "\n",
      "Execution Time:\n",
      "0.013 ms\n",
      "\n",
      "Test Result:\n",
      "\u001b[92mPASSED\u001b[0m\n",
      "\n",
      "\n",
      "\u001b[1mTEST CASE #3\u001b[0m\n",
      "\n",
      "Input:\n",
      "{'nums': [99, 10, 9, 8, 6, 5, 3]}\n",
      "\n",
      "Expected Output:\n",
      "[3, 5, 6, 8, 9, 10, 99]\n",
      "\n",
      "\n",
      "Actual Output:\n",
      "[3, 5, 6, 8, 9, 10, 99]\n",
      "\n",
      "Execution Time:\n",
      "0.013 ms\n",
      "\n",
      "Test Result:\n",
      "\u001b[92mPASSED\u001b[0m\n",
      "\n",
      "\n",
      "\u001b[1mTEST CASE #4\u001b[0m\n",
      "\n",
      "Input:\n",
      "{'nums': [5, -12, 2, 6, 1, 23, 7, 7, -12, 6, 12, 1, -243, 1, 0]}\n",
      "\n",
      "Expected Output:\n",
      "[-243, -12, -12, 0, 1, 1, 1, 2, 5, 6, 6, 7, 7, 12, 23]\n",
      "\n",
      "\n",
      "Actual Output:\n",
      "[-243, -12, -12, 0, 1, 1, 1, 2, 5, 6, 6, 7, 7, 12, 23]\n",
      "\n",
      "Execution Time:\n",
      "0.038 ms\n",
      "\n",
      "Test Result:\n",
      "\u001b[92mPASSED\u001b[0m\n",
      "\n",
      "\n",
      "\u001b[1mTEST CASE #5\u001b[0m\n",
      "\n",
      "Input:\n",
      "{'nums': []}\n",
      "\n",
      "Expected Output:\n",
      "[]\n",
      "\n",
      "\n",
      "Actual Output:\n",
      "[]\n",
      "\n",
      "Execution Time:\n",
      "0.002 ms\n",
      "\n",
      "Test Result:\n",
      "\u001b[92mPASSED\u001b[0m\n",
      "\n",
      "\n",
      "\u001b[1mTEST CASE #6\u001b[0m\n",
      "\n",
      "Input:\n",
      "{'nums': [23]}\n",
      "\n",
      "Expected Output:\n",
      "[23]\n",
      "\n",
      "\n",
      "Actual Output:\n",
      "[23]\n",
      "\n",
      "Execution Time:\n",
      "0.001 ms\n",
      "\n",
      "Test Result:\n",
      "\u001b[92mPASSED\u001b[0m\n",
      "\n",
      "\n",
      "\u001b[1mTEST CASE #7\u001b[0m\n",
      "\n",
      "Input:\n",
      "{'nums': [42, 42, 42, 42, 42, 42, 42]}\n",
      "\n",
      "Expected Output:\n",
      "[42, 42, 42, 42, 42, 42, 42]\n",
      "\n",
      "\n",
      "Actual Output:\n",
      "[42, 42, 42, 42, 42, 42, 42]\n",
      "\n",
      "Execution Time:\n",
      "0.013 ms\n",
      "\n",
      "Test Result:\n",
      "\u001b[92mPASSED\u001b[0m\n",
      "\n",
      "\n",
      "\u001b[1mTEST CASE #8\u001b[0m\n",
      "\n",
      "Input:\n",
      "{'nums': [9864, 7502, 72, 3701, 3645, 2428, 5286, 6623, 3509, 2633, 2558, 9166, 894, 8290, 9875, 842...\n",
      "\n",
      "Expected Output:\n",
      "[0, 1, 2, 3, 4, 5, 6, 7, 8, 9, 10, 11, 12, 13, 14, 15, 16, 17, 18, 19, 20, 21, 22, 23, 24, 25, 26, 2...\n",
      "\n",
      "\n",
      "Actual Output:\n",
      "[0, 1, 2, 3, 4, 5, 6, 7, 8, 9, 10, 11, 12, 13, 14, 15, 16, 17, 18, 19, 20, 21, 22, 23, 24, 25, 26, 2...\n",
      "\n",
      "Execution Time:\n",
      "38.287 ms\n",
      "\n",
      "Test Result:\n",
      "\u001b[92mPASSED\u001b[0m\n",
      "\n",
      "\n",
      "\u001b[1mSUMMARY\u001b[0m\n",
      "\n",
      "TOTAL: 9, \u001b[92mPASSED\u001b[0m: 9, \u001b[91mFAILED\u001b[0m: 0\n"
     ]
    }
   ],
   "source": [
    "results = evaluate_test_cases(merge_sort, tests)"
   ]
  },
  {
   "cell_type": "markdown",
   "id": "40d80db1",
   "metadata": {},
   "source": [
    "buble_sort - 12seconds - Merge Sort - 50 milliseconds"
   ]
  },
  {
   "cell_type": "markdown",
   "id": "11cf45af",
   "metadata": {},
   "source": [
    "## Analyze the algorithm's complexity and identify inefficiencies\n",
    "\n",
    "Analyzing the complexity of recursive algorithms can be tricky. It helps \n",
    "to track and follow the chain of recursive calls. We'll add some print \n",
    "statements to our `merge_sort` and `merge_functions` to display the \n",
    "_tree_ of recursive function calls."
   ]
  },
  {
   "cell_type": "code",
   "execution_count": 60,
   "id": "7c4e456a",
   "metadata": {},
   "outputs": [],
   "source": [
    "def merge(nums1, nums2, depth=0):\n",
    "    print('  '* depth, 'merge:', nums1, nums2)\n",
    "    i, j, merged = 0, 0, []\n",
    "    while i < len(nums1) and j < len(nums2):\n",
    "        if nums1[i] <= nums2[j]:\n",
    "            merged.append(nums1[i])\n",
    "            i += 1\n",
    "        else:\n",
    "            merged.append(nums2[j])\n",
    "            j += 1\n",
    "    return merged + nums1[i:] + nums2[j:]\n",
    "\n",
    "def merge_sort(nums, depth = 0):\n",
    "    print('  '*depth, ' merge_sort:', nums)\n",
    "    if len(nums) <= 1:\n",
    "        return nums\n",
    "    mid = len(nums) // 2\n",
    "    return merge(merge_sort(nums[:mid], depth+1),\n",
    "                 merge_sort(nums[mid:], depth +1),\n",
    "                 depth+1)"
   ]
  },
  {
   "cell_type": "code",
   "execution_count": 61,
   "id": "004e8d84",
   "metadata": {},
   "outputs": [
    {
     "name": "stdout",
     "output_type": "stream",
     "text": [
      "  merge_sort: [5, -12, 2, 6, 1, 23, 7, 7, -12]\n",
      "    merge_sort: [5, -12, 2, 6]\n",
      "      merge_sort: [5, -12]\n",
      "        merge_sort: [5]\n",
      "        merge_sort: [-12]\n",
      "       merge: [5] [-12]\n",
      "      merge_sort: [2, 6]\n",
      "        merge_sort: [2]\n",
      "        merge_sort: [6]\n",
      "       merge: [2] [6]\n",
      "     merge: [-12, 5] [2, 6]\n",
      "    merge_sort: [1, 23, 7, 7, -12]\n",
      "      merge_sort: [1, 23]\n",
      "        merge_sort: [1]\n",
      "        merge_sort: [23]\n",
      "       merge: [1] [23]\n",
      "      merge_sort: [7, 7, -12]\n",
      "        merge_sort: [7]\n",
      "        merge_sort: [7, -12]\n",
      "          merge_sort: [7]\n",
      "          merge_sort: [-12]\n",
      "         merge: [7] [-12]\n",
      "       merge: [7] [-12, 7]\n",
      "     merge: [1, 23] [-12, 7, 7]\n",
      "   merge: [-12, 2, 5, 6] [-12, 1, 7, 7, 23]\n"
     ]
    },
    {
     "data": {
      "text/plain": [
       "[-12, -12, 1, 2, 5, 6, 7, 7, 23]"
      ]
     },
     "execution_count": 61,
     "metadata": {},
     "output_type": "execute_result"
    }
   ],
   "source": [
    "merge_sort([5, -12, 2, 6, 1, 23, 7, 7, -12])"
   ]
  },
  {
   "cell_type": "markdown",
   "id": "8abe9ba4",
   "metadata": {},
   "source": [
    "### Space  and Time Complexity \n",
    "\n",
    "\n",
    "\n",
    "To find the overall complexity of `merge_sort`, we simply need to count how many times the `merge` function was invoked and the size of the input list for each invocation. Here's how all the subproblems can be visualized:\n",
    "\n",
    "\n",
    "- The time complexity of the merge sort algorithms is $O(n \\log n)$.\n",
    "- The space complexity is $O(n)$.\n"
   ]
  },
  {
   "cell_type": "markdown",
   "id": "0b860530",
   "metadata": {},
   "source": [
    "**Exercise:** Verify that time complexity of the merge operation is $O(n)$, where $n$ is the sum of the sizes of the two input lists. Hint: Count the number of comparisons."
   ]
  },
  {
   "cell_type": "markdown",
   "id": "a082a924",
   "metadata": {},
   "source": [
    "There are several extensions and variations and extensions of merge sort:\n",
    "\n",
    "* K-way merge sort: https://en.wikipedia.org/wiki/K-way_merge_algorithm\n",
    "* Counting inversions in an array: https://www.geeksforgeeks.org/counting-inversions/\n",
    "* Merge sort and insertion sort hybrids: https://en.wikipedia.org/wiki/Timsort\n"
   ]
  },
  {
   "cell_type": "markdown",
   "id": "bb22158f",
   "metadata": {},
   "source": [
    "# Quicksort"
   ]
  },
  {
   "cell_type": "code",
   "execution_count": 94,
   "id": "846d1314",
   "metadata": {},
   "outputs": [],
   "source": [
    "def quicksort(nums, start=0, end=None):\n",
    "    print ('quicksort', nums, start, end)\n",
    "    if end is None:\n",
    "        nums = list(nums)\n",
    "        end = len(nums) - 1\n",
    "    if start < end:\n",
    "        pivot = partition(nums, start, end)\n",
    "        quicksort(nums, start, pivot-1)\n",
    "        quicksort(nums, pivot+1, end)\n",
    "    return nums"
   ]
  },
  {
   "cell_type": "code",
   "execution_count": 115,
   "id": "06afb45f",
   "metadata": {},
   "outputs": [],
   "source": [
    "def partition(nums, start=0, end=None):\n",
    "    print ('partition', nums, start, end)\n",
    "    if end is None:\n",
    "        end = len(nums) - 1\n",
    "    \n",
    "    # Initialize right and left pointers\n",
    "    l, r = start, end-1\n",
    "    \n",
    "    # Iterate while they're apart\n",
    "    while r > l:\n",
    "        print ('  ', nums, l, r)\n",
    "        # Increment lefr pointer if number is less or equal to pivot\n",
    "        if nums[l] <= nums[end]:\n",
    "            l += 1\n",
    "            \n",
    "\n",
    "            \n",
    "        # Decrement right pointer if number is greater than pivot\n",
    "        elif nums[r] > nums[end]:\n",
    "            r -= 1\n",
    "        \n",
    "        # Two out-of-place elements found, swap them\n",
    "        else:\n",
    "            nums[l], nums[r] = nums[r], nums[l]\n",
    "\n",
    "    print('  ', nums, l, r)\n",
    "    # Place the pivot between the two parts\n",
    "    if nums[l] > nums[end]:\n",
    "        nums[l], nums[end] = nums[end], nums[l]\n",
    "        return l\n",
    "    else:\n",
    "        return end"
   ]
  },
  {
   "cell_type": "code",
   "execution_count": 116,
   "id": "990f9dcd",
   "metadata": {},
   "outputs": [
    {
     "name": "stdout",
     "output_type": "stream",
     "text": [
      "partition [1, 5, 6, 2, 0, 11, 3] 0 None\n",
      "   [1, 5, 6, 2, 0, 11, 3] 0 5\n",
      "   [1, 5, 6, 2, 0, 11, 3] 1 5\n",
      "   [1, 5, 6, 2, 0, 11, 3] 1 4\n",
      "   [1, 0, 6, 2, 5, 11, 3] 1 4\n",
      "   [1, 0, 6, 2, 5, 11, 3] 2 4\n",
      "   [1, 0, 6, 2, 5, 11, 3] 2 3\n",
      "   [1, 0, 2, 6, 5, 11, 3] 2 3\n",
      "   [1, 0, 2, 6, 5, 11, 3] 3 3\n",
      "[1, 0, 2, 3, 5, 11, 6] 3\n"
     ]
    }
   ],
   "source": [
    "l1 = [1, 5, 6, 2, 0, 11, 3]\n",
    "pivot = partition(l1)\n",
    "print(l1, pivot)"
   ]
  },
  {
   "cell_type": "markdown",
   "id": "0e6e6b32",
   "metadata": {},
   "source": [
    "## Exercise: \n",
    "Add print statements inside the partition function to display the list, the left pointer and the right pointer at the beginning and end of every loop, to study how the partitioning works."
   ]
  },
  {
   "cell_type": "code",
   "execution_count": 97,
   "id": "67ea10da",
   "metadata": {},
   "outputs": [
    {
     "name": "stdout",
     "output_type": "stream",
     "text": [
      "input: [4, 2, 6, 3, 4, 6, 2, 1]\n",
      "Expected output: [1, 2, 2, 3, 4, 4, 6, 6]\n",
      "quicksort [4, 2, 6, 3, 4, 6, 2, 1] 0 None\n",
      "partition [4, 2, 6, 3, 4, 6, 2, 1] 0 7\n",
      "   [4, 2, 6, 3, 4, 6, 2, 1] 0 6\n",
      "   [4, 2, 6, 3, 4, 6, 2, 1] 0 5\n",
      "   [4, 2, 6, 3, 4, 6, 2, 1] 0 4\n",
      "   [4, 2, 6, 3, 4, 6, 2, 1] 0 3\n",
      "   [4, 2, 6, 3, 4, 6, 2, 1] 0 2\n",
      "   [4, 2, 6, 3, 4, 6, 2, 1] 0 1\n",
      "   [4, 2, 6, 3, 4, 6, 2, 1] 0 0\n",
      "quicksort [1, 2, 6, 3, 4, 6, 2, 4] 0 0\n",
      "quicksort [1, 2, 6, 3, 4, 6, 2, 4] 2 7\n",
      "partition [1, 2, 6, 3, 4, 6, 2, 4] 2 7\n",
      "   [1, 2, 6, 3, 4, 6, 2, 4] 2 6\n",
      "quicksort [1, 2, 2, 3, 4, 6, 6, 4] 2 0\n",
      "quicksort [1, 2, 2, 3, 4, 6, 6, 4] 2 7\n",
      "partition [1, 2, 2, 3, 4, 6, 6, 4] 2 7\n",
      "   [1, 2, 2, 3, 4, 6, 6, 4] 2 6\n",
      "   [1, 2, 2, 3, 4, 6, 6, 4] 3 6\n",
      "   [1, 2, 2, 3, 4, 6, 6, 4] 4 6\n",
      "   [1, 2, 2, 3, 4, 6, 6, 4] 5 6\n",
      "   [1, 2, 2, 3, 4, 6, 6, 4] 5 5\n",
      "quicksort [1, 2, 2, 3, 4, 4, 6, 6] 2 0\n",
      "quicksort [1, 2, 2, 3, 4, 4, 6, 6] 2 7\n",
      "partition [1, 2, 2, 3, 4, 4, 6, 6] 2 7\n",
      "   [1, 2, 2, 3, 4, 4, 6, 6] 2 6\n",
      "   [1, 2, 2, 3, 4, 4, 6, 6] 3 6\n",
      "   [1, 2, 2, 3, 4, 4, 6, 6] 4 6\n",
      "   [1, 2, 2, 3, 4, 4, 6, 6] 5 6\n",
      "   [1, 2, 2, 3, 4, 4, 6, 6] 6 6\n",
      "quicksort [1, 2, 2, 3, 4, 4, 6, 6] 2 6\n",
      "partition [1, 2, 2, 3, 4, 4, 6, 6] 2 6\n",
      "   [1, 2, 2, 3, 4, 4, 6, 6] 2 5\n",
      "   [1, 2, 2, 3, 4, 4, 6, 6] 3 5\n",
      "   [1, 2, 2, 3, 4, 4, 6, 6] 4 5\n",
      "   [1, 2, 2, 3, 4, 4, 6, 6] 5 5\n",
      "quicksort [1, 2, 2, 3, 4, 4, 6, 6] 2 5\n",
      "partition [1, 2, 2, 3, 4, 4, 6, 6] 2 5\n",
      "   [1, 2, 2, 3, 4, 4, 6, 6] 2 4\n",
      "   [1, 2, 2, 3, 4, 4, 6, 6] 3 4\n",
      "   [1, 2, 2, 3, 4, 4, 6, 6] 4 4\n",
      "quicksort [1, 2, 2, 3, 4, 4, 6, 6] 2 4\n",
      "partition [1, 2, 2, 3, 4, 4, 6, 6] 2 4\n",
      "   [1, 2, 2, 3, 4, 4, 6, 6] 2 3\n",
      "   [1, 2, 2, 3, 4, 4, 6, 6] 3 3\n",
      "quicksort [1, 2, 2, 3, 4, 4, 6, 6] 2 3\n",
      "partition [1, 2, 2, 3, 4, 4, 6, 6] 2 3\n",
      "   [1, 2, 2, 3, 4, 4, 6, 6] 2 2\n",
      "quicksort [1, 2, 2, 3, 4, 4, 6, 6] 2 2\n",
      "quicksort [1, 2, 2, 3, 4, 4, 6, 6] 4 3\n",
      "quicksort [1, 2, 2, 3, 4, 4, 6, 6] 5 4\n",
      "quicksort [1, 2, 2, 3, 4, 4, 6, 6] 6 5\n",
      "quicksort [1, 2, 2, 3, 4, 4, 6, 6] 7 6\n",
      "quicksort [1, 2, 2, 3, 4, 4, 6, 6] 8 7\n",
      "Actual output: [1, 2, 2, 3, 4, 4, 6, 6]\n",
      "Match: True\n"
     ]
    }
   ],
   "source": [
    "nums0, output0 = test0['input']['nums'], test0['output']\n",
    "\n",
    "print('input:', nums0)\n",
    "print('Expected output:', output0)\n",
    "result0 = quicksort(nums0)\n",
    "print('Actual output:', result0)\n",
    "print('Match:', result0 == output0)"
   ]
  },
  {
   "cell_type": "markdown",
   "id": "16d7c5ab",
   "metadata": {},
   "source": [
    "## Time Complexity of Quicksort"
   ]
  },
  {
   "cell_type": "markdown",
   "id": "f949ca29",
   "metadata": {},
   "source": [
    "- Best case If we partition the list into two nearly equal parts, then the complexity analysis is similar to that of merge sort and quicksort has the complexity $O(n \\log n)$. \n",
    "- The worst-case complexity of quicksort is $O(n^2)$.\n",
    "\n",
    "\n",
    "**Exercise:** Verify that quicksort requires $O(1)$ - order 1 - additional space.\n",
    "\n",
    "Despite the quadratic worst case time complexity Quicksort is preferred in many situations because its running time is closer to $O(n \\log n)$ in practice, especially with a good strategy for picking a pivot. Some these are:\n",
    "\n",
    "- [Picking a random pivot](https://cs.stackexchange.com/questions/7582/what-is-the-advantage-of-randomized-quicksort)\n",
    "- [Picking median of medians](https://en.wikipedia.org/wiki/Median_of_medians)\n",
    "\n",
    "\n",
    "Here are some other problems you can solve using the partitioning strategy of Quicksort: https://www.techiedelight.com/problems-solved-using-partitioning-logic-quicksort/\n",
    "\n",
    "\n"
   ]
  },
  {
   "cell_type": "markdown",
   "id": "d15ac276",
   "metadata": {},
   "source": [
    "## Custom Comparison Functions\n"
   ]
  },
  {
   "cell_type": "code",
   "execution_count": 74,
   "id": "32e15074",
   "metadata": {},
   "outputs": [],
   "source": [
    "class Notebook:\n",
    "    def __init__(self, title, username, likes):\n",
    "        self.title, self.username, self.likes = title, username, likes\n",
    "    def __repr__(self):\n",
    "        return 'Notebook <\"{}/{}, {} likes>'.format(self.username, self.title, self.likes)"
   ]
  },
  {
   "cell_type": "code",
   "execution_count": 75,
   "id": "6e1172a0",
   "metadata": {},
   "outputs": [],
   "source": [
    "nb0 = Notebook('pytorch-basics', 'aakashns', 373)\n",
    "nb1 = Notebook('linear-regression', 'siddhant', 532)\n",
    "nb2 = Notebook('logistic-regression', 'vikas', 31)\n",
    "nb3 = Notebook('feedforward-nn', 'sonaksh', 94)\n",
    "nb4 = Notebook('cifar10-cnn', 'biraj', 2)\n",
    "nb5 = Notebook('cifar10-resnet', 'tanya', 29)\n",
    "nb6 = Notebook('anime-gans', 'hemanth', 80)\n",
    "nb7 = Notebook('python-fundamentals', 'vishal', 136)\n",
    "nb8 = Notebook('python-functions', 'aakashns', 74)\n",
    "nb9 = Notebook('python-numpy', 'siddhant', 92)"
   ]
  },
  {
   "cell_type": "code",
   "execution_count": 76,
   "id": "24ad9a1f",
   "metadata": {},
   "outputs": [],
   "source": [
    "notebooks = [nb0, nb1, nb2, nb3, nb4, nb5,nb6, nb7, nb8, nb9]"
   ]
  },
  {
   "cell_type": "code",
   "execution_count": 77,
   "id": "f8c1c7ac",
   "metadata": {},
   "outputs": [],
   "source": [
    "def compare_likes(nb1, nb2):\n",
    "    if nb1.likes > nb2.likes:\n",
    "        return 'lesser'\n",
    "    elif nb1.likes == nb2.likes:\n",
    "        return 'equal'\n",
    "    elif nb1.likes < nb2.likes:\n",
    "        return 'greater'"
   ]
  },
  {
   "cell_type": "code",
   "execution_count": 99,
   "id": "469d3a69",
   "metadata": {},
   "outputs": [],
   "source": [
    "def default_compare(x,y):\n",
    "    if x < y:\n",
    "        return 'less'\n",
    "    elif x == y:\n",
    "        return 'equal'\n",
    "    else:\n",
    "        return 'greater'\n",
    "\n",
    "def merge_sort(objs, compare=default_compare):\n",
    "    if len(objs) < 2:\n",
    "        return objs\n",
    "    mid = len(objs) // 2\n",
    "    return merge (merge_sort(objs[:mid], compare),\n",
    "                merge_sort(objs[mid:], compare), \n",
    "                  compare)\n",
    "        \n",
    "def merge(left, right, compare):\n",
    "    i, j, merged = 0, 0, []\n",
    "    while i < len(left) and j < len(right):\n",
    "        result = compare(left[i], right[j])\n",
    "        if result == 'lesser' or result == 'equal':\n",
    "            merged.append(left[i])\n",
    "            i += 1\n",
    "        else:\n",
    "            merged.append(right[j])\n",
    "            j += 1\n",
    "    return merged + left[i:] + right[j:]"
   ]
  },
  {
   "cell_type": "code",
   "execution_count": 100,
   "id": "a667a8e0",
   "metadata": {},
   "outputs": [],
   "source": [
    "sorted_notebooks = merge_sort(notebooks, compare_likes)"
   ]
  },
  {
   "cell_type": "code",
   "execution_count": 101,
   "id": "c33b3990",
   "metadata": {
    "scrolled": true
   },
   "outputs": [
    {
     "data": {
      "text/plain": [
       "[Notebook <\"siddhant/linear-regression, 532 likes>,\n",
       " Notebook <\"aakashns/pytorch-basics, 373 likes>,\n",
       " Notebook <\"vishal/python-fundamentals, 136 likes>,\n",
       " Notebook <\"sonaksh/feedforward-nn, 94 likes>,\n",
       " Notebook <\"siddhant/python-numpy, 92 likes>,\n",
       " Notebook <\"hemanth/anime-gans, 80 likes>,\n",
       " Notebook <\"aakashns/python-functions, 74 likes>,\n",
       " Notebook <\"vikas/logistic-regression, 31 likes>,\n",
       " Notebook <\"tanya/cifar10-resnet, 29 likes>,\n",
       " Notebook <\"biraj/cifar10-cnn, 2 likes>]"
      ]
     },
     "execution_count": 101,
     "metadata": {},
     "output_type": "execute_result"
    }
   ],
   "source": [
    "sorted_notebooks"
   ]
  },
  {
   "cell_type": "code",
   "execution_count": 102,
   "id": "e40db775",
   "metadata": {},
   "outputs": [],
   "source": [
    "def compare_titles(nb1, nb2):\n",
    "    if nb1.title < nb2.title:\n",
    "        return 'lesser'\n",
    "    elif nb1.title == nb2.title:\n",
    "        return 'equal'\n",
    "    elif nb1.title > nb2.title:\n",
    "        return 'greater'"
   ]
  },
  {
   "cell_type": "code",
   "execution_count": 103,
   "id": "8923bc3c",
   "metadata": {},
   "outputs": [
    {
     "data": {
      "text/plain": [
       "[Notebook <\"hemanth/anime-gans, 80 likes>,\n",
       " Notebook <\"biraj/cifar10-cnn, 2 likes>,\n",
       " Notebook <\"tanya/cifar10-resnet, 29 likes>,\n",
       " Notebook <\"sonaksh/feedforward-nn, 94 likes>,\n",
       " Notebook <\"siddhant/linear-regression, 532 likes>,\n",
       " Notebook <\"vikas/logistic-regression, 31 likes>,\n",
       " Notebook <\"aakashns/python-functions, 74 likes>,\n",
       " Notebook <\"vishal/python-fundamentals, 136 likes>,\n",
       " Notebook <\"siddhant/python-numpy, 92 likes>,\n",
       " Notebook <\"aakashns/pytorch-basics, 373 likes>]"
      ]
     },
     "execution_count": 103,
     "metadata": {},
     "output_type": "execute_result"
    }
   ],
   "source": [
    "merge_sort(notebooks, compare_titles)"
   ]
  },
  {
   "cell_type": "markdown",
   "id": "94608a5c",
   "metadata": {},
   "source": [
    "**Exercise:** Implement and test generic versions of bubble sort, insertion sort and quicksort using the empty cells below."
   ]
  },
  {
   "cell_type": "markdown",
   "id": "b761ed70",
   "metadata": {},
   "source": [
    "**Exercise:** Two level comparison (username and title)"
   ]
  },
  {
   "cell_type": "markdown",
   "id": "b6395f2d",
   "metadata": {},
   "source": [
    "## Summary and Exercises\n",
    "\n",
    "We've covered the following sorting algorithms in this tutorial:\n",
    "\n",
    "1. Bubble sort\n",
    "2. Insertion sort\n",
    "3. Merge sort\n",
    "4. Quick sort\n",
    "\n",
    "There are several other sorting algorithms, and most languages provide library functions for sorting that use a hybrid approach depending on the size and type of element in the list/array.\n",
    "\n",
    "\n",
    "Try out some problems on sorting and divide-n-conquer here:\n",
    "\n",
    "* https://leetcode.com/tag/sort/\n",
    "* https://www.techiedelight.com/sorting-interview-questions/\n",
    "* [HackerRank](https://www.hackerrank.com/domains/algorithms?filters%5Bsubdomains%5D%5B%5D=arrays-and-sorting)\n",
    "* https://leetcode.com/tag/divide-and-conquer/\n",
    "* https://www.geeksforgeeks.org/divide-and-conquer/\n",
    "\n",
    "Use this problem solving template: https://jovian.ai/aakashns/python-problem-solving-template"
   ]
  },
  {
   "cell_type": "code",
   "execution_count": null,
   "id": "842a263d",
   "metadata": {},
   "outputs": [],
   "source": []
  }
 ],
 "metadata": {
  "kernelspec": {
   "display_name": "Python 3 (ipykernel)",
   "language": "python",
   "name": "python3"
  },
  "language_info": {
   "codemirror_mode": {
    "name": "ipython",
    "version": 3
   },
   "file_extension": ".py",
   "mimetype": "text/x-python",
   "name": "python",
   "nbconvert_exporter": "python",
   "pygments_lexer": "ipython3",
   "version": "3.11.5"
  }
 },
 "nbformat": 4,
 "nbformat_minor": 5
}
