{
 "cells": [
  {
   "cell_type": "markdown",
   "id": "3b390746",
   "metadata": {},
   "source": [
    "# Subarray with Given Sum"
   ]
  },
  {
   "cell_type": "code",
   "execution_count": 9,
   "id": "135d07e5",
   "metadata": {},
   "outputs": [],
   "source": [
    "arr0 = [1, 7, 4, 2, 1, 3, 11, 5]\n",
    "target0 = 10 \n",
    "output0 = 2, 6\n",
    "\n",
    "def subarry_sum(arr, target):\n",
    "    pass"
   ]
  },
  {
   "cell_type": "code",
   "execution_count": 29,
   "id": "f87292a8",
   "metadata": {},
   "outputs": [],
   "source": [
    "def subarray_sum1(arr, target):\n",
    "    n = len(arr)\n",
    "    # i goes from 0 to n-1\n",
    "    for i in range(0, n):\n",
    "        # j goes from i to n\n",
    "            for j in range(i, n+1):\n",
    "            # Check if subarray sum equal target\n",
    "                if sum(arr[i:j]) == target:\n",
    "                # answer found\n",
    "                    return i, j\n",
    "    return None, None\n",
    "\n",
    "# Optimization \n",
    "# maintain a running sum for inner loop\n",
    "# when sum exceeds target, break inner loop\n",
    "\n",
    "def subarray_sum2(arr, target):\n",
    "    n = len(arr)\n",
    "    # i goes from 0 to n-1\n",
    "    for i in range(0, n):\n",
    "        s = 0 # running sum\n",
    "        # j goes from i to n\n",
    "        for j in range(i, n+1):\n",
    "        # Check if subarray sum equal target\n",
    "            if s == target:\n",
    "            # answer found\n",
    "                return i, j\n",
    "            elif s > target:\n",
    "                break\n",
    "            if j<n:\n",
    "                s += arr[j]\n",
    "    return None, None\n",
    "\n",
    "\n",
    "def subarray_sum3(arr, target):\n",
    "    n = len(arr)\n",
    "    i, j, s = 0, 0, 0 \n",
    "    while i < n and j < n+1:\n",
    "                if s == target:\n",
    "                    return i, j\n",
    "                elif s < target:\n",
    "                    if j<n:\n",
    "                        s += arr[j]\n",
    "                        j += 1\n",
    "                elif s > target:\n",
    "                    s -= arr[i]\n",
    "                    i += 1                \n",
    "    return None, None\n",
    "\n",
    "# big difference the efficiency of these three functions"
   ]
  },
  {
   "cell_type": "code",
   "execution_count": 30,
   "id": "ef8f39e4",
   "metadata": {},
   "outputs": [
    {
     "data": {
      "text/plain": [
       "[1, 7, 4, 2, 1, 3]"
      ]
     },
     "execution_count": 30,
     "metadata": {},
     "output_type": "execute_result"
    }
   ],
   "source": [
    "arr0"
   ]
  },
  {
   "cell_type": "code",
   "execution_count": 31,
   "id": "2ec5696d",
   "metadata": {},
   "outputs": [
    {
     "data": {
      "text/plain": [
       "(2, 6)"
      ]
     },
     "execution_count": 31,
     "metadata": {},
     "output_type": "execute_result"
    }
   ],
   "source": [
    "subarray_sum3(arr0, target0)"
   ]
  },
  {
   "cell_type": "code",
   "execution_count": 38,
   "id": "f4537f94",
   "metadata": {
    "scrolled": true
   },
   "outputs": [
    {
     "data": {
      "text/plain": [
       "(1, 3)"
      ]
     },
     "execution_count": 38,
     "metadata": {},
     "output_type": "execute_result"
    }
   ],
   "source": [
    "subarray_sum3([1, 1, 4, 1, 3, 6, 12, 3], 5)"
   ]
  },
  {
   "cell_type": "markdown",
   "id": "5fde47fe",
   "metadata": {},
   "source": [
    "# Minimum Edit Distance"
   ]
  },
  {
   "cell_type": "code",
   "execution_count": 41,
   "id": "d3f80453",
   "metadata": {},
   "outputs": [],
   "source": [
    "str1 = \"intention\"\n",
    "str2 = \"execution\"\n",
    "output = 5"
   ]
  },
  {
   "cell_type": "code",
   "execution_count": 55,
   "id": "e18aba03",
   "metadata": {},
   "outputs": [],
   "source": [
    "def min_steps(str1, str2, i1=0, i2=0):\n",
    "#     print(str1[i1:], str2[i2:])\n",
    "    if i1 == len(str1):\n",
    "        return len(str2) - i2\n",
    "    elif i2 == len(str2):\n",
    "        return len(str1) - i1\n",
    "    elif str1[i1] == str2[i2]:\n",
    "        return min_steps(str1, str2, i1+1, i2+1)\n",
    "    else:\n",
    "        return 1 + min(min_steps(str1, str2, i1+1, i2), # deleted\n",
    "                      min_steps(str1, str2, i1+1, i2+1), # swap\n",
    "                      min_steps(str1, str2, i1, i2+1 )) # insert"
   ]
  },
  {
   "cell_type": "code",
   "execution_count": 56,
   "id": "5de20aa4",
   "metadata": {},
   "outputs": [
    {
     "name": "stdout",
     "output_type": "stream",
     "text": [
      "CPU times: total: 31.2 ms\n",
      "Wall time: 65 ms\n"
     ]
    },
    {
     "data": {
      "text/plain": [
       "4"
      ]
     },
     "execution_count": 56,
     "metadata": {},
     "output_type": "execute_result"
    }
   ],
   "source": [
    "%%time \n",
    "min_steps('intention', 'exception')"
   ]
  },
  {
   "cell_type": "markdown",
   "id": "fca647d1",
   "metadata": {},
   "source": [
    "- it could be a dynamic solution also but it is a memo solution"
   ]
  },
  {
   "cell_type": "code",
   "execution_count": 59,
   "id": "e183395f",
   "metadata": {},
   "outputs": [],
   "source": [
    "def min_edit_distance2(str1, str2):\n",
    "    memo = {}\n",
    "    def recurse(i1, i2):\n",
    "        key = (i1, i2)\n",
    "        if key in memo:\n",
    "            return memo[key]\n",
    "        elif i1 == len(str1):\n",
    "            memo[key] = len(str2) - i2\n",
    "        elif i2 == len(str2):\n",
    "            memo[key] = len(str1) - i1\n",
    "        elif str1[i1] == str2[i2]:\n",
    "            memo[key] = resurse(i1+1, i2+1)\n",
    "        else:\n",
    "            memo[key] = 1 + min(recurse(i1, i2+1),\n",
    "                                recurse(i1+1, i2),\n",
    "                                recurse(i1+1, i2+2))\n",
    "        return memo[key]\n",
    "    return recurse(0, 0)"
   ]
  },
  {
   "cell_type": "code",
   "execution_count": null,
   "id": "795896ed",
   "metadata": {},
   "outputs": [],
   "source": []
  }
 ],
 "metadata": {
  "kernelspec": {
   "display_name": "Python 3 (ipykernel)",
   "language": "python",
   "name": "python3"
  },
  "language_info": {
   "codemirror_mode": {
    "name": "ipython",
    "version": 3
   },
   "file_extension": ".py",
   "mimetype": "text/x-python",
   "name": "python",
   "nbconvert_exporter": "python",
   "pygments_lexer": "ipython3",
   "version": "3.11.5"
  }
 },
 "nbformat": 4,
 "nbformat_minor": 5
}
