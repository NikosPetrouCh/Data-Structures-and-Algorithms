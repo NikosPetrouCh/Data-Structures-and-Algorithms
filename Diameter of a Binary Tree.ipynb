{
 "cells": [
  {
   "cell_type": "code",
   "execution_count": 12,
   "id": "b52e0a46",
   "metadata": {},
   "outputs": [],
   "source": [
    "class TreeNode:\n",
    "    def __init__(self, key):\n",
    "        self.key = key\n",
    "        self.left = None\n",
    "        self.right = None"
   ]
  },
  {
   "cell_type": "markdown",
   "id": "adc1d2e6",
   "metadata": {},
   "source": [
    "# Tuple to tree"
   ]
  },
  {
   "cell_type": "code",
   "execution_count": 13,
   "id": "5fb7a03f",
   "metadata": {},
   "outputs": [],
   "source": [
    "def parse_tuple(data): \n",
    "    # print(data)\n",
    "    if isinstance(data, tuple) and len(data) == 3:\n",
    "        node = TreeNode(data[1])\n",
    "        node.left = parse_tuple(data[0])\n",
    "        node.right = parse_tuple(data[2])\n",
    "    elif data is None:\n",
    "        node = None\n",
    "    else:\n",
    "        node = TreeNode(data)\n",
    "    return node"
   ]
  },
  {
   "cell_type": "code",
   "execution_count": 14,
   "id": "9fb39292",
   "metadata": {},
   "outputs": [],
   "source": [
    "Tuple_tree = parse_tuple(((1,3,None), 2, ((None, 3, 4), 5, (6, 7, 8))))"
   ]
  },
  {
   "cell_type": "code",
   "execution_count": 15,
   "id": "76b377d5",
   "metadata": {},
   "outputs": [
    {
     "data": {
      "text/plain": [
       "<__main__.TreeNode at 0x224ea037b50>"
      ]
     },
     "execution_count": 15,
     "metadata": {},
     "output_type": "execute_result"
    }
   ],
   "source": [
    "Tuple_tree"
   ]
  },
  {
   "cell_type": "markdown",
   "id": "74afc90f",
   "metadata": {},
   "source": [
    "# Ex.3 Diameter"
   ]
  },
  {
   "cell_type": "code",
   "execution_count": 16,
   "id": "bf49644e",
   "metadata": {},
   "outputs": [],
   "source": [
    "def diameterOfBinaryTree(root):\n",
    "    def depth(node):\n",
    "        if not node:\n",
    "            return 0\n",
    "        left_depth = depth(node.left)\n",
    "        right_depth = depth(node.right)\n",
    "        diameter[0] = max(diameter[0], left_depth + right_depth)\n",
    "        return max(left_depth, right_depth) + 1\n",
    "\n",
    "    diameter = [0]\n",
    "    depth(root)\n",
    "    return diameter[0]\n"
   ]
  },
  {
   "cell_type": "code",
   "execution_count": 17,
   "id": "e1b30680",
   "metadata": {},
   "outputs": [],
   "source": [
    "d = diameterOfBinaryTree(Tuple_tree)"
   ]
  },
  {
   "cell_type": "code",
   "execution_count": 18,
   "id": "7d2e3ae1",
   "metadata": {},
   "outputs": [
    {
     "name": "stdout",
     "output_type": "stream",
     "text": [
      "5\n"
     ]
    }
   ],
   "source": [
    "print(d)"
   ]
  }
 ],
 "metadata": {
  "kernelspec": {
   "display_name": "Python 3 (ipykernel)",
   "language": "python",
   "name": "python3"
  },
  "language_info": {
   "codemirror_mode": {
    "name": "ipython",
    "version": 3
   },
   "file_extension": ".py",
   "mimetype": "text/x-python",
   "name": "python",
   "nbconvert_exporter": "python",
   "pygments_lexer": "ipython3",
   "version": "3.11.5"
  }
 },
 "nbformat": 4,
 "nbformat_minor": 5
}
