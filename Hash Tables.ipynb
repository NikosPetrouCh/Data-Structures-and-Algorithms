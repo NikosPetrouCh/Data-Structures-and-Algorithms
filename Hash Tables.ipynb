{
 "cells": [
  {
   "cell_type": "markdown",
   "id": "8fffae9a",
   "metadata": {},
   "source": [
    "# Assignment 2 - Hash Tables and Python Dictionaries"
   ]
  },
  {
   "cell_type": "code",
   "execution_count": 1,
   "id": "82b88b19",
   "metadata": {},
   "outputs": [],
   "source": [
    "project='python-hash-tables-assignment'"
   ]
  },
  {
   "cell_type": "code",
   "execution_count": 2,
   "id": "fa038382",
   "metadata": {},
   "outputs": [],
   "source": [
    "!pip install jovian --upgrade --quiet"
   ]
  },
  {
   "cell_type": "code",
   "execution_count": 3,
   "id": "ef42d8a6",
   "metadata": {},
   "outputs": [
    {
     "data": {
      "application/javascript": [
       "window.require && require([\"base/js/namespace\"],function(Jupyter){Jupyter.notebook.save_checkpoint()})"
      ],
      "text/plain": [
       "<IPython.core.display.Javascript object>"
      ]
     },
     "metadata": {},
     "output_type": "display_data"
    },
    {
     "name": "stdout",
     "output_type": "stream",
     "text": [
      "[jovian] Creating a new project \"blackparrotone/python-hash-tables-assignment\"\u001b[0m\n",
      "[jovian] Committed successfully! https://jovian.com/blackparrotone/python-hash-tables-assignment\u001b[0m\n"
     ]
    },
    {
     "data": {
      "text/plain": [
       "'https://jovian.com/blackparrotone/python-hash-tables-assignment'"
      ]
     },
     "execution_count": 3,
     "metadata": {},
     "output_type": "execute_result"
    }
   ],
   "source": [
    "import jovian\n",
    "jovian.commit(project=project, privacy='secret', environment=None)"
   ]
  },
  {
   "cell_type": "code",
   "execution_count": 4,
   "id": "e11a35fa",
   "metadata": {},
   "outputs": [
    {
     "data": {
      "text/plain": [
       "{'Aakash': '9489484949', 'Hemanth': '9595949494', 'Siddhant': '9231325312'}"
      ]
     },
     "execution_count": 4,
     "metadata": {},
     "output_type": "execute_result"
    }
   ],
   "source": [
    "phone_numbers = {\n",
    "  'Aakash' : '9489484949',\n",
    "  'Hemanth' : '9595949494',\n",
    "  'Siddhant' : '9231325312'\n",
    "}\n",
    "phone_numbers"
   ]
  },
  {
   "cell_type": "code",
   "execution_count": 5,
   "id": "8447d160",
   "metadata": {},
   "outputs": [
    {
     "data": {
      "text/plain": [
       "'9489484949'"
      ]
     },
     "execution_count": 5,
     "metadata": {},
     "output_type": "execute_result"
    }
   ],
   "source": [
    "phone_numbers['Aakash']"
   ]
  },
  {
   "cell_type": "code",
   "execution_count": 7,
   "id": "5e24186d",
   "metadata": {},
   "outputs": [
    {
     "data": {
      "text/plain": [
       "{'Aakash': '7878787878',\n",
       " 'Hemanth': '9595949494',\n",
       " 'Siddhant': '9231325312',\n",
       " 'Vishal': '8787878787'}"
      ]
     },
     "execution_count": 7,
     "metadata": {},
     "output_type": "execute_result"
    }
   ],
   "source": [
    "# Add a new value\n",
    "phone_numbers['Vishal'] = '8787878787'\n",
    "# Update existing value\n",
    "phone_numbers['Aakash'] = '7878787878'\n",
    "# View the updated dictionary\n",
    "phone_numbers"
   ]
  },
  {
   "cell_type": "code",
   "execution_count": 9,
   "id": "3b6d9690",
   "metadata": {},
   "outputs": [
    {
     "name": "stdout",
     "output_type": "stream",
     "text": [
      "Name: Aakash Phone Number: 7878787878\n",
      "Name: Hemanth Phone Number: 9595949494\n",
      "Name: Siddhant Phone Number: 9231325312\n",
      "Name: Vishal Phone Number: 8787878787\n"
     ]
    }
   ],
   "source": [
    "for name in phone_numbers:\n",
    "    print('Name:', name, 'Phone Number:', phone_numbers[name])"
   ]
  },
  {
   "cell_type": "code",
   "execution_count": null,
   "id": "8ec84fed",
   "metadata": {},
   "outputs": [],
   "source": [
    "class HashTable:\n",
    "    def insert(self, key, value):\n",
    "        pass\n",
    "    def find(self,key):\n",
    "        pass\n",
    "    def update(self, key, value):\n",
    "        pass\n",
    "    def list_all(self)\n",
    "        pass\n",
    "\n",
    "# the variable 'self' is the same in Java and in C++"
   ]
  },
  {
   "cell_type": "code",
   "execution_count": 10,
   "id": "5ddb2174",
   "metadata": {},
   "outputs": [],
   "source": [
    "MAX_HASH_TABLE_SIZE = 4096"
   ]
  },
  {
   "cell_type": "code",
   "execution_count": 34,
   "id": "1d5ae6c6",
   "metadata": {},
   "outputs": [],
   "source": [
    "data_list = [None]* 4096"
   ]
  },
  {
   "cell_type": "code",
   "execution_count": 35,
   "id": "e04a3d56",
   "metadata": {},
   "outputs": [
    {
     "data": {
      "text/plain": [
       "[None,\n",
       " None,\n",
       " None,\n",
       " None,\n",
       " None,\n",
       " None,\n",
       " None,\n",
       " None,\n",
       " None,\n",
       " None,\n",
       " None,\n",
       " None,\n",
       " None,\n",
       " None,\n",
       " None,\n",
       " None,\n",
       " None,\n",
       " None,\n",
       " None,\n",
       " None,\n",
       " None,\n",
       " None,\n",
       " None,\n",
       " None,\n",
       " None,\n",
       " None,\n",
       " None,\n",
       " None,\n",
       " None,\n",
       " None,\n",
       " None,\n",
       " None,\n",
       " None,\n",
       " None,\n",
       " None,\n",
       " None,\n",
       " None,\n",
       " None,\n",
       " None,\n",
       " None,\n",
       " None,\n",
       " None,\n",
       " None,\n",
       " None,\n",
       " None,\n",
       " None,\n",
       " None,\n",
       " None,\n",
       " None,\n",
       " None,\n",
       " None,\n",
       " None,\n",
       " None,\n",
       " None,\n",
       " None,\n",
       " None,\n",
       " None,\n",
       " None,\n",
       " None,\n",
       " None,\n",
       " None,\n",
       " None,\n",
       " None,\n",
       " None,\n",
       " None,\n",
       " None,\n",
       " None,\n",
       " None,\n",
       " None,\n",
       " None,\n",
       " None,\n",
       " None,\n",
       " None,\n",
       " None,\n",
       " None,\n",
       " None,\n",
       " None,\n",
       " None,\n",
       " None,\n",
       " None,\n",
       " None,\n",
       " None,\n",
       " None,\n",
       " None,\n",
       " None,\n",
       " None,\n",
       " None,\n",
       " None,\n",
       " None,\n",
       " None,\n",
       " None,\n",
       " None,\n",
       " None,\n",
       " None,\n",
       " None,\n",
       " None,\n",
       " None,\n",
       " None,\n",
       " None,\n",
       " None,\n",
       " None,\n",
       " None,\n",
       " None,\n",
       " None,\n",
       " None,\n",
       " None,\n",
       " None,\n",
       " None,\n",
       " None,\n",
       " None,\n",
       " None,\n",
       " None,\n",
       " None,\n",
       " None,\n",
       " None,\n",
       " None,\n",
       " None,\n",
       " None,\n",
       " None,\n",
       " None,\n",
       " None,\n",
       " None,\n",
       " None,\n",
       " None,\n",
       " None,\n",
       " None,\n",
       " None,\n",
       " None,\n",
       " None,\n",
       " None,\n",
       " None,\n",
       " None,\n",
       " None,\n",
       " None,\n",
       " None,\n",
       " None,\n",
       " None,\n",
       " None,\n",
       " None,\n",
       " None,\n",
       " None,\n",
       " None,\n",
       " None,\n",
       " None,\n",
       " None,\n",
       " None,\n",
       " None,\n",
       " None,\n",
       " None,\n",
       " None,\n",
       " None,\n",
       " None,\n",
       " None,\n",
       " None,\n",
       " None,\n",
       " None,\n",
       " None,\n",
       " None,\n",
       " None,\n",
       " None,\n",
       " None,\n",
       " None,\n",
       " None,\n",
       " None,\n",
       " None,\n",
       " None,\n",
       " None,\n",
       " None,\n",
       " None,\n",
       " None,\n",
       " None,\n",
       " None,\n",
       " None,\n",
       " None,\n",
       " None,\n",
       " None,\n",
       " None,\n",
       " None,\n",
       " None,\n",
       " None,\n",
       " None,\n",
       " None,\n",
       " None,\n",
       " None,\n",
       " None,\n",
       " None,\n",
       " None,\n",
       " None,\n",
       " None,\n",
       " None,\n",
       " None,\n",
       " None,\n",
       " None,\n",
       " None,\n",
       " None,\n",
       " None,\n",
       " None,\n",
       " None,\n",
       " None,\n",
       " None,\n",
       " None,\n",
       " None,\n",
       " None,\n",
       " None,\n",
       " None,\n",
       " None,\n",
       " None,\n",
       " None,\n",
       " None,\n",
       " None,\n",
       " None,\n",
       " None,\n",
       " None,\n",
       " None,\n",
       " None,\n",
       " None,\n",
       " None,\n",
       " None,\n",
       " None,\n",
       " None,\n",
       " None,\n",
       " None,\n",
       " None,\n",
       " None,\n",
       " None,\n",
       " None,\n",
       " None,\n",
       " None,\n",
       " None,\n",
       " None,\n",
       " None,\n",
       " None,\n",
       " None,\n",
       " None,\n",
       " None,\n",
       " None,\n",
       " None,\n",
       " None,\n",
       " None,\n",
       " None,\n",
       " None,\n",
       " None,\n",
       " None,\n",
       " None,\n",
       " None,\n",
       " None,\n",
       " None,\n",
       " None,\n",
       " None,\n",
       " None,\n",
       " None,\n",
       " None,\n",
       " None,\n",
       " None,\n",
       " None,\n",
       " None,\n",
       " None,\n",
       " None,\n",
       " None,\n",
       " None,\n",
       " None,\n",
       " None,\n",
       " None,\n",
       " None,\n",
       " None,\n",
       " None,\n",
       " None,\n",
       " None,\n",
       " None,\n",
       " None,\n",
       " None,\n",
       " None,\n",
       " None,\n",
       " None,\n",
       " None,\n",
       " None,\n",
       " None,\n",
       " None,\n",
       " None,\n",
       " None,\n",
       " None,\n",
       " None,\n",
       " None,\n",
       " None,\n",
       " None,\n",
       " None,\n",
       " None,\n",
       " None,\n",
       " None,\n",
       " None,\n",
       " None,\n",
       " None,\n",
       " None,\n",
       " None,\n",
       " None,\n",
       " None,\n",
       " None,\n",
       " None,\n",
       " None,\n",
       " None,\n",
       " None,\n",
       " None,\n",
       " None,\n",
       " None,\n",
       " None,\n",
       " None,\n",
       " None,\n",
       " None,\n",
       " None,\n",
       " None,\n",
       " None,\n",
       " None,\n",
       " None,\n",
       " None,\n",
       " None,\n",
       " None,\n",
       " None,\n",
       " None,\n",
       " None,\n",
       " None,\n",
       " None,\n",
       " None,\n",
       " None,\n",
       " None,\n",
       " None,\n",
       " None,\n",
       " None,\n",
       " None,\n",
       " None,\n",
       " None,\n",
       " None,\n",
       " None,\n",
       " None,\n",
       " None,\n",
       " None,\n",
       " None,\n",
       " None,\n",
       " None,\n",
       " None,\n",
       " None,\n",
       " None,\n",
       " None,\n",
       " None,\n",
       " None,\n",
       " None,\n",
       " None,\n",
       " None,\n",
       " None,\n",
       " None,\n",
       " None,\n",
       " None,\n",
       " None,\n",
       " None,\n",
       " None,\n",
       " None,\n",
       " None,\n",
       " None,\n",
       " None,\n",
       " None,\n",
       " None,\n",
       " None,\n",
       " None,\n",
       " None,\n",
       " None,\n",
       " None,\n",
       " None,\n",
       " None,\n",
       " None,\n",
       " None,\n",
       " None,\n",
       " None,\n",
       " None,\n",
       " None,\n",
       " None,\n",
       " None,\n",
       " None,\n",
       " None,\n",
       " None,\n",
       " None,\n",
       " None,\n",
       " None,\n",
       " None,\n",
       " None,\n",
       " None,\n",
       " None,\n",
       " None,\n",
       " None,\n",
       " None,\n",
       " None,\n",
       " None,\n",
       " None,\n",
       " None,\n",
       " None,\n",
       " None,\n",
       " None,\n",
       " None,\n",
       " None,\n",
       " None,\n",
       " None,\n",
       " None,\n",
       " None,\n",
       " None,\n",
       " None,\n",
       " None,\n",
       " None,\n",
       " None,\n",
       " None,\n",
       " None,\n",
       " None,\n",
       " None,\n",
       " None,\n",
       " None,\n",
       " None,\n",
       " None,\n",
       " None,\n",
       " None,\n",
       " None,\n",
       " None,\n",
       " None,\n",
       " None,\n",
       " None,\n",
       " None,\n",
       " None,\n",
       " None,\n",
       " None,\n",
       " None,\n",
       " None,\n",
       " None,\n",
       " None,\n",
       " None,\n",
       " None,\n",
       " None,\n",
       " None,\n",
       " None,\n",
       " None,\n",
       " None,\n",
       " None,\n",
       " None,\n",
       " None,\n",
       " None,\n",
       " None,\n",
       " None,\n",
       " None,\n",
       " None,\n",
       " None,\n",
       " None,\n",
       " None,\n",
       " None,\n",
       " None,\n",
       " None,\n",
       " None,\n",
       " None,\n",
       " None,\n",
       " None,\n",
       " None,\n",
       " None,\n",
       " None,\n",
       " None,\n",
       " None,\n",
       " None,\n",
       " None,\n",
       " None,\n",
       " None,\n",
       " None,\n",
       " None,\n",
       " None,\n",
       " None,\n",
       " None,\n",
       " None,\n",
       " None,\n",
       " None,\n",
       " None,\n",
       " None,\n",
       " None,\n",
       " None,\n",
       " None,\n",
       " None,\n",
       " None,\n",
       " None,\n",
       " None,\n",
       " None,\n",
       " None,\n",
       " None,\n",
       " None,\n",
       " None,\n",
       " None,\n",
       " None,\n",
       " None,\n",
       " None,\n",
       " None,\n",
       " None,\n",
       " None,\n",
       " None,\n",
       " None,\n",
       " None,\n",
       " None,\n",
       " None,\n",
       " None,\n",
       " None,\n",
       " None,\n",
       " None,\n",
       " None,\n",
       " None,\n",
       " None,\n",
       " None,\n",
       " None,\n",
       " None,\n",
       " None,\n",
       " None,\n",
       " None,\n",
       " None,\n",
       " None,\n",
       " None,\n",
       " None,\n",
       " None,\n",
       " None,\n",
       " None,\n",
       " None,\n",
       " None,\n",
       " None,\n",
       " None,\n",
       " None,\n",
       " None,\n",
       " None,\n",
       " None,\n",
       " None,\n",
       " None,\n",
       " None,\n",
       " None,\n",
       " None,\n",
       " None,\n",
       " None,\n",
       " None,\n",
       " None,\n",
       " None,\n",
       " None,\n",
       " None,\n",
       " None,\n",
       " None,\n",
       " None,\n",
       " None,\n",
       " None,\n",
       " None,\n",
       " None,\n",
       " None,\n",
       " None,\n",
       " None,\n",
       " None,\n",
       " None,\n",
       " None,\n",
       " None,\n",
       " None,\n",
       " None,\n",
       " None,\n",
       " None,\n",
       " None,\n",
       " None,\n",
       " None,\n",
       " None,\n",
       " None,\n",
       " None,\n",
       " None,\n",
       " None,\n",
       " None,\n",
       " None,\n",
       " None,\n",
       " None,\n",
       " None,\n",
       " None,\n",
       " None,\n",
       " None,\n",
       " None,\n",
       " None,\n",
       " None,\n",
       " None,\n",
       " None,\n",
       " None,\n",
       " None,\n",
       " None,\n",
       " None,\n",
       " None,\n",
       " None,\n",
       " None,\n",
       " None,\n",
       " None,\n",
       " None,\n",
       " None,\n",
       " None,\n",
       " None,\n",
       " None,\n",
       " None,\n",
       " None,\n",
       " None,\n",
       " None,\n",
       " None,\n",
       " None,\n",
       " None,\n",
       " None,\n",
       " None,\n",
       " None,\n",
       " None,\n",
       " None,\n",
       " None,\n",
       " None,\n",
       " None,\n",
       " None,\n",
       " None,\n",
       " None,\n",
       " None,\n",
       " None,\n",
       " None,\n",
       " None,\n",
       " None,\n",
       " None,\n",
       " None,\n",
       " None,\n",
       " None,\n",
       " None,\n",
       " None,\n",
       " None,\n",
       " None,\n",
       " None,\n",
       " None,\n",
       " None,\n",
       " None,\n",
       " None,\n",
       " None,\n",
       " None,\n",
       " None,\n",
       " None,\n",
       " None,\n",
       " None,\n",
       " None,\n",
       " None,\n",
       " None,\n",
       " None,\n",
       " None,\n",
       " None,\n",
       " None,\n",
       " None,\n",
       " None,\n",
       " None,\n",
       " None,\n",
       " None,\n",
       " None,\n",
       " None,\n",
       " None,\n",
       " None,\n",
       " None,\n",
       " None,\n",
       " None,\n",
       " None,\n",
       " None,\n",
       " None,\n",
       " None,\n",
       " None,\n",
       " None,\n",
       " None,\n",
       " None,\n",
       " None,\n",
       " None,\n",
       " None,\n",
       " None,\n",
       " None,\n",
       " None,\n",
       " None,\n",
       " None,\n",
       " None,\n",
       " None,\n",
       " None,\n",
       " None,\n",
       " None,\n",
       " None,\n",
       " None,\n",
       " None,\n",
       " None,\n",
       " None,\n",
       " None,\n",
       " None,\n",
       " None,\n",
       " None,\n",
       " None,\n",
       " None,\n",
       " None,\n",
       " None,\n",
       " None,\n",
       " None,\n",
       " None,\n",
       " None,\n",
       " None,\n",
       " None,\n",
       " None,\n",
       " None,\n",
       " None,\n",
       " None,\n",
       " None,\n",
       " None,\n",
       " None,\n",
       " None,\n",
       " None,\n",
       " None,\n",
       " None,\n",
       " None,\n",
       " None,\n",
       " None,\n",
       " None,\n",
       " None,\n",
       " None,\n",
       " None,\n",
       " None,\n",
       " None,\n",
       " None,\n",
       " None,\n",
       " None,\n",
       " None,\n",
       " None,\n",
       " None,\n",
       " None,\n",
       " None,\n",
       " None,\n",
       " None,\n",
       " None,\n",
       " None,\n",
       " None,\n",
       " None,\n",
       " None,\n",
       " None,\n",
       " None,\n",
       " None,\n",
       " None,\n",
       " None,\n",
       " None,\n",
       " None,\n",
       " None,\n",
       " None,\n",
       " None,\n",
       " None,\n",
       " None,\n",
       " None,\n",
       " None,\n",
       " None,\n",
       " None,\n",
       " None,\n",
       " None,\n",
       " None,\n",
       " None,\n",
       " None,\n",
       " None,\n",
       " None,\n",
       " None,\n",
       " None,\n",
       " None,\n",
       " None,\n",
       " None,\n",
       " None,\n",
       " None,\n",
       " None,\n",
       " None,\n",
       " None,\n",
       " None,\n",
       " None,\n",
       " None,\n",
       " None,\n",
       " None,\n",
       " None,\n",
       " None,\n",
       " None,\n",
       " None,\n",
       " None,\n",
       " None,\n",
       " None,\n",
       " None,\n",
       " None,\n",
       " None,\n",
       " None,\n",
       " None,\n",
       " None,\n",
       " None,\n",
       " None,\n",
       " None,\n",
       " None,\n",
       " None,\n",
       " None,\n",
       " None,\n",
       " None,\n",
       " None,\n",
       " None,\n",
       " None,\n",
       " None,\n",
       " None,\n",
       " None,\n",
       " None,\n",
       " None,\n",
       " None,\n",
       " None,\n",
       " None,\n",
       " None,\n",
       " None,\n",
       " None,\n",
       " None,\n",
       " None,\n",
       " None,\n",
       " None,\n",
       " None,\n",
       " None,\n",
       " None,\n",
       " None,\n",
       " None,\n",
       " None,\n",
       " None,\n",
       " None,\n",
       " None,\n",
       " None,\n",
       " None,\n",
       " None,\n",
       " None,\n",
       " None,\n",
       " None,\n",
       " None,\n",
       " None,\n",
       " None,\n",
       " None,\n",
       " None,\n",
       " None,\n",
       " None,\n",
       " None,\n",
       " None,\n",
       " None,\n",
       " None,\n",
       " None,\n",
       " None,\n",
       " None,\n",
       " None,\n",
       " None,\n",
       " None,\n",
       " None,\n",
       " None,\n",
       " None,\n",
       " None,\n",
       " None,\n",
       " None,\n",
       " None,\n",
       " None,\n",
       " None,\n",
       " None,\n",
       " None,\n",
       " None,\n",
       " None,\n",
       " None,\n",
       " None,\n",
       " None,\n",
       " None,\n",
       " None,\n",
       " None,\n",
       " None,\n",
       " None,\n",
       " None,\n",
       " None,\n",
       " None,\n",
       " None,\n",
       " None,\n",
       " None,\n",
       " None,\n",
       " None,\n",
       " None,\n",
       " None,\n",
       " None,\n",
       " None,\n",
       " None,\n",
       " None,\n",
       " None,\n",
       " None,\n",
       " None,\n",
       " None,\n",
       " None,\n",
       " None,\n",
       " None,\n",
       " None,\n",
       " None,\n",
       " None,\n",
       " None,\n",
       " None,\n",
       " None,\n",
       " None,\n",
       " None,\n",
       " None,\n",
       " None,\n",
       " None,\n",
       " None,\n",
       " None,\n",
       " None,\n",
       " None,\n",
       " None,\n",
       " None,\n",
       " None,\n",
       " None,\n",
       " None,\n",
       " None,\n",
       " None,\n",
       " None,\n",
       " None,\n",
       " None,\n",
       " None,\n",
       " None,\n",
       " None,\n",
       " None,\n",
       " None,\n",
       " None,\n",
       " None,\n",
       " None,\n",
       " None,\n",
       " None,\n",
       " None,\n",
       " None,\n",
       " None,\n",
       " None,\n",
       " None,\n",
       " None,\n",
       " None,\n",
       " None,\n",
       " None,\n",
       " None,\n",
       " None,\n",
       " None,\n",
       " None,\n",
       " None,\n",
       " None,\n",
       " None,\n",
       " None,\n",
       " None,\n",
       " None,\n",
       " None,\n",
       " None,\n",
       " None,\n",
       " None,\n",
       " None,\n",
       " None,\n",
       " None,\n",
       " None,\n",
       " None,\n",
       " None,\n",
       " None,\n",
       " None,\n",
       " None,\n",
       " None,\n",
       " None,\n",
       " None,\n",
       " None,\n",
       " None,\n",
       " None,\n",
       " None,\n",
       " None,\n",
       " None,\n",
       " None,\n",
       " None,\n",
       " None,\n",
       " None,\n",
       " None,\n",
       " None,\n",
       " None,\n",
       " None,\n",
       " None,\n",
       " None,\n",
       " None,\n",
       " None,\n",
       " None,\n",
       " None,\n",
       " None,\n",
       " None,\n",
       " None,\n",
       " None,\n",
       " None,\n",
       " None,\n",
       " None,\n",
       " None,\n",
       " None,\n",
       " None,\n",
       " None,\n",
       " None,\n",
       " None,\n",
       " None,\n",
       " None,\n",
       " None,\n",
       " None,\n",
       " None,\n",
       " None,\n",
       " None,\n",
       " None,\n",
       " None,\n",
       " None,\n",
       " None,\n",
       " None,\n",
       " None,\n",
       " None,\n",
       " None,\n",
       " None,\n",
       " None,\n",
       " None,\n",
       " None,\n",
       " None,\n",
       " ...]"
      ]
     },
     "execution_count": 35,
     "metadata": {},
     "output_type": "execute_result"
    }
   ],
   "source": [
    "data_list"
   ]
  },
  {
   "cell_type": "code",
   "execution_count": 36,
   "id": "c3566348",
   "metadata": {},
   "outputs": [
    {
     "data": {
      "text/plain": [
       "4096"
      ]
     },
     "execution_count": 36,
     "metadata": {},
     "output_type": "execute_result"
    }
   ],
   "source": [
    "len(data_list)"
   ]
  },
  {
   "cell_type": "code",
   "execution_count": 37,
   "id": "dcf9cba9",
   "metadata": {},
   "outputs": [],
   "source": [
    "for item in data_list:\n",
    "    assert item == None"
   ]
  },
  {
   "cell_type": "code",
   "execution_count": 38,
   "id": "ed11a247",
   "metadata": {},
   "outputs": [
    {
     "data": {
      "text/plain": [
       "120"
      ]
     },
     "execution_count": 38,
     "metadata": {},
     "output_type": "execute_result"
    }
   ],
   "source": [
    "ord ('x')"
   ]
  },
  {
   "cell_type": "code",
   "execution_count": 39,
   "id": "a7879e92",
   "metadata": {},
   "outputs": [
    {
     "data": {
      "text/plain": [
       "3274"
      ]
     },
     "execution_count": 39,
     "metadata": {},
     "output_type": "execute_result"
    }
   ],
   "source": [
    "343242 % MAX_HASH_TABLE_SIZE"
   ]
  },
  {
   "cell_type": "markdown",
   "id": "f8391893",
   "metadata": {},
   "source": [
    "Index Class"
   ]
  },
  {
   "cell_type": "code",
   "execution_count": 40,
   "id": "edb66660",
   "metadata": {},
   "outputs": [],
   "source": [
    "def get_index(data_list, a_string):\n",
    "    #Variable to store the result\n",
    "    result = 0\n",
    "    \n",
    "    for a_character in a_string:\n",
    "        # Convert the character to a number (using ord)\n",
    "        a_number = ord(a_character)\n",
    "        # Update result by adding the number \n",
    "        result += a_number\n",
    "    \n",
    "    # Take the remainder of the result with the size of the data list\n",
    "    list_index = result % len(data_list)\n",
    "    return list_index"
   ]
  },
  {
   "cell_type": "code",
   "execution_count": 41,
   "id": "48de7ffe",
   "metadata": {},
   "outputs": [
    {
     "data": {
      "text/plain": [
       "True"
      ]
     },
     "execution_count": 41,
     "metadata": {},
     "output_type": "execute_result"
    }
   ],
   "source": [
    "get_index(data_list, '') == 0"
   ]
  },
  {
   "cell_type": "code",
   "execution_count": 42,
   "id": "fe64c836",
   "metadata": {},
   "outputs": [
    {
     "data": {
      "text/plain": [
       "True"
      ]
     },
     "execution_count": 42,
     "metadata": {},
     "output_type": "execute_result"
    }
   ],
   "source": [
    "get_index(data_list, 'Aakash') == 585"
   ]
  },
  {
   "cell_type": "code",
   "execution_count": 43,
   "id": "d3f2e60a",
   "metadata": {},
   "outputs": [
    {
     "data": {
      "text/plain": [
       "941"
      ]
     },
     "execution_count": 43,
     "metadata": {},
     "output_type": "execute_result"
    }
   ],
   "source": [
    "get_index(data_list, 'Don O Leary')"
   ]
  },
  {
   "cell_type": "markdown",
   "id": "2c9af578",
   "metadata": {},
   "source": [
    "Insert"
   ]
  },
  {
   "cell_type": "code",
   "execution_count": 44,
   "id": "86dd29b1",
   "metadata": {},
   "outputs": [],
   "source": [
    "key, value = 'Aakash', '7878787878'"
   ]
  },
  {
   "cell_type": "code",
   "execution_count": 45,
   "id": "39b3a496",
   "metadata": {},
   "outputs": [
    {
     "data": {
      "text/plain": [
       "585"
      ]
     },
     "execution_count": 45,
     "metadata": {},
     "output_type": "execute_result"
    }
   ],
   "source": [
    "idx = get_index(data_list, key)\n",
    "idx"
   ]
  },
  {
   "cell_type": "code",
   "execution_count": 46,
   "id": "4363fbaa",
   "metadata": {},
   "outputs": [],
   "source": [
    "data_list[idx] = (key, value)"
   ]
  },
  {
   "cell_type": "code",
   "execution_count": 47,
   "id": "78bff63c",
   "metadata": {},
   "outputs": [],
   "source": [
    "data_list[get_index(data_list, 'Hemanth')] = ('Hemanth', '9595949494')"
   ]
  },
  {
   "cell_type": "markdown",
   "id": "a493ecee",
   "metadata": {},
   "source": [
    "Find"
   ]
  },
  {
   "cell_type": "code",
   "execution_count": 48,
   "id": "b688d339",
   "metadata": {},
   "outputs": [
    {
     "data": {
      "text/plain": [
       "585"
      ]
     },
     "execution_count": 48,
     "metadata": {},
     "output_type": "execute_result"
    }
   ],
   "source": [
    "idx = get_index(data_list, 'Aakash')\n",
    "idx"
   ]
  },
  {
   "cell_type": "code",
   "execution_count": 49,
   "id": "bafbe208",
   "metadata": {},
   "outputs": [
    {
     "data": {
      "text/plain": [
       "'7878787878'"
      ]
     },
     "execution_count": 49,
     "metadata": {},
     "output_type": "execute_result"
    }
   ],
   "source": [
    "key, value = data_list[idx]\n",
    "value"
   ]
  },
  {
   "cell_type": "markdown",
   "id": "34d63f03",
   "metadata": {},
   "source": [
    "List"
   ]
  },
  {
   "cell_type": "code",
   "execution_count": 50,
   "id": "a7fb2eb5",
   "metadata": {},
   "outputs": [],
   "source": [
    "list1 = [1, 2, 3, 6, 7]"
   ]
  },
  {
   "cell_type": "code",
   "execution_count": 53,
   "id": "07d6d48e",
   "metadata": {},
   "outputs": [],
   "source": [
    "list2 = [x*2 for x in list1]"
   ]
  },
  {
   "cell_type": "code",
   "execution_count": 54,
   "id": "72a9d5f4",
   "metadata": {},
   "outputs": [
    {
     "data": {
      "text/plain": [
       "[2, 4, 6, 12, 14]"
      ]
     },
     "execution_count": 54,
     "metadata": {},
     "output_type": "execute_result"
    }
   ],
   "source": [
    "list2"
   ]
  },
  {
   "cell_type": "code",
   "execution_count": 60,
   "id": "eb76371d",
   "metadata": {},
   "outputs": [],
   "source": [
    "list3 = [1.2, 2.4, 4231.3, 332.4]"
   ]
  },
  {
   "cell_type": "code",
   "execution_count": 63,
   "id": "9c23b874",
   "metadata": {},
   "outputs": [
    {
     "data": {
      "text/plain": [
       "[4232, 333]"
      ]
     },
     "execution_count": 63,
     "metadata": {},
     "output_type": "execute_result"
    }
   ],
   "source": [
    "import math\n",
    "list4 = [math.ceil(x) for x in list3 if x > 3]\n",
    "list4"
   ]
  },
  {
   "cell_type": "code",
   "execution_count": 67,
   "id": "dba0a13b",
   "metadata": {},
   "outputs": [
    {
     "data": {
      "text/plain": [
       "('Nikos', '6943893141')"
      ]
     },
     "execution_count": 67,
     "metadata": {},
     "output_type": "execute_result"
    }
   ],
   "source": [
    "kv = ('Nikos', '6943893141')\n",
    "kv"
   ]
  },
  {
   "cell_type": "code",
   "execution_count": null,
   "id": "746aa042",
   "metadata": {},
   "outputs": [],
   "source": [
    "kv = 'Nikos', '6943893141'\n",
    "kv"
   ]
  },
  {
   "cell_type": "code",
   "execution_count": 72,
   "id": "c2b825ad",
   "metadata": {},
   "outputs": [
    {
     "data": {
      "text/plain": [
       "'Nikos'"
      ]
     },
     "execution_count": 72,
     "metadata": {},
     "output_type": "execute_result"
    }
   ],
   "source": [
    "kv[0]"
   ]
  },
  {
   "cell_type": "code",
   "execution_count": 73,
   "id": "7a04d641",
   "metadata": {},
   "outputs": [
    {
     "data": {
      "text/plain": [
       "'6943893141'"
      ]
     },
     "execution_count": 73,
     "metadata": {},
     "output_type": "execute_result"
    }
   ],
   "source": [
    "kv[1]"
   ]
  },
  {
   "cell_type": "code",
   "execution_count": 64,
   "id": "e7f4f595",
   "metadata": {},
   "outputs": [],
   "source": [
    "pairs = [kv[0] for kv in data_list if kv is not None]"
   ]
  },
  {
   "cell_type": "code",
   "execution_count": 65,
   "id": "c5df4ab8",
   "metadata": {},
   "outputs": [
    {
     "data": {
      "text/plain": [
       "['Aakash', 'Hemanth']"
      ]
     },
     "execution_count": 65,
     "metadata": {},
     "output_type": "execute_result"
    }
   ],
   "source": [
    "pairs"
   ]
  },
  {
   "cell_type": "markdown",
   "id": "d6d9d448",
   "metadata": {},
   "source": [
    "# Class HashTable"
   ]
  },
  {
   "cell_type": "code",
   "execution_count": 78,
   "id": "b1cf930d",
   "metadata": {},
   "outputs": [],
   "source": [
    "class BasicHashTable:\n",
    "    def __init__(self, max_size=MAX_HASH_TABLE_SIZE):\n",
    "        # 1. Create a list of size `max_size` with all values None\n",
    "        self.data_list = [None]*max_size\n",
    "        \n",
    "    def insert(self, key, value): \n",
    "        # 1. Find the index for the key using get_index\n",
    "        idx = get_index(self.data_list, key)\n",
    "        \n",
    "        # 2. Store the key-value pair at the right index\n",
    "        self.data_list[idx] = key, value\n",
    "        \n",
    "    def find (self, key):\n",
    "        # 1. Find the index for the key using get_index\n",
    "        idx = get_index(self.data_list, key)\n",
    "        # 2. Retrieve the data stored at the index\n",
    "        kv = self.data_list[idx]\n",
    "        # 3. Return the value if found, else return None\n",
    "                          \n",
    "        if kv is None:\n",
    "            return None\n",
    "        else:\n",
    "            key, value = kv\n",
    "            return value\n",
    "                \n",
    "    def update(self, key, value):\n",
    "        # 1. Find the index for the key using get_index\n",
    "        idx = get_index(self.data_list, key)\n",
    "        \n",
    "        # 2. Store the new key-value pair at the right index\n",
    "        self.data_list[idx] = key, value\n",
    "\n",
    "    def list_all(self):\n",
    "        # 1. Extract the key from each key-value pair \n",
    "        return [kv[0] for kv in self.data_list if kv is not None]"
   ]
  },
  {
   "cell_type": "code",
   "execution_count": 79,
   "id": "9ffd4d54",
   "metadata": {},
   "outputs": [
    {
     "data": {
      "text/plain": [
       "True"
      ]
     },
     "execution_count": 79,
     "metadata": {},
     "output_type": "execute_result"
    }
   ],
   "source": [
    "basic_table = BasicHashTable(max_size=1024)\n",
    "len(basic_table.data_list) == 1024"
   ]
  },
  {
   "cell_type": "code",
   "execution_count": 85,
   "id": "672b82b3",
   "metadata": {},
   "outputs": [
    {
     "data": {
      "text/plain": [
       "True"
      ]
     },
     "execution_count": 85,
     "metadata": {},
     "output_type": "execute_result"
    }
   ],
   "source": [
    "# Insert some values\n",
    "basic_table.insert('Aakash', '99999999')\n",
    "basic_table.insert('Hemanth', '88888888')\n",
    "\n",
    "#Find a value\n",
    "basic_table.find('Hemanth') == '88888888'"
   ]
  },
  {
   "cell_type": "code",
   "execution_count": 86,
   "id": "849c03d8",
   "metadata": {},
   "outputs": [
    {
     "data": {
      "text/plain": [
       "True"
      ]
     },
     "execution_count": 86,
     "metadata": {},
     "output_type": "execute_result"
    }
   ],
   "source": [
    "# Update a value\n",
    "basic_table.update('Aakash', '7777777')\n",
    "\n",
    "# Check the update value\n",
    "basic_table.find('Aakash') == '7777777'"
   ]
  },
  {
   "cell_type": "code",
   "execution_count": 88,
   "id": "63083989",
   "metadata": {},
   "outputs": [
    {
     "data": {
      "text/plain": [
       "True"
      ]
     },
     "execution_count": 88,
     "metadata": {},
     "output_type": "execute_result"
    }
   ],
   "source": [
    "# Get a list of keys\n",
    "\n",
    "basic_table.list_all() == ['Aakash', 'Hemanth']"
   ]
  },
  {
   "cell_type": "markdown",
   "id": "5047b7bc",
   "metadata": {},
   "source": [
    "# Handling Collisions with Linear Probing"
   ]
  },
  {
   "cell_type": "code",
   "execution_count": 92,
   "id": "73a34c56",
   "metadata": {},
   "outputs": [],
   "source": [
    "basic_table.insert('silent', 200)"
   ]
  },
  {
   "cell_type": "code",
   "execution_count": 93,
   "id": "843ba72e",
   "metadata": {},
   "outputs": [],
   "source": [
    "basic_table.insert('listen', 99)"
   ]
  },
  {
   "cell_type": "code",
   "execution_count": 95,
   "id": "0bcf3690",
   "metadata": {},
   "outputs": [
    {
     "data": {
      "text/plain": [
       "99"
      ]
     },
     "execution_count": 95,
     "metadata": {},
     "output_type": "execute_result"
    }
   ],
   "source": [
    "basic_table.find('silent')"
   ]
  },
  {
   "cell_type": "code",
   "execution_count": 98,
   "id": "98f22c8d",
   "metadata": {},
   "outputs": [],
   "source": [
    "def get_valid_index(data_list, key):\n",
    "    \n",
    "    # Start with the index returned by get_index\n",
    "    idx = get_index(self.data_list, key)\n",
    "\n",
    "    \n",
    "    while True:\n",
    "        # Get the key-value pair stored at idx\n",
    "        kv = data_list[idx]\n",
    "        \n",
    "        # If it is None, return the index\n",
    "        if kv is not None:\n",
    "            return idx\n",
    "\n",
    "        # If the stored key matches the given key, return the index\n",
    "        k, v = kv\n",
    "        if kv [0] == self.data_list[idx]:\n",
    "            return idx    \n",
    "       \n",
    "        # Move to the next index\n",
    "        idx += 1\n",
    "        \n",
    "        # Go back to the start if you have reached the end of the array\n",
    "        if idx == len(data_list):\n",
    "            idx = 0"
   ]
  },
  {
   "cell_type": "code",
   "execution_count": 99,
   "id": "2addcf83",
   "metadata": {},
   "outputs": [
    {
     "data": {
      "text/plain": [
       "2843151126370571855"
      ]
     },
     "execution_count": 99,
     "metadata": {},
     "output_type": "execute_result"
    }
   ],
   "source": [
    "hash(\"hello\")"
   ]
  },
  {
   "cell_type": "markdown",
   "id": "b2bc1829",
   "metadata": {},
   "source": [
    "\n",
    "# Exercises \n",
    "\n",
    "\n",
    "### 1) Hash Table with Linear Probing\n",
    "\n",
    "We can now implement a hash table with linear probing.\n",
    "\n",
    "**QUESTION 5: Complete the hash table (with linear probing) implementation below by following the instructions in the comments.**\n",
    "\n",
    "\n",
    "### 2) (Optional) Python Dictionaries using Hash Tables\n",
    "\n",
    "We can now implement Python dictionaries using hash tables. Also, Python provides a built-in function called `hash` which we can use instead of our custom hash function. It is likely to have far fewer collisions\n",
    "\n",
    "**(Optional) Question: Implement a python-friendly interface for the hash table.**\n",
    "\n",
    "\n",
    "### 3) (Optional) Hash Table Improvements\n",
    "\n",
    "Here are some more improvements/changes you can make to your hash table implementation:\n",
    "\n",
    "* **Track the size of the hash table** i.e. number of key-value pairs so that `len(table)` has complexity O(1).\n",
    "* **Implement deletion with tombstones** as described here: https://research.cs.vt.edu/AVresearch/hashing/deletion.php\n",
    "* **Implement dynamic resizing** to automatically grow/shrink the data list: https://charlesreid1.com/wiki/Hash_Maps/Dynamic_Resizing\n",
    "* **Implement separate chaining**, an alternative to linear probing for collision resolution: https://www.youtube.com/watch/T9gct6Dx-jo"
   ]
  },
  {
   "cell_type": "code",
   "execution_count": null,
   "id": "9c194f14",
   "metadata": {},
   "outputs": [],
   "source": []
  }
 ],
 "metadata": {
  "kernelspec": {
   "display_name": "Python 3 (ipykernel)",
   "language": "python",
   "name": "python3"
  },
  "language_info": {
   "codemirror_mode": {
    "name": "ipython",
    "version": 3
   },
   "file_extension": ".py",
   "mimetype": "text/x-python",
   "name": "python",
   "nbconvert_exporter": "python",
   "pygments_lexer": "ipython3",
   "version": "3.11.5"
  }
 },
 "nbformat": 4,
 "nbformat_minor": 5
}
