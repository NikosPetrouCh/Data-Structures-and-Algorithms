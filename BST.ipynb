{
 "cells": [
  {
   "cell_type": "code",
   "execution_count": 11,
   "id": "ed649ac4",
   "metadata": {},
   "outputs": [],
   "source": [
    "class User:\n",
    "    def __init__(self, username, name, email):\n",
    "        self.username = username\n",
    "        self.name = name \n",
    "        self. email = email\n",
    "        print('User created')\n",
    "    def introduce_yourself (self, guest_name):\n",
    "        print(\"Hi {}, I'am{}! Contact me at {}.\".format(guest_name, self.name, self.email))\n",
    "    def __repr__(self):\n",
    "        return \"User(username='{}', name = '{}', email = '{}')\".format(self.username, self.name, self.email)\n",
    "    def __str__(self):\n",
    "        return self.__repr__()"
   ]
  },
  {
   "cell_type": "code",
   "execution_count": 12,
   "id": "95726b13",
   "metadata": {},
   "outputs": [
    {
     "name": "stdout",
     "output_type": "stream",
     "text": [
      "User created\n",
      "User created\n",
      "User created\n",
      "User created\n",
      "User created\n",
      "User created\n",
      "User created\n"
     ]
    }
   ],
   "source": [
    "aakash = User('aakash', 'Aakash Rai', 'aakash@example.com')\n",
    "biraj = User('biraj', 'Biraj Das', 'biraj@example.com')\n",
    "hemanth = User('hemanth', 'Hemanth Jain', 'hemanth@example.com')\n",
    "jadhesh = User('jadhesh', 'Jadhesh Verma', 'jadhesh@example.com')\n",
    "siddhant = User('siddhant', 'Siddhant Sinha', 'siddhant@example.com')\n",
    "sonaksh = User('sonaksh', 'Sonaksh Kumar', 'sonaksh@example.com')\n",
    "vishal = User('vishal', 'Vishal Goel', 'vishal@example.com')"
   ]
  },
  {
   "cell_type": "code",
   "execution_count": 13,
   "id": "2fcb33b9",
   "metadata": {},
   "outputs": [],
   "source": [
    "class UserDatabase:\n",
    "    def __init__(self):\n",
    "        self.users = []\n",
    "        \n",
    "    def insert (self, user):\n",
    "        i = 0\n",
    "        while i < len(self.users):\n",
    "            if self.users[i].username > user.username:\n",
    "                break\n",
    "            i += 1\n",
    "        self.users.insert(i, user)\n",
    "    \n",
    "    def find(self, username):\n",
    "        for user in self.users:\n",
    "            if user.username == username:\n",
    "                return user\n",
    "            \n",
    "    def update(self, user):\n",
    "        target = self.find(user.username)\n",
    "        target.name, target.email = user.name, user.email\n",
    "        \n",
    "    def list_all(self):\n",
    "        return self.users"
   ]
  },
  {
   "cell_type": "code",
   "execution_count": 14,
   "id": "88c4bae8",
   "metadata": {},
   "outputs": [],
   "source": [
    "database = UserDatabase()"
   ]
  },
  {
   "cell_type": "code",
   "execution_count": 15,
   "id": "2298e222",
   "metadata": {},
   "outputs": [],
   "source": [
    "database.insert(hemanth)\n",
    "database.insert(aakash)\n",
    "database.insert(siddhant)"
   ]
  },
  {
   "cell_type": "code",
   "execution_count": 16,
   "id": "2c4db287",
   "metadata": {},
   "outputs": [
    {
     "data": {
      "text/plain": [
       "[User(username='aakash', name = 'Aakash Rai', email = 'aakash@example.com'),\n",
       " User(username='hemanth', name = 'Hemanth Jain', email = 'hemanth@example.com'),\n",
       " User(username='siddhant', name = 'Siddhant Sinha', email = 'siddhant@example.com')]"
      ]
     },
     "execution_count": 16,
     "metadata": {},
     "output_type": "execute_result"
    }
   ],
   "source": [
    "database.list_all()"
   ]
  },
  {
   "cell_type": "code",
   "execution_count": 17,
   "id": "2c4f5678",
   "metadata": {},
   "outputs": [],
   "source": [
    "class BSTNode():\n",
    "    def __init__(self, key, value=None):\n",
    "        self.key = key\n",
    "        self.value = value\n",
    "        self.left = None\n",
    "        self.right = None\n",
    "        self.parent = None"
   ]
  },
  {
   "cell_type": "code",
   "execution_count": 18,
   "id": "c304d3bd",
   "metadata": {},
   "outputs": [],
   "source": [
    "# Level 0\n",
    "\n",
    "tree = BSTNode(jadhesh.username, jadhesh)"
   ]
  },
  {
   "cell_type": "code",
   "execution_count": 19,
   "id": "ca08c517",
   "metadata": {},
   "outputs": [],
   "source": [
    "# Level 1\n",
    "tree.left = BSTNode(biraj.username, biraj)\n",
    "tree.right = BSTNode(sonaksh.username, sonaksh)"
   ]
  },
  {
   "cell_type": "code",
   "execution_count": 20,
   "id": "3710cff5",
   "metadata": {},
   "outputs": [
    {
     "data": {
      "text/plain": [
       "('biraj',\n",
       " User(username='biraj', name = 'Biraj Das', email = 'biraj@example.com'),\n",
       " 'sonaksh',\n",
       " User(username='sonaksh', name = 'Sonaksh Kumar', email = 'sonaksh@example.com'))"
      ]
     },
     "execution_count": 20,
     "metadata": {},
     "output_type": "execute_result"
    }
   ],
   "source": [
    "# View Level 1\n",
    "tree.left.key, tree.left.value, tree.right.key, tree.right.value"
   ]
  }
 ],
 "metadata": {
  "kernelspec": {
   "display_name": "Python 3 (ipykernel)",
   "language": "python",
   "name": "python3"
  },
  "language_info": {
   "codemirror_mode": {
    "name": "ipython",
    "version": 3
   },
   "file_extension": ".py",
   "mimetype": "text/x-python",
   "name": "python",
   "nbconvert_exporter": "python",
   "pygments_lexer": "ipython3",
   "version": "3.11.5"
  }
 },
 "nbformat": 4,
 "nbformat_minor": 5
}
