{
 "cells": [
  {
   "cell_type": "markdown",
   "id": "4467319a",
   "metadata": {},
   "source": [
    "# Graphs"
   ]
  },
  {
   "cell_type": "markdown",
   "id": "8362ad38",
   "metadata": {},
   "source": [
    "- director graph"
   ]
  },
  {
   "cell_type": "code",
   "execution_count": 5,
   "id": "5f3501cd",
   "metadata": {},
   "outputs": [
    {
     "data": {
      "text/plain": [
       "(5, 7)"
      ]
     },
     "execution_count": 5,
     "metadata": {},
     "output_type": "execute_result"
    }
   ],
   "source": [
    "num_nodes = 5\n",
    "edges = [(0, 1), (0, 4), (1, 2), (1, 3), (1, 4), (2, 3), (3, 4)]\n",
    "num_nodes, len(edges)"
   ]
  },
  {
   "cell_type": "code",
   "execution_count": 10,
   "id": "77e87591",
   "metadata": {},
   "outputs": [
    {
     "data": {
      "text/plain": [
       "[123, 123, 123, 123, 123, 123, 123, 123, 123, 123]"
      ]
     },
     "execution_count": 10,
     "metadata": {},
     "output_type": "execute_result"
    }
   ],
   "source": [
    "[123] * 10 \n"
   ]
  },
  {
   "cell_type": "code",
   "execution_count": 11,
   "id": "00604b3e",
   "metadata": {},
   "outputs": [
    {
     "name": "stdout",
     "output_type": "stream",
     "text": [
      "[[], [], [], [], [], [], [], [], [], []]\n"
     ]
    }
   ],
   "source": [
    "l1 = [[]] * 10\n",
    "print(l1)"
   ]
  },
  {
   "cell_type": "code",
   "execution_count": 17,
   "id": "955de7de",
   "metadata": {
    "scrolled": true
   },
   "outputs": [
    {
     "data": {
      "text/plain": [
       "[[2321, 2321, 2321, 2321, 2321],\n",
       " [2321, 2321, 2321, 2321, 2321],\n",
       " [2321, 2321, 2321, 2321, 2321],\n",
       " [2321, 2321, 2321, 2321, 2321],\n",
       " [2321, 2321, 2321, 2321, 2321],\n",
       " [2321, 2321, 2321, 2321, 2321],\n",
       " [2321, 2321, 2321, 2321, 2321],\n",
       " [2321, 2321, 2321, 2321, 2321],\n",
       " [2321, 2321, 2321, 2321, 2321],\n",
       " [2321, 2321, 2321, 2321, 2321]]"
      ]
     },
     "execution_count": 17,
     "metadata": {},
     "output_type": "execute_result"
    }
   ],
   "source": [
    "l1[0].append(2321)\n",
    "l1[0]\n",
    "l1 # classic bug - because the empty lists are the same object"
   ]
  },
  {
   "cell_type": "code",
   "execution_count": 19,
   "id": "8ec0f40a",
   "metadata": {},
   "outputs": [
    {
     "data": {
      "text/plain": [
       "range(0, 10)"
      ]
     },
     "execution_count": 19,
     "metadata": {},
     "output_type": "execute_result"
    }
   ],
   "source": [
    "range(0,10)"
   ]
  },
  {
   "cell_type": "code",
   "execution_count": 21,
   "id": "3a46be15",
   "metadata": {},
   "outputs": [
    {
     "data": {
      "text/plain": [
       "[0, 1, 2, 3, 4, 5, 6, 7, 8, 9, 10, 11, 12]"
      ]
     },
     "execution_count": 21,
     "metadata": {},
     "output_type": "execute_result"
    }
   ],
   "source": [
    "list(range(0,13))"
   ]
  },
  {
   "cell_type": "code",
   "execution_count": 24,
   "id": "224c372b",
   "metadata": {},
   "outputs": [
    {
     "data": {
      "text/plain": [
       "[0, 1, 2, 3, 4, 5, 6, 7, 8, 9]"
      ]
     },
     "execution_count": 24,
     "metadata": {},
     "output_type": "execute_result"
    }
   ],
   "source": [
    "[x for x in range(10)]"
   ]
  },
  {
   "cell_type": "code",
   "execution_count": 23,
   "id": "6612ae87",
   "metadata": {},
   "outputs": [
    {
     "data": {
      "text/plain": [
       "[0, 2, 4, 6, 8, 10, 12, 14, 16, 18]"
      ]
     },
     "execution_count": 23,
     "metadata": {},
     "output_type": "execute_result"
    }
   ],
   "source": [
    "[x*2 for x in range(10)]"
   ]
  },
  {
   "cell_type": "code",
   "execution_count": 28,
   "id": "cad487ca",
   "metadata": {},
   "outputs": [
    {
     "data": {
      "text/plain": [
       "[[], [], [], [], [], [3214], [], [], [], []]"
      ]
     },
     "execution_count": 28,
     "metadata": {},
     "output_type": "execute_result"
    }
   ],
   "source": [
    "l2 = [[] for _ in range (10)]\n",
    "l2\n",
    "l2[5].append(3214)\n",
    "l2"
   ]
  },
  {
   "cell_type": "code",
   "execution_count": 29,
   "id": "7bfb5e3a",
   "metadata": {
    "scrolled": true
   },
   "outputs": [
    {
     "name": "stdout",
     "output_type": "stream",
     "text": [
      "(0, 1)\n",
      "(0, 4)\n",
      "(1, 2)\n",
      "(1, 3)\n",
      "(1, 4)\n",
      "(2, 3)\n",
      "(3, 4)\n"
     ]
    }
   ],
   "source": [
    "for edge in edges:\n",
    "    print(edge)"
   ]
  },
  {
   "cell_type": "code",
   "execution_count": 33,
   "id": "ec0374c1",
   "metadata": {},
   "outputs": [
    {
     "name": "stdout",
     "output_type": "stream",
     "text": [
      "n1: 0 n2: 1\n",
      "n1: 0 n2: 4\n",
      "n1: 1 n2: 2\n",
      "n1: 1 n2: 3\n",
      "n1: 1 n2: 4\n",
      "n1: 2 n2: 3\n",
      "n1: 3 n2: 4\n"
     ]
    }
   ],
   "source": [
    "for n1, n2 in edges:\n",
    "    print('n1:', n1,'n2:', n2)"
   ]
  },
  {
   "cell_type": "markdown",
   "id": "780afb85",
   "metadata": {},
   "source": [
    "## Adjacency Lists"
   ]
  },
  {
   "cell_type": "code",
   "execution_count": 6,
   "id": "36f16d00",
   "metadata": {},
   "outputs": [],
   "source": [
    "class Graph:\n",
    "    def __init__(self, num_nodes, edges):\n",
    "        self.num_nodes = num_nodes\n",
    "        self.data = [[] for _ in range(num_nodes)]\n",
    "        for n1, n2 in edges:\n",
    "            self.data[n1].append(n2)\n",
    "            self.data[n2].append(n1)\n",
    "    def __repr__(self):\n",
    "        return \"\\n\".join([\"{}:{}\".format(n, neighbors) for n, neighbors in enumerate(graph1.data)])\n",
    "    def __str__(self):\n",
    "        return self.__repr__()"
   ]
  },
  {
   "cell_type": "code",
   "execution_count": 7,
   "id": "f954b962",
   "metadata": {},
   "outputs": [],
   "source": [
    "graph1 = Graph(num_nodes, edges)"
   ]
  },
  {
   "cell_type": "code",
   "execution_count": 8,
   "id": "c0b3ebcc",
   "metadata": {},
   "outputs": [
    {
     "data": {
      "text/plain": [
       "0:[1, 4]\n",
       "1:[0, 2, 3, 4]\n",
       "2:[1, 3]\n",
       "3:[1, 2, 4]\n",
       "4:[0, 1, 3]"
      ]
     },
     "execution_count": 8,
     "metadata": {},
     "output_type": "execute_result"
    }
   ],
   "source": [
    "graph1"
   ]
  },
  {
   "cell_type": "code",
   "execution_count": 39,
   "id": "77c8ecf3",
   "metadata": {},
   "outputs": [
    {
     "data": {
      "text/plain": [
       "[[1, 4], [0, 2, 3, 4], [1, 3], [1, 2, 4], [0, 1, 3]]"
      ]
     },
     "execution_count": 39,
     "metadata": {},
     "output_type": "execute_result"
    }
   ],
   "source": [
    "graph1.data"
   ]
  },
  {
   "cell_type": "code",
   "execution_count": 40,
   "id": "0138a3ed",
   "metadata": {},
   "outputs": [
    {
     "data": {
      "text/plain": [
       "<enumerate at 0x1e6344ed580>"
      ]
     },
     "execution_count": 40,
     "metadata": {},
     "output_type": "execute_result"
    }
   ],
   "source": [
    "enumerate([5, 4, 3, 1])"
   ]
  },
  {
   "cell_type": "code",
   "execution_count": 41,
   "id": "7db22840",
   "metadata": {},
   "outputs": [
    {
     "name": "stdout",
     "output_type": "stream",
     "text": [
      "(0, 5)\n",
      "(1, 3)\n",
      "(2, 4)\n",
      "(3, 1)\n"
     ]
    }
   ],
   "source": [
    "for x in enumerate([5, 3, 4, 1]):\n",
    "    print(x)"
   ]
  },
  {
   "cell_type": "code",
   "execution_count": 43,
   "id": "3a6f7dcd",
   "metadata": {},
   "outputs": [
    {
     "name": "stdout",
     "output_type": "stream",
     "text": [
      "0 5\n",
      "1 3\n",
      "2 4\n",
      "3 1\n"
     ]
    }
   ],
   "source": [
    "for i, v in enumerate([5, 3, 4, 1]):\n",
    "    print(i, v)"
   ]
  },
  {
   "cell_type": "code",
   "execution_count": 46,
   "id": "f735a014",
   "metadata": {},
   "outputs": [
    {
     "name": "stdout",
     "output_type": "stream",
     "text": [
      "(0, [1, 4])\n",
      "(1, [0, 2, 3, 4])\n",
      "(2, [1, 3])\n",
      "(3, [1, 2, 4])\n",
      "(4, [0, 1, 3])\n"
     ]
    }
   ],
   "source": [
    "for x in enumerate(graph1.data):\n",
    "    print(x)"
   ]
  },
  {
   "cell_type": "markdown",
   "id": "ab420876",
   "metadata": {},
   "source": [
    "Adjacency Matrix"
   ]
  },
  {
   "cell_type": "markdown",
   "id": "626c35ab",
   "metadata": {},
   "source": [
    "### Adjacency Lists\n",
    "\n",
    "![](https://i.imgur.com/rgMwkIW.png)\n",
    "\n",
    "\n",
    "> **Question**: Create a class to represent a graph as an adjacency list in Python"
   ]
  },
  {
   "cell_type": "markdown",
   "id": "305dabeb",
   "metadata": {},
   "source": [
    "## Graph Traversal\n",
    "\n",
    "\n",
    "### Breadth-First Search\n",
    "\n",
    "A real-world graph:\n",
    "\n",
    "![](https://upload.wikimedia.org/wikipedia/commons/thumb/a/ad/MapGermanyGraph.svg/500px-MapGermanyGraph.svg.png)\n",
    "\n",
    "Breadth-fist search tree (starting from Frankfurt):\n",
    "\n",
    "![](https://upload.wikimedia.org/wikipedia/commons/thumb/6/63/GermanyBFS.svg/500px-GermanyBFS.svg.png)\n",
    "\n",
    "> **Question**: Implement breadth-first search given a source node in a graph using Python.\n",
    "\n",
    "\n",
    "<img src=\"https://i.imgur.com/E2Up1Pk.png\" width=\"400\">\n",
    "\n",
    "BFS pseudocode (Wikipedia):\n",
    "\n",
    "```\n",
    " 1  procedure BFS(G, root) is\n",
    " 2      let Q be a queue\n",
    " 3      label root as discovered\n",
    " 4      Q.enqueue(root)\n",
    " 5      while Q is not empty do\n",
    " 6          v := Q.dequeue()\n",
    " 7          if v is the goal then\n",
    " 8              return v\n",
    " 9          for all edges from v to w in G.adjacentEdges(v) do\n",
    "10              if w is not labeled as discovered then\n",
    "11                  label w as discovered\n",
    "12                  Q.enqueue(w)\n",
    "```\n"
   ]
  },
  {
   "cell_type": "code",
   "execution_count": 85,
   "id": "97b342ca",
   "metadata": {},
   "outputs": [],
   "source": [
    "def bfs(graph, root):\n",
    "    queue = []\n",
    "    discovered = [False] * len(graph.data)\n",
    "    distance = [None] * len(graph.data)\n",
    "    parent = [None] * len(graph.data)\n",
    "    \n",
    "    discovered[root] = True\n",
    "    queue.append(root)\n",
    "    distance[root] = 0\n",
    "    idx = 0\n",
    "    \n",
    "    while idx < len(queue):\n",
    "        # dequeue\n",
    "        current = queue[idx]\n",
    "        idx += 1\n",
    "        \n",
    "        # check all edges of current\n",
    "        for node in graph.data[current]:\n",
    "            if not discovered[node]:\n",
    "                distance[node] = 1 + distance[current]\n",
    "                parent[node] = current\n",
    "                discovered[node] = True\n",
    "                queue.append(node)\n",
    "    return 'queue, starting from the source node:', queue, 'distance - by the position of each node:', distance, 'parent - by the position of each node:', parent"
   ]
  },
  {
   "cell_type": "code",
   "execution_count": 86,
   "id": "60db7367",
   "metadata": {},
   "outputs": [
    {
     "data": {
      "text/plain": [
       "0:[1, 4]\n",
       "1:[0, 2, 3, 4]\n",
       "2:[1, 3]\n",
       "3:[1, 2, 4]\n",
       "4:[0, 1, 3]"
      ]
     },
     "execution_count": 86,
     "metadata": {},
     "output_type": "execute_result"
    }
   ],
   "source": [
    "graph1"
   ]
  },
  {
   "cell_type": "code",
   "execution_count": 87,
   "id": "223503cd",
   "metadata": {},
   "outputs": [
    {
     "data": {
      "text/plain": [
       "('queue, starting from the source node:',\n",
       " [3, 1, 2, 4, 0],\n",
       " 'distance - by the position of each node:',\n",
       " [2, 1, 1, 0, 1],\n",
       " 'parent - by the position of each node:',\n",
       " [1, 3, 3, None, 3])"
      ]
     },
     "execution_count": 87,
     "metadata": {},
     "output_type": "execute_result"
    }
   ],
   "source": [
    "bfs(graph1, 3)"
   ]
  },
  {
   "cell_type": "markdown",
   "id": "6ba78e31",
   "metadata": {},
   "source": [
    "**Question**: Write a program to check if all the nodes in a graph are connected. Find the connected component."
   ]
  },
  {
   "cell_type": "code",
   "execution_count": 89,
   "id": "db4ffd9e",
   "metadata": {},
   "outputs": [
    {
     "data": {
      "text/plain": [
       "(9, 8)"
      ]
     },
     "execution_count": 89,
     "metadata": {},
     "output_type": "execute_result"
    }
   ],
   "source": [
    "num_nodes3 = 9\n",
    "edges3 = [(0, 1), (0, 3), (1, 2), (2, 3), (4, 5), (4, 6), (5, 6), (7, 8)]\n",
    "num_nodes3, len(edges3)"
   ]
  },
  {
   "cell_type": "markdown",
   "id": "c0e47ab5",
   "metadata": {},
   "source": [
    "## Depth-first search\n",
    "\n",
    "![](https://upload.wikimedia.org/wikipedia/commons/thumb/7/7f/Depth-First-Search.gif/440px-Depth-First-Search.gif)\n",
    "\n",
    "\n",
    "> **Question**: Implement depth first search from a given node in a graph using Python.\n",
    "\n",
    "<img src=\"https://i.imgur.com/E2Up1Pk.png\" width=\"400\">\n",
    "\n",
    "DFS pseudocode (Wikipedia):\n",
    "\n",
    "```\n",
    "procedure DFS_iterative(G, v) is\n",
    "    let S be a stack\n",
    "    S.push(v)\n",
    "    while S is not empty do\n",
    "        v = S.pop()\n",
    "        if v is not labeled as discovered then\n",
    "            label v as discovered\n",
    "            for all edges from v to w in G.adjacentEdges(v) do \n",
    "                S.push(w)\n",
    "```\n",
    "\n"
   ]
  },
  {
   "cell_type": "markdown",
   "id": "27431418",
   "metadata": {},
   "source": [
    "<img src=\"https://cdn.programiz.com/sites/tutorial2program/files/stack.png\" width=\"400\">"
   ]
  },
  {
   "cell_type": "markdown",
   "id": "b859d83b",
   "metadata": {},
   "source": [
    "* FIFO - Bfs - LIFO - Dfs"
   ]
  },
  {
   "cell_type": "code",
   "execution_count": 95,
   "id": "aa09b23d",
   "metadata": {},
   "outputs": [
    {
     "data": {
      "text/plain": [
       "(3, [5, 6, 2])"
      ]
     },
     "execution_count": 95,
     "metadata": {},
     "output_type": "execute_result"
    }
   ],
   "source": [
    "l1 = [5, 6, 2]\n",
    "l1.append(3)\n",
    "v = l1.pop()\n",
    "v, l1"
   ]
  },
  {
   "cell_type": "code",
   "execution_count": 105,
   "id": "300ddae5",
   "metadata": {},
   "outputs": [],
   "source": [
    "def dfs(graph, root):\n",
    "    stack = []\n",
    "    discovered = [False] * len(graph.data)\n",
    "    result = []\n",
    "    \n",
    "    stack.append(root)     \n",
    "    while len(stack) > 0:\n",
    "        current = stack.pop()\n",
    "        if not discovered[current]:\n",
    "            discovered[current] = True\n",
    "            result.append(current)\n",
    "            for node in graph.data[current]:\n",
    "                if not discovered[node]:\n",
    "                    stack.append(node)\n",
    "    return result"
   ]
  },
  {
   "cell_type": "code",
   "execution_count": 106,
   "id": "80be6631",
   "metadata": {},
   "outputs": [
    {
     "data": {
      "text/plain": [
       "0:[1, 4]\n",
       "1:[0, 2, 3, 4]\n",
       "2:[1, 3]\n",
       "3:[1, 2, 4]\n",
       "4:[0, 1, 3]"
      ]
     },
     "execution_count": 106,
     "metadata": {},
     "output_type": "execute_result"
    }
   ],
   "source": [
    "graph1"
   ]
  },
  {
   "cell_type": "code",
   "execution_count": 107,
   "id": "447d487f",
   "metadata": {},
   "outputs": [
    {
     "data": {
      "text/plain": [
       "[3, 4, 1, 2, 0]"
      ]
     },
     "execution_count": 107,
     "metadata": {},
     "output_type": "execute_result"
    }
   ],
   "source": [
    "dfs(graph1, 3) # 3, 4, 1, 2 - 3, 4, 0"
   ]
  },
  {
   "cell_type": "markdown",
   "id": "99c1dd27",
   "metadata": {},
   "source": [
    "> **Question 1**: Write the dfs recursively.\n",
    "    \n",
    "> **Question 2**: Write a function to detect a cycle in a graph\n",
    "> **Question 3**: Implement a paretn for each node.\n"
   ]
  },
  {
   "cell_type": "markdown",
   "id": "7e7cc028",
   "metadata": {},
   "source": [
    "### Weighted Graphs"
   ]
  },
  {
   "cell_type": "code",
   "execution_count": 108,
   "id": "94be14ed",
   "metadata": {},
   "outputs": [
    {
     "data": {
      "text/plain": [
       "(9, 10)"
      ]
     },
     "execution_count": 108,
     "metadata": {},
     "output_type": "execute_result"
    }
   ],
   "source": [
    "# Graph with weights\n",
    "num_nodes5 = 9\n",
    "edges5 = [(0, 1, 3), (0, 3, 2), (0, 8, 4), (1, 7, 4), (2, 7, 2), (2, 3, 6), \n",
    "          (2, 5, 1), (3, 4, 1), (4, 8, 8), (5, 6, 8)]\n",
    "# the two first elements are the nodes that are connected and the third \n",
    "# number is the weight( could be the distance or another information that gives a value to the edge)\n",
    "num_nodes5, len(edges5)"
   ]
  },
  {
   "cell_type": "markdown",
   "id": "45daec9f",
   "metadata": {},
   "source": [
    "### Directed Graphs\n",
    "\n",
    "<img src=\"https://i.imgur.com/8AN7EUV.png\" width=\"480\">"
   ]
  },
  {
   "cell_type": "code",
   "execution_count": 66,
   "id": "f51f6f15",
   "metadata": {},
   "outputs": [
    {
     "data": {
      "text/plain": [
       "(5, 6)"
      ]
     },
     "execution_count": 66,
     "metadata": {},
     "output_type": "execute_result"
    }
   ],
   "source": [
    "num_nodes6 = 5\n",
    "edges6 = [(0, 1), (1, 2), (2, 3), (2, 4), (4, 2), (3, 0)]\n",
    "directed = True\n",
    "num_nodes6, len(edges6)"
   ]
  },
  {
   "cell_type": "code",
   "execution_count": 60,
   "id": "feb4acfd",
   "metadata": {},
   "outputs": [],
   "source": [
    "class Graph:\n",
    "    def __init__ (self, num_nodes, edges, directed= False, weighted=False):\n",
    "        self.num_nodes = num_nodes\n",
    "        self.directed = directed\n",
    "        self.weighted = weighted\n",
    "        self.data = [[] for _ in range(num_nodes)]\n",
    "        self.weight = [[] for _ in range(num_nodes)]\n",
    "        for edge in edges:\n",
    "            if self.weighted:\n",
    "                \n",
    "                 # include weights\n",
    "                node1, node2, weight = edge\n",
    "                self.data[node1].append(node2)\n",
    "                self.weight[node1].append(weight)\n",
    "                if not directed:\n",
    "                    self.data[node2].append(node1)\n",
    "                    self.weight[node2].append(weight)\n",
    "               \n",
    "            else:\n",
    "                  # work without weights\n",
    "                node1, node2 = edge\n",
    "                self.data[node1].append(node2)\n",
    "                if not directed:\n",
    "                    self.data[node2].append(node1)\n",
    "              \n",
    "    def __repr__(self):\n",
    "        result = \"\"\n",
    "        if self.weighted:\n",
    "            for i, (nodes, weights) in enumerate(zip(self.data, self.weight)):\n",
    "                result += \"{}: {}\\n\".format(i, list(zip(nodes, weights)))\n",
    "        else:\n",
    "            for i, nodes in enumerate(self.data):\n",
    "                result += \"{}: {}\\n\".format(i, nodes)\n",
    "        return result"
   ]
  },
  {
   "cell_type": "code",
   "execution_count": 61,
   "id": "887358ad",
   "metadata": {},
   "outputs": [
    {
     "data": {
      "text/plain": [
       "0: [1, 4]\n",
       "1: [0, 2, 3, 4]\n",
       "2: [1, 3]\n",
       "3: [1, 2, 4]\n",
       "4: [0, 1, 3]"
      ]
     },
     "execution_count": 61,
     "metadata": {},
     "output_type": "execute_result"
    }
   ],
   "source": [
    "graph1"
   ]
  },
  {
   "cell_type": "code",
   "execution_count": 62,
   "id": "2c80e030",
   "metadata": {},
   "outputs": [
    {
     "data": {
      "text/plain": [
       "(5, [(0, 1), (0, 4), (1, 2), (1, 3), (1, 4), (2, 3), (3, 4)])"
      ]
     },
     "execution_count": 62,
     "metadata": {},
     "output_type": "execute_result"
    }
   ],
   "source": [
    "num_nodes, edges"
   ]
  },
  {
   "cell_type": "code",
   "execution_count": 63,
   "id": "8839e75b",
   "metadata": {},
   "outputs": [
    {
     "data": {
      "text/plain": [
       "0: [1, 4]\n",
       "1: [0, 2, 3, 4]\n",
       "2: [1, 3]\n",
       "3: [1, 2, 4]\n",
       "4: [0, 1, 3]"
      ]
     },
     "execution_count": 63,
     "metadata": {},
     "output_type": "execute_result"
    }
   ],
   "source": [
    "graph1 = Graph(num_nodes, edges)\n",
    "graph1"
   ]
  },
  {
   "cell_type": "code",
   "execution_count": 64,
   "id": "811023a1",
   "metadata": {},
   "outputs": [
    {
     "data": {
      "text/plain": [
       "0: [1, 4]\n",
       "1: [0, 2, 3, 4]\n",
       "2: [1, 3]\n",
       "3: [1, 2, 4]\n",
       "4: [0, 1, 3]"
      ]
     },
     "execution_count": 64,
     "metadata": {},
     "output_type": "execute_result"
    }
   ],
   "source": [
    "graph1"
   ]
  },
  {
   "cell_type": "code",
   "execution_count": 65,
   "id": "5b84f12b",
   "metadata": {},
   "outputs": [
    {
     "data": {
      "text/plain": [
       "0: [(1, 3), (3, 2), (8, 4)]\n",
       "1: [(0, 3), (7, 4)]\n",
       "2: [(7, 2), (3, 6), (5, 1)]\n",
       "3: [(0, 2), (2, 6), (4, 1)]\n",
       "4: [(3, 1), (8, 8)]\n",
       "5: [(2, 1), (6, 8)]\n",
       "6: [(5, 8)]\n",
       "7: [(1, 4), (2, 2)]\n",
       "8: [(0, 4), (4, 8)]"
      ]
     },
     "execution_count": 65,
     "metadata": {},
     "output_type": "execute_result"
    }
   ],
   "source": [
    "# Graph with weights\n",
    "num_nodes2 = 9\n",
    "edges2 = [(0, 1, 3), (0, 3, 2), (0, 8, 4), (1, 7, 4), (2, 7, 2), (2, 3, 6), \n",
    "          (2, 5, 1), (3, 4, 1), (4, 8, 8), (5, 6, 8)]\n",
    "# the two first elements are the nodes that are connected and the third \n",
    "# number is the weight( could be the distance or another information that gives a value to the edge)\n",
    "graph2 = Graph(num_nodes2, edges2, weighted=True)\n",
    "graph2"
   ]
  },
  {
   "cell_type": "markdown",
   "id": "aa1a0735",
   "metadata": {},
   "source": [
    "![](https://i.imgur.com/wy7ZHRW.png)"
   ]
  },
  {
   "cell_type": "code",
   "execution_count": 68,
   "id": "7ba709f0",
   "metadata": {},
   "outputs": [
    {
     "data": {
      "text/plain": [
       "0: [1]\n",
       "1: [2]\n",
       "2: [3, 4]\n",
       "3: [0]\n",
       "4: [2]"
      ]
     },
     "execution_count": 68,
     "metadata": {},
     "output_type": "execute_result"
    }
   ],
   "source": [
    "num_nodes3 = 5\n",
    "edges3 = [(0, 1), (1, 2), (2, 3), (2, 4), (4, 2), (3, 0)]\n",
    "directed = True\n",
    "\n",
    "graph3 = Graph(num_nodes3, edges3, directed = True)\n",
    "graph3"
   ]
  },
  {
   "cell_type": "markdown",
   "id": "7da28b64",
   "metadata": {},
   "source": [
    "<img src=\"https://i.imgur.com/8AN7EUV.png\" width=\"480\">"
   ]
  },
  {
   "cell_type": "markdown",
   "id": "0728175a",
   "metadata": {},
   "source": [
    "## Shortest Paths\n",
    "\n",
    "\n",
    "> **Question**: Write a function to find the length of the shortest path between two nodes in a weighted directed graph.\n",
    "\n",
    "<img src=\"https://i.imgur.com/Zn5cUkO.png\" width=\"480\">\n",
    "\n",
    "\n",
    "**Dijkstra's algorithm (Wikipedia)**:\n",
    "\n",
    "![](https://upload.wikimedia.org/wikipedia/commons/5/57/Dijkstra_Animation.gif)\n",
    "\n",
    "1. Mark all nodes unvisited. Create a set of all the unvisited nodes called the unvisited set.\n",
    "2. Assign to every node a tentative distance value: set it to zero for our initial node and to infinity for all other nodes. Set the initial node as current.[16]\n",
    "3. For the current node, consider all of its unvisited neighbours and calculate their tentative distances through the current node. Compare the newly calculated tentative distance to the current assigned value and assign the smaller one. For example, if the current node A is marked with a distance of 6, and the edge connecting it with a neighbour B has length 2, then the distance to B through A will be 6 + 2 = 8. If B was previously marked with a distance greater than 8 then change it to 8. Otherwise, the current value will be kept.\n",
    "4. When we are done considering all of the unvisited neighbours of the current node, mark the current node as visited and remove it from the unvisited set. A visited node will never be checked again.\n",
    "5. If the destination node has been marked visited (when planning a route between two specific nodes) or if the smallest tentative distance among the nodes in the unvisited set is infinity (when planning a complete traversal; occurs when there is no connection between the initial node and remaining unvisited nodes), then stop. The algorithm has finished.\n",
    "6. Otherwise, select the unvisited node that is marked with the smallest tentative distance, set it as the new \"current node\", and go back to step 3."
   ]
  },
  {
   "cell_type": "code",
   "execution_count": 94,
   "id": "6925c1e9",
   "metadata": {},
   "outputs": [],
   "source": [
    "def shortest_path(graph, source, target):\n",
    "    visited = [False] * len(graph.data)\n",
    "    parent = [None] * len(graph.data)\n",
    "    distance = [float('inf')] * len(graph.data)\n",
    "    queue = []\n",
    "    \n",
    "    distance[source] = 0\n",
    "    queue.append(source)\n",
    "    idx = 0\n",
    "    \n",
    "    while idx < len(queue) and not visited[target]:\n",
    "        current = queue[idx]\n",
    "        idx +=1\n",
    "        visited[current] = True\n",
    "        \n",
    "        # update the distance of all the neighbors\n",
    "        update_distance(graph, current, distance, parent)\n",
    "        next_node = pick_next_node(distance, visited)\n",
    "        \n",
    "        # find the first unvisited node with the smallest distance\n",
    "        if next_node:\n",
    "            queue.append(next_node)\n",
    "        \n",
    "    return distance[target], queue, parent\n",
    "\n",
    "def update_distance(graph, current, distance, parent= None):\n",
    "    \"\"\"Update the distances of the current node's neighbors\"\"\"\n",
    "    neighbors = graph.data[current]\n",
    "    weights = graph.weight[current]\n",
    "    for i, node in enumerate(neighbors):\n",
    "        weight = weights[i]\n",
    "        if distance[current] + weight < distance[node]:\n",
    "            distance[node] = distance[current] + weight\n",
    "            if parent:\n",
    "                parent[node] = current\n",
    "    \n",
    "def pick_next_node(distance, visited):\n",
    "    \"\"\"Pick the next univisited node at the smallest distance\"\"\"\n",
    "    min_distance = float('inf')\n",
    "    min_node = None\n",
    "    for node in range(len(distance)):\n",
    "        if not visited[node] and distance [node] < min_distance:\n",
    "            min_node = node\n",
    "            min_distance = distance[node]\n",
    "    return min_node"
   ]
  },
  {
   "cell_type": "code",
   "execution_count": 95,
   "id": "3dd4fc9e",
   "metadata": {},
   "outputs": [
    {
     "data": {
      "text/plain": [
       "(6, 7)"
      ]
     },
     "execution_count": 95,
     "metadata": {},
     "output_type": "execute_result"
    }
   ],
   "source": [
    "num_nodes7 = 6\n",
    "edges7 = [(0, 1, 4), (0, 2, 2), (1, 2, 5), (1, 3, 10), (2, 4, 3), (4, 3, 4), (3, 5, 11)]\n",
    "num_nodes7, len(edges7)"
   ]
  },
  {
   "cell_type": "code",
   "execution_count": 96,
   "id": "dac987a1",
   "metadata": {},
   "outputs": [
    {
     "data": {
      "text/plain": [
       "0: [(1, 4), (2, 2)]\n",
       "1: [(2, 5), (3, 10)]\n",
       "2: [(4, 3)]\n",
       "3: [(5, 11)]\n",
       "4: [(3, 4)]\n",
       "5: []"
      ]
     },
     "execution_count": 96,
     "metadata": {},
     "output_type": "execute_result"
    }
   ],
   "source": [
    "graph7 = Graph(num_nodes7, edges7, weighted = True, directed = True)\n",
    "graph7"
   ]
  },
  {
   "cell_type": "code",
   "execution_count": 97,
   "id": "646e0ae9",
   "metadata": {},
   "outputs": [
    {
     "data": {
      "text/plain": [
       "(20, [0, 2, 1, 4, 3, 5], [None, 0, 0, 4, 2, 3])"
      ]
     },
     "execution_count": 97,
     "metadata": {},
     "output_type": "execute_result"
    }
   ],
   "source": [
    "shortest_path(graph7, 0, 5)"
   ]
  },
  {
   "cell_type": "markdown",
   "id": "e246dfdc",
   "metadata": {},
   "source": [
    "<img src=\"https://i.imgur.com/Zn5cUkO.png\" width=\"480\">"
   ]
  },
  {
   "cell_type": "code",
   "execution_count": 98,
   "id": "634b23ae",
   "metadata": {},
   "outputs": [
    {
     "data": {
      "text/plain": [
       "(7, [0, 3, 1, 4, 8, 7, 2], [None, 0, 3, 0, 3, None, None, 1, 0])"
      ]
     },
     "execution_count": 98,
     "metadata": {},
     "output_type": "execute_result"
    }
   ],
   "source": [
    "shortest_path(graph2, 0, 7)"
   ]
  },
  {
   "cell_type": "code",
   "execution_count": 99,
   "id": "6c363783",
   "metadata": {},
   "outputs": [
    {
     "data": {
      "text/plain": [
       "(15, [2, 5, 7, 1, 3, 4], [3, 7, None, 2, 3, 2, 5, 2, 4])"
      ]
     },
     "execution_count": 99,
     "metadata": {},
     "output_type": "execute_result"
    }
   ],
   "source": [
    "shortest_path(graph2, 2, 8)"
   ]
  },
  {
   "cell_type": "markdown",
   "id": "20f11723",
   "metadata": {},
   "source": [
    "**Question** Time and space Complexity for all them. (O(n+m) for dfs and bfs)"
   ]
  },
  {
   "cell_type": "markdown",
   "id": "d9975c60",
   "metadata": {},
   "source": [
    "### Binary Heap\n",
    "\n",
    "A data structure to maintain the running minimum/maximum of a set of numbers, supporting efficient addition/removal.\n",
    "\n",
    "\n",
    "<img src=\"https://i.imgur.com/ABAcM7m.png\" width=\"400\">\n",
    "\n",
    "\n",
    "Heap operations:\n",
    "\n",
    "- Insertion - $O(log N)$\n",
    "- Min/Max - $O(1)$ (depending on type of heap)\n",
    "- Deletion - $O(log N)$\n",
    "- Convert a list to a heap - $O(n)$\n",
    "\n",
    "\n",
    "Python's built-in heap: https://docs.python.org/3/library/heapq.html\n",
    "\n",
    "> **Question**: Implement Dijkstra's shortest path algorithm using the `heap` module from Python. What is the complexity of the algorithm?"
   ]
  }
 ],
 "metadata": {
  "kernelspec": {
   "display_name": "Python 3 (ipykernel)",
   "language": "python",
   "name": "python3"
  },
  "language_info": {
   "codemirror_mode": {
    "name": "ipython",
    "version": 3
   },
   "file_extension": ".py",
   "mimetype": "text/x-python",
   "name": "python",
   "nbconvert_exporter": "python",
   "pygments_lexer": "ipython3",
   "version": "3.11.5"
  }
 },
 "nbformat": 4,
 "nbformat_minor": 5
}
